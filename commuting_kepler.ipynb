{
 "cells": [
  {
   "cell_type": "code",
   "execution_count": 1,
   "id": "eb442c97-22c1-4fad-a3d8-a0fbd51315c5",
   "metadata": {},
   "outputs": [],
   "source": [
    "import geopandas as gpd\n",
    "import pandas as pd\n",
    "import numpy as np\n",
    "import plotly.express as px\n",
    "from keplergl import KeplerGl\n",
    "from keplergl import documentation\n",
    "import pickle\n",
    "%config Completer.use_jedi = False"
   ]
  },
  {
   "cell_type": "code",
   "execution_count": 2,
   "id": "87b55f2a-3868-4d3b-9e8d-307f45958218",
   "metadata": {},
   "outputs": [],
   "source": [
    "def plot_commuting(cod_municipio):\n",
    "    df = pd.read_csv('data/pop/arranjos populacionais/tab01.csv', sep=';', decimal=',', thousands='.')\n",
    "    cod_arranjo = str(df[df['Código do município'] == cod_municipio]['CodArranjo'].values[0])\n",
    "    arranjo = str(df[df['Código do município'] == cod_municipio]['Arranjo'].values[0])\n",
    "    df_commuting = pd.read_csv('data/pop/commuting/commuting.csv')\n",
    "    df_commuting = df_commuting[df_commuting['Arranjo'] == arranjo]\n",
    "    \n",
    "    gdf = gpd.read_file(f'data/territorio/municipalities/arranjos_pop/{cod_arranjo}/arranjo_{cod_arranjo}_municipalities.zip/')\n",
    "\n",
    "    lon = gdf.dissolve(by='CodArranjo').centroid.x[0]\n",
    "    lat = gdf.dissolve(by='CodArranjo').centroid.y[0]\n",
    "\n",
    "    minx, miny, maxx, maxy = gdf.total_bounds\n",
    "    max_bound = max(abs(maxx-minx), abs(maxy-miny)) * 111\n",
    "    zoom = 12.8 - np.log(max_bound)\n",
    "    \n",
    "    with open(\"data/pop/commuting/config.pkl\", \"rb\") as a_file:\n",
    "        dict_config = pickle.load(a_file)\n",
    "    dict_config['config']['mapState'] = {'bearing': 0, 'dragRotate': True, 'pitch': 45, 'latitude':lat, 'longitude':lon, 'zoom':zoom}\n",
    "\n",
    "    \n",
    "    kepler_map =  kepler_map = KeplerGl(height=400)\n",
    "    kepler_map.add_data(data=df_commuting, name='Commuting')\n",
    "    kepler_map.add_data(data=gdf, name='Municipios_Arranjo')\n",
    "    \n",
    "    kepler_map.config = dict_config\n",
    "\n",
    "\n",
    "    return kepler_map"
   ]
  },
  {
   "cell_type": "code",
   "execution_count": 3,
   "id": "27cf39ea-fe06-4a8d-8890-c6bec55c0bd8",
   "metadata": {},
   "outputs": [
    {
     "name": "stderr",
     "output_type": "stream",
     "text": [
      "C:\\Users\\augus\\Anaconda3\\envs\\aulas\\lib\\site-packages\\ipykernel_launcher.py:10: UserWarning:\n",
      "\n",
      "Geometry is in a geographic CRS. Results from 'centroid' are likely incorrect. Use 'GeoSeries.to_crs()' to re-project geometries to a projected CRS before this operation.\n",
      "\n",
      "\n",
      "C:\\Users\\augus\\Anaconda3\\envs\\aulas\\lib\\site-packages\\ipykernel_launcher.py:11: UserWarning:\n",
      "\n",
      "Geometry is in a geographic CRS. Results from 'centroid' are likely incorrect. Use 'GeoSeries.to_crs()' to re-project geometries to a projected CRS before this operation.\n",
      "\n",
      "\n"
     ]
    },
    {
     "name": "stdout",
     "output_type": "stream",
     "text": [
      "User Guide: https://docs.kepler.gl/docs/keplergl-jupyter\n"
     ]
    }
   ],
   "source": [
    "fig = plot_commuting(cod_municipio=2927408)"
   ]
  },
  {
   "cell_type": "code",
   "execution_count": 4,
   "id": "1fd48dba-c908-4022-9254-c2ad6afb71db",
   "metadata": {},
   "outputs": [
    {
     "data": {
      "application/vnd.jupyter.widget-view+json": {
       "model_id": "7f0bb0b31e8d45c0a08a0c8795aea8d2",
       "version_major": 2,
       "version_minor": 0
      },
      "text/plain": [
       "KeplerGl(config={'version': 'v1', 'config': {'visState': {'filters': [], 'layers': [{'id': '4i2fd3g', 'type': …"
      ]
     },
     "metadata": {},
     "output_type": "display_data"
    }
   ],
   "source": [
    "fig"
   ]
  },
  {
   "cell_type": "code",
   "execution_count": 21,
   "id": "9f108406-e75e-4410-ac33-8b8b87b5e4c1",
   "metadata": {},
   "outputs": [],
   "source": [
    "config = fig.config\n",
    "with open(\"data/pop/commuting/config.pkl\", \"wb\") as file:\n",
    "    pickle.dump(config, file)"
   ]
  }
 ],
 "metadata": {
  "kernelspec": {
   "display_name": "aulas",
   "language": "python",
   "name": "aulas"
  },
  "language_info": {
   "codemirror_mode": {
    "name": "ipython",
    "version": 3
   },
   "file_extension": ".py",
   "mimetype": "text/x-python",
   "name": "python",
   "nbconvert_exporter": "python",
   "pygments_lexer": "ipython3",
   "version": "3.6.10"
  },
  "widgets": {
   "application/vnd.jupyter.widget-state+json": {
    "state": {
     "154f9087c02143ee90aec829c585b6d3": {
      "model_module": "@jupyter-widgets/base",
      "model_module_version": "1.2.0",
      "model_name": "LayoutModel",
      "state": {}
     },
     "7f0bb0b31e8d45c0a08a0c8795aea8d2": {
      "model_module": "keplergl-jupyter",
      "model_module_version": "^0.3.0",
      "model_name": "KeplerGlModal",
      "state": {
       "_model_module_version": "^0.3.0",
       "_view_module_version": "^0.3.0",
       "config": {
        "config": {
         "mapState": {
          "bearing": 0,
          "dragRotate": true,
          "isSplit": false,
          "latitude": -12.67939143385848,
          "longitude": -38.29362158627511,
          "pitch": 45,
          "zoom": 8.91638838411535
         },
         "mapStyle": {
          "mapStyles": {},
          "styleType": "dark",
          "threeDBuildingColor": [
           9.665468314072013,
           17.18305478057247,
           31.1442867897876
          ],
          "topLayerGroups": {},
          "visibleLayerGroups": {
           "3d building": false,
           "border": false,
           "building": true,
           "label": true,
           "land": true,
           "road": true,
           "water": true
          }
         },
         "visState": {
          "animationConfig": {
           "currentTime": null,
           "speed": 1
          },
          "filters": [],
          "interactionConfig": {
           "brush": {
            "enabled": false,
            "size": 0.5
           },
           "coordinate": {
            "enabled": false
           },
           "geocoder": {
            "enabled": false
           },
           "tooltip": {
            "compareMode": false,
            "compareType": "absolute",
            "enabled": true,
            "fieldsToShow": {
             "Commuting": [
              {
               "format": null,
               "name": "Município Origem"
              },
              {
               "format": null,
               "name": "Município Destino"
              },
              {
               "format": null,
               "name": "Estudo"
              },
              {
               "format": null,
               "name": "Trabalho"
              },
              {
               "format": null,
               "name": "Trabalho e Estudo"
              },
              {
               "format": null,
               "name": "Movimento Pendular"
              }
             ],
             "Municipios_Arranjo": [
              {
               "format": null,
               "name": "NomMunic"
              }
             ]
            }
           }
          },
          "layerBlending": "normal",
          "layers": [
           {
            "config": {
             "color": [
              255,
              153,
              31
             ],
             "columns": {
              "geojson": "geometry"
             },
             "dataId": "Municipios_Arranjo",
             "hidden": false,
             "isVisible": true,
             "label": "Municipios_Arranjo",
             "textLabel": [
              {
               "alignment": "center",
               "anchor": "start",
               "color": [
                255,
                255,
                255
               ],
               "field": null,
               "offset": [
                0,
                0
               ],
               "size": 18
              }
             ],
             "visConfig": {
              "colorRange": {
               "category": "Uber",
               "colors": [
                "#5A1846",
                "#900C3F",
                "#C70039",
                "#E3611C",
                "#F1920E",
                "#FFC300"
               ],
               "name": "Global Warming",
               "type": "sequential"
              },
              "elevationScale": 5,
              "enable3d": false,
              "enableElevationZoomFactor": true,
              "filled": false,
              "heightRange": [
               0,
               500
              ],
              "opacity": 0.8,
              "radius": 10,
              "radiusRange": [
               0,
               50
              ],
              "sizeRange": [
               0,
               10
              ],
              "strokeColor": [
               129,
               116,
               107
              ],
              "strokeColorRange": {
               "category": "Uber",
               "colors": [
                "#5A1846",
                "#900C3F",
                "#C70039",
                "#E3611C",
                "#F1920E",
                "#FFC300"
               ],
               "name": "Global Warming",
               "type": "sequential"
              },
              "strokeOpacity": 0.8,
              "stroked": true,
              "thickness": 2.1,
              "wireframe": false
             }
            },
            "id": "4i2fd3g",
            "type": "geojson",
            "visualChannels": {
             "colorField": null,
             "colorScale": "quantile",
             "heightField": null,
             "heightScale": "linear",
             "radiusField": null,
             "radiusScale": "linear",
             "sizeField": null,
             "sizeScale": "linear",
             "strokeColorField": null,
             "strokeColorScale": "quantile"
            }
           },
           {
            "config": {
             "color": [
              183,
              136,
              94
             ],
             "columns": {
              "lat0": "Latitude Origem",
              "lat1": "Latitude Destino",
              "lng0": "Longitude Origem",
              "lng1": "Longitude Destino"
             },
             "dataId": "Commuting",
             "hidden": false,
             "isVisible": true,
             "label": "new layer",
             "textLabel": [
              {
               "alignment": "center",
               "anchor": "start",
               "color": [
                255,
                255,
                255
               ],
               "field": null,
               "offset": [
                0,
                0
               ],
               "size": 18
              }
             ],
             "visConfig": {
              "colorRange": {
               "category": "ColorBrewer",
               "colors": [
                "#ffffb2",
                "#fed976",
                "#feb24c",
                "#fd8d3c",
                "#f03b20",
                "#bd0026"
               ],
               "name": "ColorBrewer YlOrRd-6",
               "type": "sequential"
              },
              "opacity": 0.8,
              "sizeRange": [
               0,
               10
              ],
              "targetColor": null,
              "thickness": 2
             }
            },
            "id": "me0ia3m",
            "type": "arc",
            "visualChannels": {
             "colorField": {
              "name": "Movimento Pendular",
              "type": "integer"
             },
             "colorScale": "quantize",
             "sizeField": {
              "name": "Movimento Pendular",
              "type": "integer"
             },
             "sizeScale": "linear"
            }
           }
          ],
          "splitMaps": []
         }
        },
        "version": "v1"
       },
       "data": {
        "Commuting": {
         "columns": [
          "Arranjo",
          "Município Origem",
          "CodOrigem",
          "Latitude Origem",
          "Longitude Origem",
          "Município Destino",
          "CodDestino",
          "Latitude Destino",
          "Longitude Destino",
          "Estudo",
          "Trabalho",
          "Trabalho e Estudo",
          "Movimento Pendular"
         ],
         "data": [
          [
           "Salvador/BA",
           "Camaçari",
           2905701,
           -12.6996,
           -38.3263,
           "Candeias",
           2906501,
           -12.6716,
           -38.5472,
           65,
           1048,
           0,
           1113
          ],
          [
           "Salvador/BA",
           "Camaçari",
           2905701,
           -12.6996,
           -38.3263,
           "Dias d'Ávila",
           2910057,
           -12.6187,
           -38.2926,
           90,
           875,
           0,
           966
          ],
          [
           "Salvador/BA",
           "Camaçari",
           2905701,
           -12.6996,
           -38.3263,
           "Lauro de Freitas",
           2919207,
           -12.8978,
           -38.321,
           1258,
           2308,
           53,
           3513
          ],
          [
           "Salvador/BA",
           "Camaçari",
           2905701,
           -12.6996,
           -38.3263,
           "Madre de Deus",
           2919926,
           -12.7446,
           -38.6153,
           0,
           34,
           0,
           34
          ],
          [
           "Salvador/BA",
           "Camaçari",
           2905701,
           -12.6996,
           -38.3263,
           "Mata de São João",
           2921005,
           -12.5307,
           -38.3009,
           399,
           1532,
           21,
           1909
          ],
          [
           "Salvador/BA",
           "Camaçari",
           2905701,
           -12.6996,
           -38.3263,
           "Salvador",
           2927408,
           -12.9718,
           -38.5011,
           2689,
           5177,
           488,
           7378
          ],
          [
           "Salvador/BA",
           "Camaçari",
           2905701,
           -12.6996,
           -38.3263,
           "São Francisco do Conde",
           2929206,
           -12.6183,
           -38.6786,
           12,
           134,
           0,
           147
          ],
          [
           "Salvador/BA",
           "Camaçari",
           2905701,
           -12.6996,
           -38.3263,
           "São Sebastião do Passé",
           2929503,
           -12.5123,
           -38.4905,
           15,
           43,
           0,
           58
          ],
          [
           "Salvador/BA",
           "Camaçari",
           2905701,
           -12.6996,
           -38.3263,
           "Simões Filho",
           2930709,
           -12.7866,
           -38.4029,
           26,
           544,
           0,
           570
          ],
          [
           "Salvador/BA",
           "Candeias",
           2906501,
           -12.6716,
           -38.5472,
           "Camaçari",
           2905701,
           -12.6996,
           -38.3263,
           23,
           933,
           0,
           956
          ],
          [
           "Salvador/BA",
           "Candeias",
           2906501,
           -12.6716,
           -38.5472,
           "Dias d'Ávila",
           2910057,
           -12.6187,
           -38.2926,
           0,
           62,
           0,
           62
          ],
          [
           "Salvador/BA",
           "Candeias",
           2906501,
           -12.6716,
           -38.5472,
           "Lauro de Freitas",
           2919207,
           -12.8978,
           -38.321,
           14,
           63,
           0,
           78
          ],
          [
           "Salvador/BA",
           "Candeias",
           2906501,
           -12.6716,
           -38.5472,
           "Madre de Deus",
           2919926,
           -12.7446,
           -38.6153,
           251,
           713,
           7,
           956
          ],
          [
           "Salvador/BA",
           "Candeias",
           2906501,
           -12.6716,
           -38.5472,
           "Salvador",
           2927408,
           -12.9718,
           -38.5011,
           849,
           746,
           47,
           1548
          ],
          [
           "Salvador/BA",
           "Candeias",
           2906501,
           -12.6716,
           -38.5472,
           "São Francisco do Conde",
           2929206,
           -12.6183,
           -38.6786,
           95,
           2055,
           0,
           2151
          ],
          [
           "Salvador/BA",
           "Candeias",
           2906501,
           -12.6716,
           -38.5472,
           "São Sebastião do Passé",
           2929503,
           -12.5123,
           -38.4905,
           42,
           88,
           0,
           131
          ],
          [
           "Salvador/BA",
           "Candeias",
           2906501,
           -12.6716,
           -38.5472,
           "Simões Filho",
           2930709,
           -12.7866,
           -38.4029,
           97,
           232,
           0,
           330
          ],
          [
           "Salvador/BA",
           "Dias d'Ávila",
           2910057,
           -12.6187,
           -38.2926,
           "Camaçari",
           2905701,
           -12.6996,
           -38.3263,
           650,
           4078,
           212,
           4516
          ],
          [
           "Salvador/BA",
           "Dias d'Ávila",
           2910057,
           -12.6187,
           -38.2926,
           "Candeias",
           2906501,
           -12.6716,
           -38.5472,
           0,
           430,
           0,
           430
          ],
          [
           "Salvador/BA",
           "Dias d'Ávila",
           2910057,
           -12.6187,
           -38.2926,
           "Lauro de Freitas",
           2919207,
           -12.8978,
           -38.321,
           51,
           120,
           23,
           148
          ],
          [
           "Salvador/BA",
           "Dias d'Ávila",
           2910057,
           -12.6187,
           -38.2926,
           "Madre de Deus",
           2919926,
           -12.7446,
           -38.6153,
           0,
           86,
           0,
           86
          ],
          [
           "Salvador/BA",
           "Dias d'Ávila",
           2910057,
           -12.6187,
           -38.2926,
           "Mata de São João",
           2921005,
           -12.5307,
           -38.3009,
           68,
           176,
           0,
           244
          ],
          [
           "Salvador/BA",
           "Dias d'Ávila",
           2910057,
           -12.6187,
           -38.2926,
           "Salvador",
           2927408,
           -12.9718,
           -38.5011,
           529,
           1283,
           32,
           1780
          ],
          [
           "Salvador/BA",
           "Dias d'Ávila",
           2910057,
           -12.6187,
           -38.2926,
           "São Francisco do Conde",
           2929206,
           -12.6183,
           -38.6786,
           10,
           32,
           0,
           43
          ],
          [
           "Salvador/BA",
           "Dias d'Ávila",
           2910057,
           -12.6187,
           -38.2926,
           "São Sebastião do Passé",
           2929503,
           -12.5123,
           -38.4905,
           51,
           29,
           0,
           80
          ],
          [
           "Salvador/BA",
           "Dias d'Ávila",
           2910057,
           -12.6187,
           -38.2926,
           "Simões Filho",
           2930709,
           -12.7866,
           -38.4029,
           0,
           94,
           0,
           94
          ],
          [
           "Salvador/BA",
           "Lauro de Freitas",
           2919207,
           -12.8978,
           -38.321,
           "Camaçari",
           2905701,
           -12.6996,
           -38.3263,
           83,
           2750,
           13,
           2820
          ],
          [
           "Salvador/BA",
           "Lauro de Freitas",
           2919207,
           -12.8978,
           -38.321,
           "Candeias",
           2906501,
           -12.6716,
           -38.5472,
           0,
           250,
           0,
           250
          ],
          [
           "Salvador/BA",
           "Lauro de Freitas",
           2919207,
           -12.8978,
           -38.321,
           "Dias d'Ávila",
           2910057,
           -12.6187,
           -38.2926,
           0,
           223,
           0,
           223
          ],
          [
           "Salvador/BA",
           "Lauro de Freitas",
           2919207,
           -12.8978,
           -38.321,
           "Madre de Deus",
           2919926,
           -12.7446,
           -38.6153,
           0,
           72,
           0,
           72
          ],
          [
           "Salvador/BA",
           "Lauro de Freitas",
           2919207,
           -12.8978,
           -38.321,
           "Mata de São João",
           2921005,
           -12.5307,
           -38.3009,
           0,
           126,
           0,
           126
          ],
          [
           "Salvador/BA",
           "Lauro de Freitas",
           2919207,
           -12.8978,
           -38.321,
           "Salvador",
           2927408,
           -12.9718,
           -38.5011,
           4085,
           18233,
           1423,
           20894
          ],
          [
           "Salvador/BA",
           "Lauro de Freitas",
           2919207,
           -12.8978,
           -38.321,
           "São Francisco do Conde",
           2929206,
           -12.6183,
           -38.6786,
           12,
           71,
           0,
           84
          ],
          [
           "Salvador/BA",
           "Lauro de Freitas",
           2919207,
           -12.8978,
           -38.321,
           "São Sebastião do Passé",
           2929503,
           -12.5123,
           -38.4905,
           0,
           77,
           0,
           77
          ],
          [
           "Salvador/BA",
           "Lauro de Freitas",
           2919207,
           -12.8978,
           -38.321,
           "Simões Filho",
           2930709,
           -12.7866,
           -38.4029,
           133,
           637,
           0,
           771
          ],
          [
           "Salvador/BA",
           "Madre de Deus",
           2919926,
           -12.7446,
           -38.6153,
           "Camaçari",
           2905701,
           -12.6996,
           -38.3263,
           0,
           39,
           4,
           35
          ],
          [
           "Salvador/BA",
           "Madre de Deus",
           2919926,
           -12.7446,
           -38.6153,
           "Candeias",
           2906501,
           -12.6716,
           -38.5472,
           123,
           374,
           9,
           488
          ],
          [
           "Salvador/BA",
           "Madre de Deus",
           2919926,
           -12.7446,
           -38.6153,
           "Dias d'Ávila",
           2910057,
           -12.6187,
           -38.2926,
           0,
           10,
           0,
           10
          ],
          [
           "Salvador/BA",
           "Madre de Deus",
           2919926,
           -12.7446,
           -38.6153,
           "Lauro de Freitas",
           2919207,
           -12.8978,
           -38.321,
           11,
           11,
           0,
           23
          ],
          [
           "Salvador/BA",
           "Madre de Deus",
           2919926,
           -12.7446,
           -38.6153,
           "Salvador",
           2927408,
           -12.9718,
           -38.5011,
           251,
           317,
           35,
           533
          ],
          [
           "Salvador/BA",
           "Madre de Deus",
           2919926,
           -12.7446,
           -38.6153,
           "São Francisco do Conde",
           2929206,
           -12.6183,
           -38.6786,
           4,
           871,
           0,
           876
          ],
          [
           "Salvador/BA",
           "Madre de Deus",
           2919926,
           -12.7446,
           -38.6153,
           "São Sebastião do Passé",
           2929503,
           -12.5123,
           -38.4905,
           0,
           11,
           0,
           11
          ],
          [
           "Salvador/BA",
           "Madre de Deus",
           2919926,
           -12.7446,
           -38.6153,
           "Simões Filho",
           2930709,
           -12.7866,
           -38.4029,
           4,
           66,
           0,
           71
          ],
          [
           "Salvador/BA",
           "Mata de São João",
           2921005,
           -12.5307,
           -38.3009,
           "Camaçari",
           2905701,
           -12.6996,
           -38.3263,
           171,
           949,
           0,
           1121
          ],
          [
           "Salvador/BA",
           "Mata de São João",
           2921005,
           -12.5307,
           -38.3009,
           "Candeias",
           2906501,
           -12.6716,
           -38.5472,
           0,
           206,
           0,
           206
          ],
          [
           "Salvador/BA",
           "Mata de São João",
           2921005,
           -12.5307,
           -38.3009,
           "Dias d'Ávila",
           2910057,
           -12.6187,
           -38.2926,
           92,
           408,
           0,
           501
          ],
          [
           "Salvador/BA",
           "Mata de São João",
           2921005,
           -12.5307,
           -38.3009,
           "Lauro de Freitas",
           2919207,
           -12.8978,
           -38.321,
           50,
           48,
           0,
           98
          ],
          [
           "Salvador/BA",
           "Mata de São João",
           2921005,
           -12.5307,
           -38.3009,
           "Salvador",
           2927408,
           -12.9718,
           -38.5011,
           271,
           283,
           29,
           525
          ],
          [
           "Salvador/BA",
           "Mata de São João",
           2921005,
           -12.5307,
           -38.3009,
           "São Sebastião do Passé",
           2929503,
           -12.5123,
           -38.4905,
           33,
           21,
           0,
           55
          ],
          [
           "Salvador/BA",
           "Mata de São João",
           2921005,
           -12.5307,
           -38.3009,
           "Simões Filho",
           2930709,
           -12.7866,
           -38.4029,
           9,
           20,
           0,
           29
          ],
          [
           "Salvador/BA",
           "Salvador",
           2927408,
           -12.9718,
           -38.5011,
           "Camaçari",
           2905701,
           -12.6996,
           -38.3263,
           353,
           14434,
           96,
           14691
          ],
          [
           "Salvador/BA",
           "Salvador",
           2927408,
           -12.9718,
           -38.5011,
           "Candeias",
           2906501,
           -12.6716,
           -38.5472,
           310,
           4270,
           0,
           4580
          ],
          [
           "Salvador/BA",
           "Salvador",
           2927408,
           -12.9718,
           -38.5011,
           "Dias d'Ávila",
           2910057,
           -12.6187,
           -38.2926,
           62,
           1156,
           0,
           1218
          ],
          [
           "Salvador/BA",
           "Salvador",
           2927408,
           -12.9718,
           -38.5011,
           "Lauro de Freitas",
           2919207,
           -12.8978,
           -38.321,
           2683,
           12134,
           210,
           14607
          ],
          [
           "Salvador/BA",
           "Salvador",
           2927408,
           -12.9718,
           -38.5011,
           "Madre de Deus",
           2919926,
           -12.7446,
           -38.6153,
           246,
           1244,
           12,
           1478
          ],
          [
           "Salvador/BA",
           "Salvador",
           2927408,
           -12.9718,
           -38.5011,
           "Mata de São João",
           2921005,
           -12.5307,
           -38.3009,
           31,
           948,
           0,
           979
          ],
          [
           "Salvador/BA",
           "Salvador",
           2927408,
           -12.9718,
           -38.5011,
           "São Francisco do Conde",
           2929206,
           -12.6183,
           -38.6786,
           31,
           1204,
           0,
           1236
          ],
          [
           "Salvador/BA",
           "Salvador",
           2927408,
           -12.9718,
           -38.5011,
           "São Sebastião do Passé",
           2929503,
           -12.5123,
           -38.4905,
           53,
           605,
           0,
           658
          ],
          [
           "Salvador/BA",
           "Salvador",
           2927408,
           -12.9718,
           -38.5011,
           "Simões Filho",
           2930709,
           -12.7866,
           -38.4029,
           571,
           5944,
           0,
           6515
          ],
          [
           "Salvador/BA",
           "São Francisco do Conde",
           2929206,
           -12.6183,
           -38.6786,
           "Camaçari",
           2905701,
           -12.6996,
           -38.3263,
           0,
           87,
           0,
           87
          ],
          [
           "Salvador/BA",
           "São Francisco do Conde",
           2929206,
           -12.6183,
           -38.6786,
           "Candeias",
           2906501,
           -12.6716,
           -38.5472,
           213,
           433,
           16,
           630
          ],
          [
           "Salvador/BA",
           "São Francisco do Conde",
           2929206,
           -12.6183,
           -38.6786,
           "Lauro de Freitas",
           2919207,
           -12.8978,
           -38.321,
           41,
           9,
           0,
           50
          ],
          [
           "Salvador/BA",
           "São Francisco do Conde",
           2929206,
           -12.6183,
           -38.6786,
           "Madre de Deus",
           2919926,
           -12.7446,
           -38.6153,
           359,
           182,
           33,
           507
          ],
          [
           "Salvador/BA",
           "São Francisco do Conde",
           2929206,
           -12.6183,
           -38.6786,
           "Salvador",
           2927408,
           -12.9718,
           -38.5011,
           651,
           238,
           0,
           889
          ],
          [
           "Salvador/BA",
           "São Francisco do Conde",
           2929206,
           -12.6183,
           -38.6786,
           "São Sebastião do Passé",
           2929503,
           -12.5123,
           -38.4905,
           9,
           31,
           0,
           40
          ],
          [
           "Salvador/BA",
           "São Francisco do Conde",
           2929206,
           -12.6183,
           -38.6786,
           "Simões Filho",
           2930709,
           -12.7866,
           -38.4029,
           0,
           11,
           0,
           11
          ],
          [
           "Salvador/BA",
           "São Sebastião do Passé",
           2929503,
           -12.5123,
           -38.4905,
           "Camaçari",
           2905701,
           -12.6996,
           -38.3263,
           17,
           448,
           0,
           465
          ],
          [
           "Salvador/BA",
           "São Sebastião do Passé",
           2929503,
           -12.5123,
           -38.4905,
           "Candeias",
           2906501,
           -12.6716,
           -38.5472,
           126,
           904,
           0,
           1031
          ],
          [
           "Salvador/BA",
           "São Sebastião do Passé",
           2929503,
           -12.5123,
           -38.4905,
           "Dias d'Ávila",
           2910057,
           -12.6187,
           -38.2926,
           0,
           8,
           0,
           8
          ],
          [
           "Salvador/BA",
           "São Sebastião do Passé",
           2929503,
           -12.5123,
           -38.4905,
           "Lauro de Freitas",
           2919207,
           -12.8978,
           -38.321,
           7,
           53,
           0,
           61
          ],
          [
           "Salvador/BA",
           "São Sebastião do Passé",
           2929503,
           -12.5123,
           -38.4905,
           "Madre de Deus",
           2919926,
           -12.7446,
           -38.6153,
           0,
           416,
           0,
           416
          ],
          [
           "Salvador/BA",
           "São Sebastião do Passé",
           2929503,
           -12.5123,
           -38.4905,
           "Mata de São João",
           2921005,
           -12.5307,
           -38.3009,
           11,
           22,
           0,
           34
          ],
          [
           "Salvador/BA",
           "São Sebastião do Passé",
           2929503,
           -12.5123,
           -38.4905,
           "Salvador",
           2927408,
           -12.9718,
           -38.5011,
           341,
           849,
           21,
           1170
          ],
          [
           "Salvador/BA",
           "São Sebastião do Passé",
           2929503,
           -12.5123,
           -38.4905,
           "São Francisco do Conde",
           2929206,
           -12.6183,
           -38.6786,
           22,
           280,
           0,
           302
          ],
          [
           "Salvador/BA",
           "São Sebastião do Passé",
           2929503,
           -12.5123,
           -38.4905,
           "Simões Filho",
           2930709,
           -12.7866,
           -38.4029,
           0,
           36,
           0,
           36
          ],
          [
           "Salvador/BA",
           "Simões Filho",
           2930709,
           -12.7866,
           -38.4029,
           "Camaçari",
           2905701,
           -12.6996,
           -38.3263,
           101,
           1975,
           9,
           2067
          ],
          [
           "Salvador/BA",
           "Simões Filho",
           2930709,
           -12.7866,
           -38.4029,
           "Candeias",
           2906501,
           -12.6716,
           -38.5472,
           92,
           930,
           0,
           1023
          ],
          [
           "Salvador/BA",
           "Simões Filho",
           2930709,
           -12.7866,
           -38.4029,
           "Dias d'Ávila",
           2910057,
           -12.6187,
           -38.2926,
           0,
           121,
           0,
           121
          ],
          [
           "Salvador/BA",
           "Simões Filho",
           2930709,
           -12.7866,
           -38.4029,
           "Lauro de Freitas",
           2919207,
           -12.8978,
           -38.321,
           128,
           450,
           5,
           574
          ],
          [
           "Salvador/BA",
           "Simões Filho",
           2930709,
           -12.7866,
           -38.4029,
           "Madre de Deus",
           2919926,
           -12.7446,
           -38.6153,
           0,
           69,
           0,
           69
          ],
          [
           "Salvador/BA",
           "Simões Filho",
           2930709,
           -12.7866,
           -38.4029,
           "Salvador",
           2927408,
           -12.9718,
           -38.5011,
           1977,
           8403,
           509,
           9871
          ],
          [
           "Salvador/BA",
           "Simões Filho",
           2930709,
           -12.7866,
           -38.4029,
           "São Francisco do Conde",
           2929206,
           -12.6183,
           -38.6786,
           0,
           113,
           0,
           113
          ],
          [
           "Salvador/BA",
           "Simões Filho",
           2930709,
           -12.7866,
           -38.4029,
           "São Sebastião do Passé",
           2929503,
           -12.5123,
           -38.4905,
           13,
           21,
           0,
           34
          ]
         ],
         "index": [
          2842,
          2843,
          2844,
          2845,
          2846,
          2847,
          2848,
          2849,
          2850,
          2851,
          2852,
          2853,
          2854,
          2855,
          2856,
          2857,
          2858,
          2859,
          2860,
          2861,
          2862,
          2863,
          2864,
          2865,
          2866,
          2867,
          2868,
          2869,
          2870,
          2871,
          2872,
          2873,
          2874,
          2875,
          2876,
          2877,
          2878,
          2879,
          2880,
          2881,
          2882,
          2883,
          2884,
          2885,
          2886,
          2887,
          2888,
          2889,
          2890,
          2891,
          2892,
          2893,
          2894,
          2895,
          2896,
          2897,
          2898,
          2899,
          2900,
          2901,
          2902,
          2903,
          2904,
          2905,
          2906,
          2907,
          2908,
          2909,
          2910,
          2911,
          2912,
          2913,
          2914,
          2915,
          2916,
          2917,
          2918,
          2919,
          2920,
          2921,
          2922,
          2923,
          2924
         ]
        },
        "Municipios_Arranjo": {
         "columns": [
          "CodMunic",
          "NomMunic",
          "CodArranjo",
          "NomeArranj",
          "Shape_Leng",
          "Shape_Area",
          "geometry"
         ],
         "data": [
          [
           2929503,
           "São Sebastião do Passé",
           "2927408",
           "Salvador/BA",
           1.19816444888,
           0.0447675146515,
           "POLYGON ((-38.6221322643924623 -12.4910027677634616, -38.6221321996412712 -12.4910494767519253, -38.6221321717622459 -12.4910692744274456, -38.6221321348900801 -12.4910940093809586, -38.6221320377632651 -12.4911596014343900, -38.6221320287700678 -12.4911655360605778, -38.6220723038936740 -12.4913462494297960, -38.6220341438606170 -12.4913987077840716, -38.6131151228645990 -12.4934957712128494, -38.6115288257946077 -12.4967064246617383, -38.5621929995072605 -12.4224738405952166, -38.5599803812895061 -12.4215919564036312, -38.5599274256101694 -12.4216517658163070, -38.5597389501923544 -12.4226660724812064, -38.5582836276872172 -12.4219990516148755, -38.5582783010027583 -12.4219892472059428, -38.5581756919546024 -12.4214708527975972, -38.5581456725846579 -12.4214108131584453, -38.5581117006943828 -12.4213811418262026, -38.5559281018004185 -12.4215692826961686, -38.5558122898052602 -12.4215021752851271, -38.5556343841195144 -12.4210840202113104, -38.5556375092635903 -12.4210746447789688, -38.5543076511771119 -12.4196218331809973, -38.5542367522243126 -12.4195824968347210, -38.5534532295828285 -12.4197740551284710, -38.5534029098163842 -12.4197475125376400, -38.5532313038815460 -12.4177180115769374, -38.5532638467490756 -12.4176701316711728, -38.5532731061688878 -12.4176357829649646, -38.5532727815136127 -12.4175778036726570, -38.5532539524079425 -12.4175380887117512, -38.5525490934658706 -12.4175673868253966, -38.5525464980224228 -12.4175061762690007, -38.5525608799806037 -12.4170217285698641, -38.5525510288068745 -12.4170079203791488, -38.5499163731420822 -12.4184269102736380, -38.5491532471245932 -12.4170637844660519, -38.5491026872391558 -12.4170392833362371, -38.5476162499899146 -12.4173759166651507, -38.5469347761189738 -12.4145597274494435, -38.5468375027485308 -12.4144148790433633, -38.5441798721033706 -12.4147603841843193, -38.5404804838871655 -12.4121172371207535, -38.5404499968698246 -12.4121895282240757, -38.5403291819461629 -12.4187527283556847, -38.5382233564226908 -12.4195553067319793, -38.5383615624361369 -12.4213023378325715, -38.5370755588899101 -12.4205806462797455, -38.5370653003233201 -12.4205400140103848, -38.5370282113827898 -12.4204887904252814, -38.5370166146250313 -12.4204811632750420, -38.5343539954404832 -12.4210104403794617, -38.5322911188400212 -12.4185628365056573, -38.5272858493624426 -12.4169440343396786, -38.5272033086857277 -12.4170046549408539, -38.5262775735511127 -12.4166030950567574, -38.5262677781354341 -12.4165768195645114, -38.5262084363702115 -12.4164963185502302, -38.5260821958366364 -12.4164010848421640, -38.5258338030874938 -12.4156983366088980, -38.5257851003020733 -12.4156656813260611, -38.5257108136030979 -12.4155353335887071, -38.5245598999193817 -12.4155125213857218, -38.5244561307458184 -12.4154074392018856, -38.5243849197282202 -12.4151052867795215, -38.5243399895987864 -12.4150202001221146, -38.5203717049901684 -12.4181565093153949, -38.5168046933818573 -12.4146858609636865, -38.5173017792536712 -12.4135383026505224, -38.5152176543712130 -12.4136919311376914, -38.5123431432214147 -12.4158706224312141, -38.5103089433030732 -12.4212944705633390, -38.5084912596638560 -12.4216140095788319, -38.5076990675578941 -12.4201620955042813, -38.5075861001183739 -12.4200570016292886, -38.5048212361111268 -12.4186756465637700, -38.5041890567795235 -12.4269929860374191, -38.5020515796166478 -12.4275641895356443, -38.5018814359794419 -12.4260808531487896, -38.5018366146679796 -12.4259433225262796, -38.5001983565688306 -12.4267143679736591, -38.4978265295706592 -12.4224665632812048, -38.4929533066497243 -12.4204291860580156, -38.4936478692537207 -12.4133255401414999, -38.4884425626740949 -12.4123147327386505, -38.4792923664494992 -12.4168331893001778, -38.4723551095006542 -12.4159309471554593, -38.4723314249552573 -12.4159380589941861, -38.4723263518795875 -12.4159397110487930, -38.4659429118358958 -12.4163360944351666, -38.4635677537488050 -12.4188670016108063, -38.4627632598165405 -12.4172621236480154, -38.4603238388740465 -12.4174743051949577, -38.4565177478957025 -12.4245426698083179, -38.4548876673319455 -12.4244245510521409, -38.4531313606237291 -12.4279160393936650, -38.4506048763139461 -12.4274777790761846, -38.4462317367052151 -12.4318735995868792, -38.4337277653240790 -12.4311107604531799, -38.4339111991424716 -12.4279769333887202, -38.4325038257908886 -12.4265588014474702, -38.4337973054012991 -12.4261862330081954, -38.4307900021568116 -12.4239129204448773, -38.4255743039109348 -12.4239019145416592, -38.4232715160675866 -12.4284599781454403, -38.4205292556205791 -12.4261871188404029, -38.4200566483955868 -12.4272983607307310, -38.4156488722975951 -12.4267978700256094, -38.4113853042883306 -12.4235486401575486, -38.4118969717678169 -12.4226735134718069, -38.4077754184007745 -12.4233960926554801, -38.4067695698597049 -12.4222870666947074, -38.4012850957305432 -12.4239641800028835, -38.3978077456309279 -12.4293902215814001, -38.3951458566958763 -12.4290632757495132, -38.3944213439697819 -12.4308385419651017, -38.3869325319107588 -12.4306308947998900, -38.3790954412016276 -12.4372304500251971, -38.3751188027904959 -12.4349389378816113, -38.3734561415876101 -12.4357444111755626, -38.3688450674458750 -12.4405570386763316, -38.3684397519929234 -12.4441803784216631, -38.3648259090883812 -12.4436673403753844, -38.3634468158178379 -12.4470089620938893, -38.3526111767643556 -12.4449378117305969, -38.3497198590841890 -12.4376814303536776, -38.3400598335944096 -12.4359183247708529, -38.3399239100603495 -12.4359385388324313, -38.3399212633555635 -12.4359388266154838, -38.3368896874090979 -12.4382995200068081, -38.3368895633026341 -12.4382996665962651, -38.3366355821663660 -12.4401617101947295, -38.3364207449213836 -12.4401865647581076, -38.3353722361397331 -12.4398267487054568, -38.3352022345953856 -12.4397702991599317, -38.3351971156542959 -12.4397685994412655, -38.3351963539285521 -12.4397683476311158, -38.3351916495749379 -12.4397667936025869, -38.3351745777445103 -12.4397611539540662, -38.3332849087714749 -12.4404139025795075, -38.3331682091454695 -12.4402697988120963, -38.3331675076743181 -12.4402689327649796, -38.3324623591504974 -12.4400510764959336, -38.3323031090012591 -12.4401954554558642, -38.3320354042105009 -12.4404252897952574, -38.3318440635526372 -12.4404103493581033, -38.3306162317536518 -12.4409408261581689, -38.3848383750909079 -12.4826095749718888, -38.3840116157434181 -12.4833541569687441, -38.3837278733426501 -12.4836785909941455, -38.3836891179583972 -12.4837228106591169, -38.3836605141214022 -12.4837552986680294, -38.3771392053100158 -12.4931735702040783, -38.3763322931008020 -12.4988613091020966, -38.3731469357824153 -12.5018823476921739, -38.3735181633325055 -12.5084063652615214, -38.3707558003398503 -12.5075199260037380, -38.3663900045950186 -12.5088298811940035, -38.3665197416926844 -12.5090172801233166, -38.3696550670276793 -12.5119652056296786, -38.3665557802250419 -12.5161095999779945, -38.3683144449556153 -12.5190791487836464, -38.3681370572793412 -12.5257922667996127, -38.3781869172923393 -12.5386303561060117, -38.3810115457462189 -12.5393701654007828, -38.3860445790940048 -12.5455938022121813, -38.3926160619816415 -12.5443204728115347, -38.3970165490744648 -12.5461683341013099, -38.4006349173674835 -12.5508352561421361, -38.4067148164355672 -12.5510463126371974, -38.3866551468175317 -12.5566716799540359, -38.3870598947982558 -12.5610887127738238, -38.3844898913953330 -12.5663482376809839, -38.3779176845534380 -12.5709356569549300, -38.3765327771658917 -12.5772415061904894, -38.3731934433226911 -12.5809790697282438, -38.3703152350599908 -12.5813023472255168, -38.3676055075880527 -12.5854511779294853, -38.3670010660463277 -12.5902446786489577, -38.3669953130831800 -12.5902493542242837, -38.3692043178249378 -12.5941261076337128, -38.3723094691066535 -12.5959502277207775, -38.3705178622095104 -12.6003145171012534, -38.3774949618230039 -12.5986926617368908, -38.3810989319700866 -12.6008204927715042, -38.3806363512865119 -12.6037830520461966, -38.3807211177852992 -12.6038206509022643, -38.3907566533968065 -12.6050079385654499, -38.3946275791993799 -12.6105204400661819, -38.3954047256475519 -12.6049453943144272, -38.3993721163300847 -12.6021322529011286, -38.3993897583306421 -12.6020998152542347, -38.3995683996618595 -12.6008326408136782, -38.3996030010775939 -12.6004520252407133, -38.4019056486267232 -12.5988577161106718, -38.4020553012111350 -12.5989011632580059, -38.4021037647768821 -12.5987169991901169, -38.4020950728292974 -12.5986813590574229, -38.4020944954645529 -12.5986789947397710, -38.4021615597081905 -12.5981820581554302, -38.4021993150462890 -12.5981710063867922, -38.4025302520694254 -12.5982905127968934, -38.4027919601807639 -12.5980869611443040, -38.4030052029277158 -12.5978640255043501, -38.4031295467910923 -12.5977943927969704, -38.4032475252530503 -12.5977283250021515, -38.4032044099554923 -12.5976381751615918, -38.4032409889804285 -12.5974246734098756, -38.4034413831133179 -12.5972630661375433, -38.4109436742111257 -12.6006264973149769, -38.4147045131027767 -12.6006846537737260, -38.4183296865657553 -12.6060184168164255, -38.4217310367578762 -12.6065198536082903, -38.4235520865594822 -12.6052767414284403, -38.4246970593217725 -12.6077902269373681, -38.4298268992919247 -12.6085224036859245, -38.4302433573450344 -12.6100038389059819, -38.4374984796710351 -12.6079101758139132, -38.4409608830382581 -12.6090617361101636, -38.4489736410207001 -12.6061527359599381, -38.4533736038087000 -12.6017309637129529, -38.4603052274042625 -12.6073273917456845, -38.4635556749544207 -12.6078971518320486, -38.4651698429138946 -12.6114864459426599, -38.4711400525713429 -12.6091419799183768, -38.4723122855834845 -12.6019450149504451, -38.4758180812394244 -12.6010562986092509, -38.4796037567079452 -12.5957948806291711, -38.4823298797201119 -12.5952005861381053, -38.4832988659498483 -12.5907809335931802, -38.4876218917368647 -12.5890943720075938, -38.4896004506002782 -12.5922603102650328, -38.5068766123657156 -12.5961816106927245, -38.5124825138568667 -12.6018332517031695, -38.5174733204373183 -12.6019199661334937, -38.5209523531685250 -12.6064232592260055, -38.5246826330969725 -12.6050104278888853, -38.5287526634046458 -12.6066112975732949, -38.5310709007014793 -12.6102674994455128, -38.5336494440665547 -12.6090382602075124, -38.5392788520373415 -12.6129727779712653, -38.5464539661775802 -12.6138519857804567, -38.5498013930198340 -12.6171587560717171, -38.5550883130751458 -12.6195707270073854, -38.5574027633268201 -12.6262388996054824, -38.5605982658972266 -12.6301572088880221, -38.5791660717567879 -12.6320706874122379, -38.6208295838181925 -12.5542565667871031, -38.6396512206272860 -12.5698702723951214, -38.6421315921991777 -12.5705513388731447, -38.6470482748579798 -12.5681813258074726, -38.6456156953080381 -12.5589157609535391, -38.6517178516974695 -12.5539896336146626, -38.6443260549034449 -12.5130715147385558, -38.6379451023845490 -12.4767617333672547, -38.6367133108705616 -12.4779801897338984, -38.6364461663574730 -12.4781760566796152, -38.6354784202928272 -12.4785699273602404, -38.6353776512575564 -12.4785562100010452, -38.6348625843407376 -12.4792309821240792, -38.6348719157062988 -12.4792645133465498, -38.6348256617748120 -12.4794362595756638, -38.6347768501714768 -12.4794615215319595, -38.6346722401317493 -12.4799062902430364, -38.6346473693805592 -12.4799216299791738, -38.6321835129587043 -12.4809432715147182, -38.6321428150388329 -12.4809409827400941, -38.6320902946313254 -12.4809852203915739, -38.6320891111235483 -12.4810375771224358, -38.6320669473317366 -12.4812257323815743, -38.6320538019413675 -12.4812420811570632, -38.6313585648458684 -12.4810674193258819, -38.6312671667462837 -12.4810773415460403, -38.6311679832157893 -12.4811286505667454, -38.6311513727376337 -12.4811593723071610, -38.6311144115008460 -12.4812778175171957, -38.6311097602072095 -12.4813021936412838, -38.6307303713095394 -12.4812266119185438, -38.6307252946365907 -12.4812268475409383, -38.6307229042386098 -12.4812269581575492, -38.6297674240273636 -12.4819242564992123, -38.6297672261765115 -12.4819316453290980, -38.6283889521883452 -12.4839688471844852, -38.6283871904164471 -12.4839695153808066, -38.6267039788055513 -12.4848301072236154, -38.6266725672850839 -12.4848829118168965, -38.6265583111170940 -12.4850125751701739, -38.6265205719668074 -12.4850179477200527, -38.6263211113301850 -12.4848521855798822, -38.6262870962724492 -12.4848268184028939, -38.6262363978914323 -12.4848279029852733, -38.6251325844012285 -12.4864375680392641, -38.6251801468462759 -12.4866429111414163, -38.6240247329550357 -12.4875935215237632, -38.6240141686189418 -12.4875995415855527, -38.6230977207831643 -12.4890598922002027, -38.6230728149583911 -12.4890969316780343, -38.6226040613283317 -12.4899784093760218, -38.6225708538617596 -12.4900068495364280, -38.6222676645210754 -12.4907516635583988, -38.6222640024816997 -12.4907591180387954, -38.6221322643924623 -12.4910027677634616))"
          ],
          [
           2927408,
           "Salvador",
           "2927408",
           "Salvador/BA",
           1.32118117531,
           0.0577501627601,
           "POLYGON ((-38.4550550905199771 -12.8384159571306782, -38.4549044936474047 -12.8385348484044925, -38.4550174107249063 -12.8421396423306078, -38.4510445260839901 -12.8453843405148405, -38.4510191966785442 -12.8454046040391745, -38.4508522654196554 -12.8455831716260036, -38.4506390082835878 -12.8456897997444344, -38.4503546642363290 -12.8458319717680638, -38.4464304023411501 -12.8408363592105843, -38.4433132226270686 -12.8401162189882712, -38.4431815780673105 -12.8400503967084205, -38.4408750346551074 -12.8396841352146112, -38.4407412937756590 -12.8397458610825765, -38.4340028400589517 -12.8458053266544425, -38.4336016192193028 -12.8458670534217276, -38.4281491285793777 -12.8490459572051350, -38.4291990825715857 -12.8581650314909552, -38.4227832255653539 -12.8561113396665405, -38.4207681371397598 -12.8574701730100287, -38.4207102810545962 -12.8576342003580066, -38.4197998200056645 -12.8603621885641246, -38.4167875381143631 -12.8621685173631590, -38.4159967507494002 -12.8669667790935591, -38.4094015356523073 -12.8703275212980088, -38.4067695581685484 -12.8735387143401567, -38.4022490790317192 -12.8723489346555766, -38.4022492391110291 -12.8679765783563766, -38.3993111333020920 -12.8655034580181109, -38.3993088472254840 -12.8654930087952835, -38.4007114847472053 -12.8620443200892396, -38.3996691579052936 -12.8600819148484220, -38.3968360704282645 -12.8595572224878083, -38.3932319249133798 -12.8555234456504763, -38.3901051512316940 -12.8545687046819239, -38.3903915727128719 -12.8504394531182129, -38.3928000255007191 -12.8465988227774233, -38.3927306868716869 -12.8457850946064127, -38.3893181635024234 -12.8392147187842056, -38.3892846061995670 -12.8391079440763178, -38.3883109237100939 -12.8353283102532600, -38.3882434080068151 -12.8350920043924361, -38.3820397766143628 -12.8300801230991510, -38.3819387179974001 -12.8298317591283535, -38.3816318324430767 -12.8276688986007343, -38.3794120601184545 -12.8261651826770162, -38.3788940416266655 -12.8225714072445953, -38.3714428607993341 -12.8262436629146919, -38.3714284671499968 -12.8262638967613611, -38.3714245425085778 -12.8262694132027946, -38.3714234588255181 -12.8262708575140323, -38.3714189145512137 -12.8262762966137416, -38.3709529245377894 -12.8266698867058722, -38.3709217387471995 -12.8266873425467907, -38.3671915568448298 -12.8262273474140898, -38.3657396958302570 -12.8274480952533736, -38.3655218665408597 -12.8275804718612676, -38.3652538442894411 -12.8276983684848460, -38.3646381441350286 -12.8280575595086930, -38.3642617679661839 -12.8283594196514628, -38.3642286918006334 -12.8283832444910786, -38.3547448920630814 -12.8356020324078486, -38.3521831588256532 -12.8528669535470499, -38.3535852054927773 -12.8580637795197390, -38.3549436386379625 -12.8758544290386112, -38.3550591529574945 -12.8791331989379501, -38.3550001844109261 -12.8841278977841966, -38.3549494725400564 -12.8866776628437947, -38.3548630063226597 -12.8946656274167140, -38.3487369801275122 -12.8984725538652469, -38.3487320563392586 -12.8984755755872698, -38.3468100171685364 -12.8996542756243002, -38.3464140825438449 -12.8998970844828023, -38.3406170643260111 -12.9039975046810582, -38.3345696883404230 -12.9026036049723416, -38.3323461127828296 -12.8994515297642351, -38.3294680286265930 -12.8999793814432451, -38.3280824980088255 -12.8987756505757716, -38.3253400693886306 -12.9007697065566731, -38.3199097200574670 -12.9001872480430393, -38.3157546561524214 -12.9033914011921524, -38.3061033441939571 -12.9035791202801420, -38.3055339078634915 -12.9065261554576409, -38.3068263532535411 -12.9067368621164746, -38.3040495831216958 -12.9105365067543403, -38.3041551509394367 -12.9106786787779697, -38.3043303775448294 -12.9108703890571519, -38.3174161608271220 -12.9294460720785196, -38.3424661316066704 -12.9507668681963537, -38.3560465752891560 -12.9575650207090689, -38.3618860855743264 -12.9538709627746584, -38.3641295352497878 -12.9507177193472103, -38.3694401101728886 -12.9507972643821745, -38.3767251961108968 -12.9534524137978337, -38.3787470753172215 -12.9559683337715228, -38.3852925129390883 -12.9560418506508199, -38.3988248186104215 -12.9619829177773909, -38.4129310032631679 -12.9731265854235289, -38.4299553620502934 -12.9836206196957846, -38.4346061574481723 -12.9876671048529602, -38.4413139047128993 -12.9975462672463777, -38.4459961565972890 -12.9982754123803375, -38.4535650200096484 -13.0058485862431894, -38.4588781490073188 -13.0067520793449489, -38.4667274282281824 -13.0116399108531482, -38.4683551004075071 -13.0162307358597218, -38.4691887485618622 -13.0145454315264146, -38.4735367233410557 -13.0138365706011996, -38.4796367276528031 -13.0160760281860917, -38.4820317283815143 -13.0146749761691467, -38.4882968940863748 -13.0173807133492119, -38.4890352563719489 -13.0142597106171252, -38.4918209181008706 -13.0136732456237496, -38.4927003993039420 -13.0116327882225278, -38.4967166411599919 -13.0107305065076275, -38.4990755071289072 -13.0122223091122464, -38.5016740334298788 -13.0109217158644697, -38.5075372030794369 -13.0120083568001519, -38.5098429389004764 -13.0109688538294677, -38.5112142854109152 -13.0126769236010773, -38.5114183128048353 -13.0113007207515921, -38.5145581626290436 -13.0112159074881220, -38.5152836268378564 -13.0095915933773085, -38.5237934167327580 -13.0116635747141345, -38.5263935231425307 -13.0096180487338984, -38.5328073989422819 -13.0112870834320802, -38.5337955182485530 -13.0103018275672184, -38.5855848488616289 -13.0127028294719480, -38.5853105052755723 -13.0026622252814263, -38.5822777080497303 -12.9924892399864120, -38.5681633692440755 -12.9715318068473380, -38.5618444456645761 -12.9578839940510306, -38.5600107747773677 -12.9400443683528579, -38.5641577249989496 -12.9232378145734401, -38.5717614524290298 -12.9095686185968361, -38.5887994890051687 -12.8926173306252849, -38.6057844925602467 -12.8824214881611283, -38.6614895792806124 -12.8550459020466974, -38.6748966768401488 -12.8454248963418536, -38.6880116035526385 -12.8305457497864950, -38.6955840597565270 -12.8164172205782165, -38.6985645506134688 -12.8005534126098723, -38.6989553725923088 -12.7813535731088450, -38.6952205447922779 -12.7541117215786244, -38.5879018154163873 -12.7539553726422810, -38.5879342647544945 -12.7338819865643700, -38.5763639722194966 -12.7339590710542439, -38.5611688308767953 -12.7367662067949823, -38.5484757005930874 -12.7358508363469696, -38.5408476177233297 -12.7388410443786597, -38.5350331319734210 -12.7387329440700796, -38.5329431579003767 -12.7387016674479696, -38.5254444506008440 -12.7436509181553106, -38.5157079611534527 -12.7436332761546964, -38.5097107448549423 -12.7465017510548932, -38.5084590378542657 -12.7482761530220046, -38.5080484568707675 -12.7669616126882488, -38.5038422449236464 -12.7793295184424665, -38.4996493600298777 -12.7847130211889066, -38.4912723793167970 -12.7908236024272810, -38.4855948360328171 -12.7892809377649996, -38.4838490729762839 -12.7882360055871231, -38.4801730788244640 -12.7847978938077063, -38.4741810983789492 -12.7844796893861030, -38.4674959375873868 -12.7872845066746095, -38.4622706921387021 -12.7914831112565253, -38.4605087268961938 -12.7976499882562962, -38.4662046676112936 -12.8166788387573547, -38.4635879093544872 -12.8235022856019327, -38.4642086421151248 -12.8291003126292935, -38.4574191293892795 -12.8319129774019416, -38.4571020320331058 -12.8322174653636694, -38.4570559040067224 -12.8322668894053891, -38.4571210976604902 -12.8328256966485128, -38.4572712574625371 -12.8331128115070214, -38.4575601098111974 -12.8336651148531473, -38.4579127420793156 -12.8345114335557469, -38.4581735193923464 -12.8368956792921267, -38.4580846492871160 -12.8371821520346430, -38.4579499955957544 -12.8375103677092284, -38.4578848019419866 -12.8376314425369742, -38.4567323926857512 -12.8382120655343783, -38.4564412146902441 -12.8381716230219354, -38.4550550905199771 -12.8384159571306782))"
          ],
          [
           2905701,
           "Camaçari",
           "2927408",
           "Salvador/BA",
           1.80469689967,
           0.065319012128,
           "POLYGON ((-38.3723390711911634 -12.6724693353914972, -38.3722289887767829 -12.6723347905181072, -38.3594092537340430 -12.6578648741645452, -38.3499096214318342 -12.6387237702857078, -38.3395813510984453 -12.6445583702725344, -38.3400662007944675 -12.6360388488137687, -38.3400892899887253 -12.6348382655734781, -38.3373656122331568 -12.6298424173936041, -38.3222360773330593 -12.6247177161496325, -38.3222352769364534 -12.6247175173994606, -38.3222343776143930 -12.6247173159513295, -38.3137733786384729 -12.6228348460512620, -38.3080443707510767 -12.6187051025584083, -38.3101902188034842 -12.6245960612591830, -38.3083996317375863 -12.6252777455714522, -38.3025435712287958 -12.6232908670797883, -38.2991135929179336 -12.6240542467060664, -38.2930405448851729 -12.6314498107601025, -38.2870112857422100 -12.6350608306927370, -38.2816149703545534 -12.6300612332393030, -38.2728052457654258 -12.6372815032387393, -38.2676856175971238 -12.6372634133757629, -38.2650805784059003 -12.6354181763077236, -38.2646644953701411 -12.6353096335326995, -38.2591386452322695 -12.6330395423409527, -38.2537571902420837 -12.6363183491124573, -38.2431462216208047 -12.6385811881712584, -38.2406893178576865 -12.6409229247531130, -38.2351996726267203 -12.6421897664445169, -38.2262038207496744 -12.6401295491393171, -38.2247962189703117 -12.6425992502551594, -38.2251425613800393 -12.6466098003019738, -38.2094099159348275 -12.6336366274283591, -38.2033598563722308 -12.6250965753466176, -38.1944197804484702 -12.6248565849633678, -38.1908297461957886 -12.6211565627251616, -38.1862197062743576 -12.6199765613691852, -38.1821296678498356 -12.6170365454001967, -38.1817596561831465 -12.6098764958035758, -38.1791996271610401 -12.6045564618112280, -38.1799996298789779 -12.6020164436039295, -38.1766295967784117 -12.5972564147517119, -38.1534294037439281 -12.5975164456274342, -38.1473893581323296 -12.6003964741179288, -38.1465193548842763 -12.6036964967958625, -38.1428893277802104 -12.6064565215511948, -38.1381592877208959 -12.6060465251269989, -38.1318564188385949 -12.6024920824435753, -38.1326390151783698 -12.5998135713392116, -38.1316064486786104 -12.5992925509104339, -38.1364018640547329 -12.5906466279394635, -38.1353680978593843 -12.5869756547026554, -38.1379034548804725 -12.5850849847841459, -38.1361383168298289 -12.5823480762027202, -38.1381560132893469 -12.5768531177770910, -38.1445734513036996 -12.5754926818417516, -38.1442895506222044 -12.5733601680372544, -38.1466401509221669 -12.5700809376850771, -38.1507893206705830 -12.5691414429231827, -38.1530732146570699 -12.5713874583644838, -38.1572315466984833 -12.5676374949743490, -38.1613543959885533 -12.5673169891876455, -38.1619603735723558 -12.5636272560929569, -38.1585913953765612 -12.5595440066505262, -38.1587396800921397 -12.5549478001008197, -38.1640916696947556 -12.5530829856911623, -38.1683852166044062 -12.5486068188495778, -38.1670827051027004 -12.5465306997319885, -38.1673149424306075 -12.5421609973321324, -38.1733816016795231 -12.5441565551808480, -38.1780824047791043 -12.5411223990794269, -38.1830947330354320 -12.5430549693113562, -38.1832911197893168 -12.5461279734271898, -38.1885281130819294 -12.5509068223918803, -38.1894441697126013 -12.5569571688382098, -38.1934038963726721 -12.5602426710623831, -38.1950561479228554 -12.5647320876157096, -38.1957388376771974 -12.5638990438058045, -38.2002950792544880 -12.5667853972282728, -38.2015644210611640 -12.5659290330983708, -38.2057506842466523 -12.5675197988995251, -38.2061702116859010 -12.5693248479633439, -38.2089012926604710 -12.5686314427867956, -38.2090347637433183 -12.5666860626116659, -38.2132300246458954 -12.5681347759990558, -38.2150232611145384 -12.5667623224231875, -38.2150317983787318 -12.5667685601209200, -38.2154394385792102 -12.5661626328991360, -38.2154828317672468 -12.5660879064316759, -38.2175319478410529 -12.5632060514180921, -38.2143136753358021 -12.5550532743890813, -38.2226297530606303 -12.5461991484718851, -38.2220915097153693 -12.5415728524051815, -38.2221351412237595 -12.5415587051700754, -38.2234366958467717 -12.5411699408400636, -38.2234951769607960 -12.5410487814760359, -38.2230856463854138 -12.5395274271489825, -38.2246114964233925 -12.5394390561674527, -38.2237505736300136 -12.5358181382964062, -38.2260446272576928 -12.5314712166232880, -38.2236379866037623 -12.5247323006551028, -38.2244727643065971 -12.5203373650772960, -38.2265536903005341 -12.5204815740653430, -38.2300261301018054 -12.5179805945287512, -38.2354580397566792 -12.5179590746515146, -38.2357312681834287 -12.5178652016177239, -38.2391263006382474 -12.5156083880166307, -38.2395797918738367 -12.5092777471702448, -38.2395280493799419 -12.5091581733109933, -38.2399337857156070 -12.5046076352341515, -38.2478376735697339 -12.4976995657822840, -38.2445789108879808 -12.4894835906951016, -38.2420291017616023 -12.4868921258708383, -38.2442641139976445 -12.4711085877910364, -38.2428197110607471 -12.4697463747953066, -38.2392654095709759 -12.4699506899723360, -38.2348820860394198 -12.4735850940767818, -38.2248207290933237 -12.4767031290461432, -38.2216004735829529 -12.4722477410403485, -38.2130502123973201 -12.4670588803629698, -38.2127224625715485 -12.4631525419562195, -38.2139608011499945 -12.4616831513562829, -38.2128211128040789 -12.4594273881633626, -38.2052109741071035 -12.4587405039710575, -38.2049176296448536 -12.4586817692481873, -38.2046538207172262 -12.4585950916900856, -38.1995133804381339 -12.4575979207074283, -38.1940315053496420 -12.4530613841754985, -38.1904103617487749 -12.4550145515802342, -38.1864600905606721 -12.4615863798075566, -38.1862963177208599 -12.4615323467403414, -38.1861558400199783 -12.4614859992793754, -38.1767100654171259 -12.4613940876669744, -38.1726562381948042 -12.4627624583207535, -38.1735322534107127 -12.4647806566019881, -38.1724828857765033 -12.4686791754035653, -38.1819080443207213 -12.4792330856383273, -38.1777078839116939 -12.4848979475821693, -38.1773892532114019 -12.4878863425806230, -38.1686133188495660 -12.4912728710461352, -38.1667339129396623 -12.4882008516879068, -38.1621291367501954 -12.4890546356628533, -38.1604776424292140 -12.4912422347413212, -38.1617317560156835 -12.4941495909308173, -38.1605030626661801 -12.4956286879135519, -38.1588329119093146 -12.4964526512687826, -38.1553308520371388 -12.4949090459156764, -38.1543328240005621 -12.4961908118564224, -38.1557177772535852 -12.5030262088923791, -38.1525851157104512 -12.5027363852759095, -38.1517766962375049 -12.5025837406470828, -38.1408923867741692 -12.4976565350210080, -38.1322576873423600 -12.5010157852502175, -38.1229588259889738 -12.5085017518543395, -38.1215118141188896 -12.5075087321422416, -38.1178316210324510 -12.5094045848536553, -38.1156689160875430 -12.5056269340357176, -38.1129078921854330 -12.5056874781944884, -38.1112039503020128 -12.5112219483341960, -38.1073078362875890 -12.5092306487753717, -38.1073581902282399 -12.5071628933528132, -38.1038591529774635 -12.5040019157557367, -38.0966379359919074 -12.5015915941766593, -38.0950493402548318 -12.4937232870999537, -38.1001943778682062 -12.4862536719693367, -38.1008856066853809 -12.4832757073079961, -38.0994035581276762 -12.4797063754488136, -38.0962353589745817 -12.4783882975818301, -38.0944969703588754 -12.4805598023929178, -38.0925532449362549 -12.4774771602426995, -38.0882541878804091 -12.4780133324492795, -38.0868037873648291 -12.4741357156906929, -38.0865394010724572 -12.4742216252277558, -38.0840784674472843 -12.4719898460544982, -38.0812492794306650 -12.4726990757017120, -38.0785181301075681 -12.4693568730212405, -38.0754036105881255 -12.4690577863876797, -38.0744509308657371 -12.4701911057348980, -38.0703138192273514 -12.4663683943858246, -38.0669637483782139 -12.4681417360522460, -38.0686800622350461 -12.4711568436134144, -38.0709695239243615 -12.4721466950139188, -38.0693088960886143 -12.4746591768794701, -38.0701522910953258 -12.4765726616989241, -38.0656511186041939 -12.4798402692130139, -38.0640791801100136 -12.4837626650149218, -38.0657428998149499 -12.4870895594355602, -38.0639984884394380 -12.4898277558461928, -38.0650007028201571 -12.4964563007176821, -38.0719284638274758 -12.4997326568366134, -38.0731755492121806 -12.5022711093241696, -38.0678125806859953 -12.5107065747485535, -38.0658297779218628 -12.5199902564451122, -38.0668968765895670 -12.5223496206384084, -38.0631956159848528 -12.5296459004379130, -38.0636529221445699 -12.5333240808416235, -38.0694254527224416 -12.5358318871318488, -38.0670953839447748 -12.5419220996251397, -38.0642233126557130 -12.5429248203241741, -38.0647999237774002 -12.5446000045864707, -38.0619658596366435 -12.5474741443162543, -38.0626194347390765 -12.5526500601521320, -38.0593694494405099 -12.5527707788482985, -38.0539088846872460 -12.5629447102301697, -38.0497962193200010 -12.5628943077260828, -38.0493630689504130 -12.5627863018463017, -38.0490464599261600 -12.5627073548604926, -38.0435787059924451 -12.5625338000947409, -38.0475171052301562 -12.5702531902325063, -38.0420024147795743 -12.5706077929152684, -38.0412362499529308 -12.5717278328731368, -38.0471307645730690 -12.5838572878834611, -38.0470818225680318 -12.5840373141706436, -38.0470171568163096 -12.5842751740599965, -38.0411563559810020 -12.5869441253710193, -38.0403267898494164 -12.5872893822991045, -38.0335925197789493 -12.5900170548431447, -38.0340996267963192 -12.5922644381532791, -38.0316295839381269 -12.5934663451956226, -38.0306085566395495 -12.5970632556646933, -38.0415762035788703 -12.6112115321864167, -38.0424663039767097 -12.6186242454125477, -38.0457503187221846 -12.6235826197420806, -38.0446467192706450 -12.6308149838243935, -38.0473045360754440 -12.6354716625871220, -38.0551513844288252 -12.6393690680280315, -38.0630589990735189 -12.6505075501832494, -38.0743656841289635 -12.6566737931609623, -38.0821966990184251 -12.6653029743527554, -38.0878096179195040 -12.6744602059736735, -38.1022212627010504 -12.6853828067710879, -38.1094741259301486 -12.6927289683671347, -38.1648627124441759 -12.7581927146220551, -38.1750204848074759 -12.7735763736506556, -38.1791650833018821 -12.7751983126519804, -38.1822943786825704 -12.7797941226006060, -38.1922892100789113 -12.7872326319803165, -38.2085275326194846 -12.8118836626009056, -38.2303028505960469 -12.8350032494004154, -38.2330473620460793 -12.8364104302970645, -38.2448479979366880 -12.8531801199665097, -38.2592695388580637 -12.8644482861594156, -38.2681461145514845 -12.8749028132141916, -38.2741288041009966 -12.8764533163674173, -38.2801652380352380 -12.8806886375705290, -38.2803665485773195 -12.8796216621099688, -38.2818901116393135 -12.8800607174281367, -38.2816815597561231 -12.8785815709826466, -38.2752015693968701 -12.8753456546781990, -38.2775641315793678 -12.8737866286499525, -38.2782288942480022 -12.8707269416949543, -38.2840485510997155 -12.8692121371303756, -38.2859061646377654 -12.8706262005386520, -38.2902858746933248 -12.8704641436053180, -38.2903906142354344 -12.8704698363138732, -38.2903968249534614 -12.8704701735596245, -38.2906226887860157 -12.8704824502048609, -38.2912648640821658 -12.8690925830562151, -38.2893103530902863 -12.8643036571879747, -38.2893466443321131 -12.8640080392395930, -38.2906485460935073 -12.8612805411639783, -38.2887482651203186 -12.8561438564537411, -38.2917959299381891 -12.8554777115271008, -38.2920473992680286 -12.8555787395671359, -38.2988092506463431 -12.8593716257998381, -38.3057823042099130 -12.8573549419769506, -38.3078698168385472 -12.8525246131203517, -38.3135849472874384 -12.8501216947603325, -38.3123888930329599 -12.8401163565845309, -38.3187358898493926 -12.8399415436672371, -38.3208197791094562 -12.8363113456920246, -38.3240997603955975 -12.8361632453374455, -38.3243657627696734 -12.8361291376495501, -38.3250750427789626 -12.8360613800286387, -38.3269021171389568 -12.8356311857305627, -38.3279565749359676 -12.8324157703714832, -38.3262988366219588 -12.8291760175591207, -38.3273166155693161 -12.8264127840226934, -38.3262016801633649 -12.8190517512372821, -38.3330108682569062 -12.8181819413434823, -38.3322782328540939 -12.8123256173333289, -38.3302555847274107 -12.8075416161526050, -38.3281977614175275 -12.8069084385735437, -38.3269665850398269 -12.8023530864257395, -38.3277932319720094 -12.7986067913702755, -38.3297631150756501 -12.7986067913702755, -38.3277756439308064 -12.7955640260589121, -38.3314778578168216 -12.7917665047203855, -38.3339729117204797 -12.7829031112894995, -38.3339732174899268 -12.7828996246179258, -38.3339738623038784 -12.7828922600696728, -38.3339676120156128 -12.7828711313975418, -38.3339577329629719 -12.7828377323754125, -38.3331896103122176 -12.7798140758588943, -38.3353829182869958 -12.7746428652759505, -38.3374438937206605 -12.7739074761490770, -38.3369070461232582 -12.7723951519146794, -38.3370444346529098 -12.7723493809191382, -38.3385236350576406 -12.7724887263735809, -38.3386619588822555 -12.7724375306674460, -38.3409163685955150 -12.7702820427820143, -38.3429070332329616 -12.7703557251365396, -38.3419614356716920 -12.7644450910680689, -38.3434918884398712 -12.7614839050581281, -38.3449019192880769 -12.7616684171636621, -38.3449903721079295 -12.7616250671430862, -38.3454405718248950 -12.7615386261066419, -38.3456936833167674 -12.7614658547653335, -38.3463020387080746 -12.7584616748663393, -38.3453463255724500 -12.7586193601952687, -38.3450269340457339 -12.7552891661620151, -38.3469039360677471 -12.7536589462033589, -38.3474421479367606 -12.7468152987869416, -38.3493963666489321 -12.7436923184457100, -38.3466252712392475 -12.7384077564127551, -38.3527692739827444 -12.7318215363347917, -38.3522698831485513 -12.7317248789998985, -38.3508522557269771 -12.7306133313401233, -38.3529972629133340 -12.7279272974067794, -38.3542745349417942 -12.7189863923081248, -38.3542660039728389 -12.7188726451564094, -38.3570872509757805 -12.7135715742687125, -38.3572842771476417 -12.7135376041770201, -38.3582150547808851 -12.7138637163374142, -38.3585071968495868 -12.7138501284806011, -38.3625463030693936 -12.7117727467148711, -38.3626787129521745 -12.7118526928474580, -38.3649886737882184 -12.7111325274441356, -38.3677884054105220 -12.7075221163525498, -38.3678625356274665 -12.7075249132441286, -38.3670812262175787 -12.7022255933364363, -38.3688816356789175 -12.6975105566668276, -38.3672374879196809 -12.6936108003980621, -38.3691126319423574 -12.6889569095337151, -38.3729172723142256 -12.6847106597691095, -38.3713614460738199 -12.6800771511395851, -38.3757824547964219 -12.6770351151783984, -38.3723748156451734 -12.6725130235571442, -38.3723390711911634 -12.6724693353914972))"
          ],
          [
           2906501,
           "Candeias",
           "2927408",
           "Salvador/BA",
           0.735186419897,
           0.0214705364886,
           "POLYGON ((-38.5562845876635265 -12.6809301500063611, -38.5563243493891719 -12.6808953597330287, -38.5563417099019716 -12.6808801692843645, -38.5563494422729036 -12.6808734036845863, -38.5565669424104271 -12.6804785842192587, -38.5565719399430122 -12.6804760850032494, -38.5567071943814881 -12.6802490322669996, -38.5567070280068833 -12.6801582304179306, -38.5571676553629459 -12.6783862134529386, -38.5572106267689492 -12.6779350082939573, -38.5576849274174265 -12.6778393303208077, -38.5577646945849324 -12.6777740656206106, -38.5582578081512679 -12.6775347605207571, -38.5583085703841562 -12.6774042311203061, -38.5582868148845819 -12.6771069125539384, -38.5582215501843280 -12.6770634024539959, -38.5581200266178712 -12.6769328730536017, -38.5581980032351908 -12.6767693115544375, -38.5582215501843280 -12.6767515814203193, -38.5582486800325341 -12.6767063644071527, -38.5582650602842705 -12.6766790645871197, -38.5583013182512104 -12.6766137989876029, -38.5581575715146982 -12.6761983508731646, -38.5581417821175023 -12.6760844283536471, -38.5581614430960826 -12.6759599064245094, -38.5581635367178137 -12.6758378720201108, -38.5542548906506681 -12.6691590910191962, -38.5537969720525666 -12.6689372858270417, -38.5537908359782477 -12.6689343144669806, -38.5537907073751853 -12.6689342551117647, -38.5531203841983370 -12.6686223594342664, -38.5529406942575861 -12.6685662075643677, -38.5527030349171014 -12.6685064413191526, -38.5524637307165676 -12.6684411757196358, -38.5510722483855375 -12.6672815008405450, -38.5510703022525831 -12.6672801338710315, -38.5510418755820297 -12.6672602354714172, -38.5510155317413705 -12.6672417948728935, -38.5509891465318333 -12.6672233254960247, -38.5500561790493634 -12.6655477635184184, -38.5500574048253384 -12.6655423352105458, -38.5501057352914245 -12.6653282956642670, -38.5507885968162327 -12.6583686186168052, -38.5508231883394501 -12.6583570875095575, -38.5508756170160609 -12.6583396109842283, -38.5521374054168859 -12.6581365656499543, -38.5539285662503062 -12.6534592429496797, -38.5578662190507089 -12.6524295075157056, -38.5594253260179585 -12.6548515616502186, -38.5657477983222066 -12.6514280089953672, -38.5670125940559387 -12.6482696736064781, -38.5658355289864403 -12.6457400812396941, -38.5700539528276067 -12.6415362785763250, -38.5735851471367823 -12.6351684318775597, -38.5791660717567879 -12.6320706874122379, -38.5605982658972266 -12.6301572088880221, -38.5574027633268201 -12.6262388996054824, -38.5550883130751458 -12.6195707270073854, -38.5498013930198340 -12.6171587560717171, -38.5464539661775802 -12.6138519857804567, -38.5392788520373415 -12.6129727779712653, -38.5336494440665547 -12.6090382602075124, -38.5310709007014793 -12.6102674994455128, -38.5287526634046458 -12.6066112975732949, -38.5246826330969725 -12.6050104278888853, -38.5209523531685250 -12.6064232592260055, -38.5174733204373183 -12.6019199661334937, -38.5124825138568667 -12.6018332517031695, -38.5068766123657156 -12.5961816106927245, -38.4896004506002782 -12.5922603102650328, -38.4876218917368647 -12.5890943720075938, -38.4832988659498483 -12.5907809335931802, -38.4823298797201119 -12.5952005861381053, -38.4796037567079452 -12.5957948806291711, -38.4758180812394244 -12.6010562986092509, -38.4723122855834845 -12.6019450149504451, -38.4711400525713429 -12.6091419799183768, -38.4651698429138946 -12.6114864459426599, -38.4635556749544207 -12.6078971518320486, -38.4603052274042625 -12.6073273917456845, -38.4533736038087000 -12.6017309637129529, -38.4489736410207001 -12.6061527359599381, -38.4409608830382581 -12.6090617361101636, -38.4374984796710351 -12.6079101758139132, -38.4302433573450344 -12.6100038389059819, -38.4298268992919247 -12.6085224036859245, -38.4246970593217725 -12.6077902269373681, -38.4235520865594822 -12.6052767414284403, -38.4217310367578762 -12.6065198536082903, -38.4183296865657553 -12.6060184168164255, -38.4147045131027767 -12.6006846537737260, -38.4109436742111257 -12.6006264973149769, -38.4034413831133179 -12.5972630661375433, -38.4032409889804285 -12.5974246734098756, -38.4032044099554923 -12.5976381751615918, -38.4032475252530503 -12.5977283250021515, -38.4031295467910923 -12.5977943927969704, -38.4030052029277158 -12.5978640255043501, -38.4027919601807639 -12.5980869611443040, -38.4025302520694254 -12.5982905127968934, -38.4021993150462890 -12.5981710063867922, -38.4021615597081905 -12.5981820581554302, -38.4020944954645529 -12.5986789947397710, -38.4020950728292974 -12.5986813590574229, -38.4021037647768821 -12.5987169991901169, -38.4020553012111350 -12.5989011632580059, -38.4019056486267232 -12.5988577161106718, -38.3996030010775939 -12.6004520252407133, -38.3995683996618595 -12.6008326408136782, -38.3993897583306421 -12.6020998152542347, -38.3993721163300847 -12.6021322529011286, -38.3954047256475519 -12.6049453943144272, -38.3946275791993799 -12.6105204400661819, -38.3919946403403287 -12.6161566765892985, -38.3967821668634883 -12.6262758662381884, -38.3972381474225131 -12.6396151009561208, -38.3995858501068597 -12.6514632813053254, -38.3995693493459385 -12.6585211193541340, -38.3969968656128344 -12.6640854631735351, -38.3973664833764587 -12.6639407163909254, -38.3995829875647701 -12.6630512041497241, -38.3996564891556318 -12.6628662127055236, -38.3997097056383723 -12.6613743156721057, -38.4033859507010220 -12.6585640224116673, -38.4089444147529093 -12.6593305658528834, -38.4102553879757238 -12.6614892148553508, -38.4115743201986675 -12.6605869754085347, -38.4123448926026754 -12.6622850582087949, -38.4152463096693850 -12.6628204363140640, -38.4168033607864459 -12.6645175217661858, -38.4161510411375957 -12.6666844948935022, -38.4194464988568143 -12.6689197868186625, -38.4419231513323325 -12.7336716648154606, -38.4420366898413022 -12.7339987509415664, -38.4447071753957630 -12.7416920202704773, -38.4455457536335530 -12.7441078412038564, -38.4455493904919194 -12.7441183183057092, -38.4455561138235566 -12.7441376861052618, -38.4468587332439142 -12.7455387507127398, -38.4469602109449511 -12.7457695428300894, -38.4470854784120775 -12.7459365667191378, -38.4471474030301579 -12.7461193521263567, -38.4471414441222805 -12.7461640394388382, -38.4471352882629276 -12.7462102052367641, -38.4471272339346797 -12.7462706144972344, -38.4483938310104350 -12.7460618341862642, -38.4511661512967748 -12.7523450762641914, -38.4479861170656250 -12.7646105969014911, -38.4485525361705527 -12.7665009637484559, -38.4549081952569622 -12.7832396322032196, -38.4622706921387021 -12.7914831112565253, -38.4674959375873868 -12.7872845066746095, -38.4741810983789492 -12.7844796893861030, -38.4801730788244640 -12.7847978938077063, -38.4838490729762839 -12.7882360055871231, -38.4855948360328171 -12.7892809377649996, -38.4912723793167970 -12.7908236024272810, -38.4996493600298777 -12.7847130211889066, -38.5038422449236464 -12.7793295184424665, -38.5080484568707675 -12.7669616126882488, -38.5084590378542657 -12.7482761530220046, -38.5097107448549423 -12.7465017510548932, -38.5157079611534527 -12.7436332761546964, -38.5254444506008440 -12.7436509181553106, -38.5329431579003767 -12.7387016674479696, -38.5350331319734210 -12.7387329440700796, -38.5350458411925842 -12.7386926463485111, -38.5355304759506794 -12.7342941368648894, -38.5331753106920019 -12.7293484573653473, -38.5333340931937869 -12.7262045722831658, -38.5388597086086406 -12.7196309939751586, -38.5460366591644288 -12.7148357746512488, -38.5462907104478631 -12.7117871592499796, -38.5488629801423599 -12.7115648639272649, -38.5502285062405008 -12.7092148886561631, -38.5533406353619625 -12.7104216331517819, -38.5508636344491151 -12.7071507224278548, -38.5557940029908082 -12.7051162077467552, -38.5533195741389818 -12.7044594148700298, -38.5549997424441244 -12.7022446481719271, -38.5538847216025715 -12.6998771388188629, -38.5556259862502202 -12.7007935938492551, -38.5570464924016392 -12.6994952830808074, -38.5558398261470074 -12.6976470989343966, -38.5570248825922022 -12.6977673616743800, -38.5585823689810923 -12.6950576539874760, -38.5577736590270774 -12.6923098501194431, -38.5576728180460577 -12.6922083940021366, -38.5574142539646232 -12.6909732255338668, -38.5574301467838154 -12.6908540302892447, -38.5594859771960614 -12.6895180909870646, -38.5595836102953626 -12.6892965430010349, -38.5586976413829916 -12.6879672379976114, -38.5587969211409813 -12.6876198622667857, -38.5572473811616874 -12.6850214025156447, -38.5572507805990199 -12.6849976037563579, -38.5572632730815599 -12.6849101536806188, -38.5559940059185919 -12.6839915528678375, -38.5559597453459446 -12.6839289870330845, -38.5565572063499644 -12.6839384074315262, -38.5566037255814535 -12.6838930195471562, -38.5566447625457158 -12.6837835864433259, -38.5566483661291386 -12.6837739780865491, -38.5566514040390302 -12.6837658769935615, -38.5566990815972872 -12.6837181994353045, -38.5567962074789534 -12.6837032580988307, -38.5568897954276508 -12.6836784682866437, -38.5565811786784138 -12.6833366278830226, -38.5563891743208842 -12.6832652576854343, -38.5563573886824997 -12.6829632950199880, -38.5563891743208842 -12.6828361533657130, -38.5564006703546056 -12.6827786740964825, -38.5564050671400764 -12.6826136556956044, -38.5563812279112881 -12.6825182996797139, -38.5563812279112881 -12.6817157177061404, -38.5563256030441153 -12.6816998239876284, -38.5562705591389658 -12.6816091084735376, -38.5562750377627594 -12.6815741122554186, -38.5562779245864817 -12.6815567904134809, -38.5563097102249230 -12.6815329511846926, -38.5562684888996046 -12.6814634201007266, -38.5562448718033579 -12.6814529016300526, -38.5562349109123375 -12.6814483051950901, -38.5561428374219872 -12.6814058095304176, -38.5561189981931420 -12.6813581310728409, -38.5561189981931420 -12.6813233731750756, -38.5561356266578059 -12.6812935201797927, -38.5561584892228666 -12.6812630637393795, -38.5561950547579499 -12.6811378987949297, -38.5561931427992590 -12.6810269935008932, -38.5561930429744848 -12.6810212243499905, -38.5561933406501112 -12.6810208520306560, -38.5562222997193089 -12.6809846525196690, -38.5562845876635265 -12.6809301500063611))"
          ],
          [
           2910057,
           "Dias d´Ávila",
           "2927408",
           "Salvador/BA",
           1.01207934882,
           0.0153479514951,
           "POLYGON ((-38.3669953130831800 -12.5902493542242837, -38.3670010660463277 -12.5902446786489577, -38.3676055075880527 -12.5854511779294853, -38.3703152350599908 -12.5813023472255168, -38.3731934433226911 -12.5809790697282438, -38.3765327771658917 -12.5772415061904894, -38.3779176845534380 -12.5709356569549300, -38.3844898913953330 -12.5663482376809839, -38.3870598947982558 -12.5610887127738238, -38.3866551468175317 -12.5566716799540359, -38.4067148164355672 -12.5510463126371974, -38.4006349173674835 -12.5508352561421361, -38.3970165490744648 -12.5461683341013099, -38.3926160619816415 -12.5443204728115347, -38.3860445790940048 -12.5455938022121813, -38.3810115457462189 -12.5393701654007828, -38.3781869172923393 -12.5386303561060117, -38.3735251816417531 -12.5369908506472143, -38.3714083007524209 -12.5378151656373120, -38.3707400702979839 -12.5365860100362738, -38.3647187638597984 -12.5376970468811351, -38.3632004285568655 -12.5357798874318291, -38.3589742804386447 -12.5366475065771397, -38.3551749442682421 -12.5356749329517356, -38.3459961540991685 -12.5399928442942610, -38.3423024271152713 -12.5437228670166405, -38.3419665743978726 -12.5468854822791513, -38.3432680049144778 -12.5499151561594999, -38.3450331996224349 -12.5501160988787888, -38.3450032387084434 -12.5515769540131714, -38.3498761441686611 -12.5561937901112515, -38.3466189202269447 -12.5654402083988543, -38.3468024457762340 -12.5691742322050004, -38.3489056084070512 -12.5714391756773693, -38.3453933799005426 -12.5748470279679054, -38.3397414601002424 -12.5746017459737232, -38.3389743024220593 -12.5777277849093139, -38.3371999229380549 -12.5779260980109484, -38.3360277726635559 -12.5800534380156819, -38.3319580616151825 -12.5800200057186657, -38.3264122573197596 -12.5767634976372733, -38.3209082022517009 -12.5769235391899201, -38.3158816638077155 -12.5821083807970808, -38.3158060524073676 -12.5824561926991123, -38.3157741804340617 -12.5826028046756733, -38.3157659777176605 -12.5826405357320823, -38.3136219400004734 -12.5836426961534471, -38.3132775005561825 -12.5871653612923637, -38.3117953728581142 -12.5880838631796905, -38.3114926844397701 -12.5880838631796905, -38.3098539928674313 -12.5877028941731623, -38.3087834938631318 -12.5922843149691062, -38.3066972942447137 -12.5926757224066250, -38.3046502340210395 -12.5962414425884504, -38.3028349120015719 -12.5961751373726543, -38.3025014092125957 -12.5964019194129833, -38.2928638757671820 -12.6021914840496834, -38.2903032028305006 -12.6002779371769975, -38.2875894472950904 -12.6008346058323468, -38.2875964053498024 -12.6040911130144195, -38.2815843898076764 -12.6067492032130986, -38.2820645162643700 -12.6084679155617891, -38.2804543107178006 -12.6102651270339265, -38.2730544479044283 -12.6111850489508015, -38.2691664062046470 -12.6067999573521092, -38.2609651080532558 -12.6060074333963144, -38.2599545065951361 -12.6017000531149392, -38.2571397751804625 -12.6014525911641044, -38.2576678930587946 -12.6005599582754257, -38.2557189605615235 -12.5994853080005100, -38.2523869831726984 -12.5996234942288083, -38.2527899747774427 -12.5965736233739563, -38.2557851335770351 -12.5960657924023280, -38.2554387596909464 -12.5925160810522243, -38.2527003924091673 -12.5886186531282647, -38.2533935169971642 -12.5858276782047369, -38.2518297146695545 -12.5814265516939372, -38.2534800893346301 -12.5786013773516174, -38.2493651199043256 -12.5755455592801013, -38.2475938116050997 -12.5765594153846791, -38.2425440068004150 -12.5735805729850085, -38.2391265272673877 -12.5735207833574236, -38.2376967068374825 -12.5711617348261484, -38.2344378002642316 -12.5721128092586696, -38.2319121972900575 -12.5666022727766062, -38.2282679051396599 -12.5685125353252261, -38.2202650603841789 -12.5666855607899492, -38.2189832836515961 -12.5688614354068591, -38.2188734980134655 -12.5686189368144596, -38.2164104069146902 -12.5706577349664599, -38.2150317983787318 -12.5667685601209200, -38.2150232611145384 -12.5667623224231875, -38.2132300246458954 -12.5681347759990558, -38.2090347637433183 -12.5666860626116659, -38.2089012926604710 -12.5686314427867956, -38.2061702116859010 -12.5693248479633439, -38.2057506842466523 -12.5675197988995251, -38.2015644210611640 -12.5659290330983708, -38.2002950792544880 -12.5667853972282728, -38.1957388376771974 -12.5638990438058045, -38.1950561479228554 -12.5647320876157096, -38.1934038963726721 -12.5602426710623831, -38.1894441697126013 -12.5569571688382098, -38.1885281130819294 -12.5509068223918803, -38.1832911197893168 -12.5461279734271898, -38.1830947330354320 -12.5430549693113562, -38.1780824047791043 -12.5411223990794269, -38.1733816016795231 -12.5441565551808480, -38.1673149424306075 -12.5421609973321324, -38.1670827051027004 -12.5465306997319885, -38.1683852166044062 -12.5486068188495778, -38.1640916696947556 -12.5530829856911623, -38.1587396800921397 -12.5549478001008197, -38.1585913953765612 -12.5595440066505262, -38.1619603735723558 -12.5636272560929569, -38.1613543959885533 -12.5673169891876455, -38.1572315466984833 -12.5676374949743490, -38.1530732146570699 -12.5713874583644838, -38.1507893206705830 -12.5691414429231827, -38.1466401509221669 -12.5700809376850771, -38.1442895506222044 -12.5733601680372544, -38.1445734513036996 -12.5754926818417516, -38.1381560132893469 -12.5768531177770910, -38.1361383168298289 -12.5823480762027202, -38.1379034548804725 -12.5850849847841459, -38.1353680978593843 -12.5869756547026554, -38.1364018640547329 -12.5906466279394635, -38.1316064486786104 -12.5992925509104339, -38.1326390151783698 -12.5998135713392116, -38.1318564188385949 -12.6024920824435753, -38.1381592877208959 -12.6060465251269989, -38.1428893277802104 -12.6064565215511948, -38.1465193548842763 -12.6036964967958625, -38.1473893581323296 -12.6003964741179288, -38.1534294037439281 -12.5975164456274342, -38.1766295967784117 -12.5972564147517119, -38.1799996298789779 -12.6020164436039295, -38.1791996271610401 -12.6045564618112280, -38.1817596561831465 -12.6098764958035758, -38.1821296678498356 -12.6170365454001967, -38.1862197062743576 -12.6199765613691852, -38.1908297461957886 -12.6211565627251616, -38.1944197804484702 -12.6248565849633678, -38.2033598563722308 -12.6250965753466176, -38.2094099159348275 -12.6336366274283591, -38.2251425613800393 -12.6466098003019738, -38.2247962189703117 -12.6425992502551594, -38.2262038207496744 -12.6401295491393171, -38.2351996726267203 -12.6421897664445169, -38.2406893178576865 -12.6409229247531130, -38.2431462216208047 -12.6385811881712584, -38.2537571902420837 -12.6363183491124573, -38.2591386452322695 -12.6330395423409527, -38.2646644953701411 -12.6353096335326995, -38.2650805784059003 -12.6354181763077236, -38.2676856175971238 -12.6372634133757629, -38.2728052457654258 -12.6372815032387393, -38.2816149703545534 -12.6300612332393030, -38.2870112857422100 -12.6350608306927370, -38.2930405448851729 -12.6314498107601025, -38.2991135929179336 -12.6240542467060664, -38.3025435712287958 -12.6232908670797883, -38.3083996317375863 -12.6252777455714522, -38.3101902188034842 -12.6245960612591830, -38.3080443707510767 -12.6187051025584083, -38.3137733786384729 -12.6228348460512620, -38.3222343776143930 -12.6247173159513295, -38.3222352769364534 -12.6247175173994606, -38.3222360773330593 -12.6247177161496325, -38.3373656122331568 -12.6298424173936041, -38.3400892899887253 -12.6348382655734781, -38.3400662007944675 -12.6360388488137687, -38.3395813510984453 -12.6445583702725344, -38.3499096214318342 -12.6387237702857078, -38.3594092537340430 -12.6578648741645452, -38.3722289887767829 -12.6723347905181072, -38.3723390711911634 -12.6724693353914972, -38.3723748156451734 -12.6725130235571442, -38.3757824547964219 -12.6770351151783984, -38.3767244451769329 -12.6738338695374182, -38.3767667438900730 -12.6738442953778758, -38.3781606301089369 -12.6741878372988026, -38.3782039603444787 -12.6740929507290616, -38.3782279605518966 -12.6739540504390220, -38.3782515956345947 -12.6738172671530833, -38.3815947686836125 -12.6717397208114448, -38.3816274347582862 -12.6716359498391853, -38.3837582398508630 -12.6701832443611693, -38.3841946673499592 -12.6702186155965819, -38.3864604103196143 -12.6700927338924885, -38.3868320479605813 -12.6670214187034844, -38.3868705749170545 -12.6670042263639289, -38.3901638239013323 -12.6652626028867417, -38.3931653588941799 -12.6666764783367398, -38.3969146558866328 -12.6641919788766586, -38.3969968656128344 -12.6640854631735351, -38.3995693493459385 -12.6585211193541340, -38.3995858501068597 -12.6514632813053254, -38.3972381474225131 -12.6396151009561208, -38.3967821668634883 -12.6262758662381884, -38.3919946403403287 -12.6161566765892985, -38.3946275791993799 -12.6105204400661819, -38.3907566533968065 -12.6050079385654499, -38.3807211177852992 -12.6038206509022643, -38.3806363512865119 -12.6037830520461966, -38.3810989319700866 -12.6008204927715042, -38.3774949618230039 -12.5986926617368908, -38.3705178622095104 -12.6003145171012534, -38.3723094691066535 -12.5959502277207775, -38.3692043178249378 -12.5941261076337128, -38.3669953130831800 -12.5902493542242837))"
          ],
          [
           2919926,
           "Madre de Deus",
           "2927408",
           "Salvador/BA",
           0.260932297435,
           0.0026638940326,
           "POLYGON ((-38.6066713580966621 -12.7324591907390072, -38.6066622263805925 -12.7324723307334580, -38.6060142864301383 -12.7334046704891080, -38.6060048525418438 -12.7334182457553879, -38.6060032580438701 -12.7334205399259304, -38.6059936317006986 -12.7334343912841064, -38.6057044439049264 -12.7337918664014751, -38.6056920188715367 -12.7338072250233836, -38.6016883963023929 -12.7360198675228276, -38.5879342647544945 -12.7338819865643700, -38.5879018154163873 -12.7539553726422810, -38.6952205447922779 -12.7541117215786244, -38.6945832528148230 -12.7508721926974999, -38.6945814820497276 -12.7508631922824520, -38.6945808381351526 -12.7508599151529438, -38.6945805512514198 -12.7508584573518533, -38.6872071878613610 -12.7265380543876745, -38.6375684456272097 -12.7263372249828990, -38.6362576028060971 -12.7262681273721228, -38.6176131837014509 -12.7285293323627684, -38.6113114758438769 -12.7262999813590341, -38.6092826125025113 -12.7270012708918898, -38.6076600160968155 -12.7298416185957990, -38.6071890015711006 -12.7315131300268831, -38.6066713580966621 -12.7324591907390072))"
          ],
          [
           2921005,
           "Mata de São João",
           "2927408",
           "Salvador/BA",
           1.94672232547,
           0.0526653050384,
           "POLYGON ((-38.3076181775368241 -12.4224676919303647, -38.3075552438793352 -12.4224368038154012, -38.3075470933236488 -12.4224328036309544, -38.3075459772650220 -12.4224322559438178, -38.3075434978341036 -12.4224310382617773, -38.3075428170473060 -12.4224307046133049, -38.3075427316117043 -12.4224306623451639, -38.3075425148751378 -12.4224305589231108, -38.3075416964920805 -12.4224301928990144, -38.3075159677876513 -12.4224186914693746, -38.3070003073182761 -12.4222980833897623, -38.3065823527933276 -12.4223259497827030, -38.3055021042386556 -12.4223819604590631, -38.3054876170598391 -12.4222942100097384, -38.3093272707369010 -12.4144596176172399, -38.3093133087621709 -12.4141720297153597, -38.3074447225958465 -12.4152496549475586, -38.3072378812232159 -12.4141729650102661, -38.3073155682588435 -12.4139924126196775, -38.3072482045409402 -12.4135033127276415, -38.3072159116849207 -12.4134089144897644, -38.3071270208952797 -12.4132775703035918, -38.3070380122944130 -12.4131905348152713, -38.3066695654480327 -12.4130141669701857, -38.3063589593984375 -12.4128822562111054, -38.3053343653886031 -12.4127783026764860, -38.3053242201365833 -12.4127774249381559, -38.3053241131173081 -12.4127774168442784, -38.3053236310806824 -12.4127773808713755, -38.3053232560633887 -12.4127773529924070, -38.3053212442799804 -12.4127772028056143, -38.3053203728368885 -12.4127771371551034, -38.3052930523324449 -12.4127750974927267, -38.3039747163600168 -12.4124023195113864, -38.3034861515645844 -12.4120764375774684, -38.3025877693100369 -12.4114081846399813, -38.3024745689461383 -12.4112364995647795, -38.3022575076777798 -12.4098343485762825, -38.3021521898716060 -12.4097588091216835, -38.2962236206235502 -12.4080428082289700, -38.2943329686914922 -12.4087721503144621, -38.2888924048605759 -12.4026225978545881, -38.2801214770245224 -12.4023535197990782, -38.2747945029639141 -12.4055313381007295, -38.2727423273964291 -12.4090931057621674, -38.2701397190727448 -12.4097643021807471, -38.2674247485532533 -12.4085009849324592, -38.2641155384013132 -12.4150921243020207, -38.2611287136192004 -12.4172460527630619, -38.2607883606942210 -12.4172306572689877, -38.2585922666197575 -12.4154915581888190, -38.2584569690138778 -12.4156536169208493, -38.2583339291674633 -12.4157872399890721, -38.2582284863555060 -12.4158731441302734, -38.2544589006577098 -12.4162349332954705, -38.2533897443411774 -12.4149904640386239, -38.2486608239378256 -12.4169902478016638, -38.2418423251631339 -12.4146111947508189, -38.2379125531217596 -12.4170126948799293, -38.2301195678637100 -12.4152906784220249, -38.2290384343762071 -12.4165082660435928, -38.2246089333555688 -12.4130339421626559, -38.2265087898487081 -12.4118163536417683, -38.2237902112491952 -12.4100949370316584, -38.2221632612254894 -12.4107457161418324, -38.2205468080886703 -12.4094126681600869, -38.2178807112258028 -12.4108296876399322, -38.2162957469511184 -12.4097590501399964, -38.2142804291984248 -12.4117953607672575, -38.2111209993345824 -12.4119213189136985, -38.2053689463197657 -12.4102208942787797, -38.2025978841849678 -12.4053505428931885, -38.1931462603915861 -12.4029679258290457, -38.1920628120490733 -12.4040886636608434, -38.1900503235635256 -12.4033891188127541, -38.1871407415519570 -12.4084255021351737, -38.1871837003674273 -12.4121627985742293, -38.1834320840234227 -12.4126066922449922, -38.1774896391355014 -12.4084541410457518, -38.1766734477213845 -12.4057191839930852, -38.1778762558844846 -12.4030987807840347, -38.1764729798441067 -12.4006788463516386, -38.1711892164091751 -12.4000917608260579, -38.1650892606608068 -12.3947364005643976, -38.1632062934356782 -12.3955508023275911, -38.1600381833154643 -12.3932060422250174, -38.1589078353283071 -12.3842423312185588, -38.1523853241233724 -12.3805633360290699, -38.1426028820173428 -12.3720105774261810, -38.1358688718509029 -12.3767970238635030, -38.1307181334350389 -12.3767155039173531, -38.1261959518816411 -12.3801361463659987, -38.1245880099286865 -12.3859541502637853, -38.1226213149217301 -12.3870699436229756, -38.1241873889368321 -12.3880298520959400, -38.1193724924465300 -12.3903281846979212, -38.1211011180221249 -12.3965873591192803, -38.1135209411384608 -12.3939513391829337, -38.1098141856761004 -12.3973716192048187, -38.1034005697804332 -12.3955312357778666, -38.1032288568262629 -12.3984020893848879, -38.1059115632679664 -12.4045694151463408, -38.1042914471925087 -12.4089675199350609, -38.1046379640707187 -12.4128223029069318, -38.1033186181596761 -12.4147094079128237, -38.0941199053093555 -12.4171536366309851, -38.0915036479749460 -12.4195843323510076, -38.0919750123368885 -12.4211295483898994, -38.0884527249132816 -12.4263257637229572, -38.0977850824155553 -12.4361864549409233, -38.0950729150829375 -12.4386572388404488, -38.0928066046410549 -12.4385251940823878, -38.0922916861123895 -12.4409379393343897, -38.0887192893636666 -12.4412993031202745, -38.0865648941544919 -12.4453742311358155, -38.0800824270623366 -12.4508052063951027, -38.0802062709026359 -12.4522152840081048, -38.0774134118993857 -12.4528577012218875, -38.0798907752390505 -12.4553228688552622, -38.0768581156095252 -12.4548179301033315, -38.0752701988605509 -12.4568541957644925, -38.0717023158092047 -12.4557551136075517, -38.0700749413054496 -12.4512908951586496, -38.0653127190067266 -12.4512744762360512, -38.0644805484384960 -12.4539625030670322, -38.0627623648911708 -12.4540731943224046, -38.0598531102327797 -12.4576414505924049, -38.0455633811450866 -12.4311476641333343, -37.8919617558303230 -12.3856088222892708, -37.8928896025730637 -12.3876678336035866, -37.8913886628564569 -12.3891878947055147, -37.8927557609695782 -12.3901056663434019, -37.8913599816777946 -12.3916926486967327, -37.8948427070252478 -12.3954852552403167, -37.8956233626280437 -12.4006530951641594, -37.8930145094120121 -12.4076498422663803, -37.8929159742927482 -12.4079563941722313, -37.9098638556324090 -12.4276527844484121, -37.9165884067295451 -12.4403725328660357, -37.9224119153775518 -12.4443105561871903, -37.9330990286971996 -12.4612399870357535, -37.9537283253019382 -12.4891411594369401, -37.9628437951050159 -12.5070618293399320, -37.9728491890388113 -12.5204534108961525, -37.9812134569354498 -12.5385222000394378, -37.9826084142468972 -12.5458853822045739, -38.0011170123402167 -12.5779618172840060, -38.0079716027072436 -12.5820096837998108, -38.0115489232441632 -12.5817015661742744, -38.0152584009543943 -12.5837153523815459, -38.0230051601599826 -12.5891124816556612, -38.0306085566395495 -12.5970632556646933, -38.0316295839381269 -12.5934663451956226, -38.0340996267963192 -12.5922644381532791, -38.0335925197789493 -12.5900170548431447, -38.0403267898494164 -12.5872893822991045, -38.0411563559810020 -12.5869441253710193, -38.0470171568163096 -12.5842751740599965, -38.0470818225680318 -12.5840373141706436, -38.0471307645730690 -12.5838572878834611, -38.0412362499529308 -12.5717278328731368, -38.0420024147795743 -12.5706077929152684, -38.0475171052301562 -12.5702531902325063, -38.0435787059924451 -12.5625338000947409, -38.0490464599261600 -12.5627073548604926, -38.0493630689504130 -12.5627863018463017, -38.0497962193200010 -12.5628943077260828, -38.0539088846872460 -12.5629447102301697, -38.0593694494405099 -12.5527707788482985, -38.0626194347390765 -12.5526500601521320, -38.0619658596366435 -12.5474741443162543, -38.0647999237774002 -12.5446000045864707, -38.0642233126557130 -12.5429248203241741, -38.0670953839447748 -12.5419220996251397, -38.0694254527224416 -12.5358318871318488, -38.0636529221445699 -12.5333240808416235, -38.0631956159848528 -12.5296459004379130, -38.0668968765895670 -12.5223496206384084, -38.0658297779218628 -12.5199902564451122, -38.0678125806859953 -12.5107065747485535, -38.0731755492121806 -12.5022711093241696, -38.0719284638274758 -12.4997326568366134, -38.0650007028201571 -12.4964563007176821, -38.0639984884394380 -12.4898277558461928, -38.0657428998149499 -12.4870895594355602, -38.0640791801100136 -12.4837626650149218, -38.0656511186041939 -12.4798402692130139, -38.0701522910953258 -12.4765726616989241, -38.0693088960886143 -12.4746591768794701, -38.0709695239243615 -12.4721466950139188, -38.0686800622350461 -12.4711568436134144, -38.0669637483782139 -12.4681417360522460, -38.0703138192273514 -12.4663683943858246, -38.0744509308657371 -12.4701911057348980, -38.0754036105881255 -12.4690577863876797, -38.0785181301075681 -12.4693568730212405, -38.0812492794306650 -12.4726990757017120, -38.0840784674472843 -12.4719898460544982, -38.0865394010724572 -12.4742216252277558, -38.0868037873648291 -12.4741357156906929, -38.0882541878804091 -12.4780133324492795, -38.0925532449362549 -12.4774771602426995, -38.0944969703588754 -12.4805598023929178, -38.0962353589745817 -12.4783882975818301, -38.0994035581276762 -12.4797063754488136, -38.1008856066853809 -12.4832757073079961, -38.1001943778682062 -12.4862536719693367, -38.0950493402548318 -12.4937232870999537, -38.0966379359919074 -12.5015915941766593, -38.1038591529774635 -12.5040019157557367, -38.1073581902282399 -12.5071628933528132, -38.1073078362875890 -12.5092306487753717, -38.1112039503020128 -12.5112219483341960, -38.1129078921854330 -12.5056874781944884, -38.1156689160875430 -12.5056269340357176, -38.1178316210324510 -12.5094045848536553, -38.1215118141188896 -12.5075087321422416, -38.1229588259889738 -12.5085017518543395, -38.1322576873423600 -12.5010157852502175, -38.1408923867741692 -12.4976565350210080, -38.1517766962375049 -12.5025837406470828, -38.1525851157104512 -12.5027363852759095, -38.1557177772535852 -12.5030262088923791, -38.1543328240005621 -12.4961908118564224, -38.1553308520371388 -12.4949090459156764, -38.1588329119093146 -12.4964526512687826, -38.1605030626661801 -12.4956286879135519, -38.1617317560156835 -12.4941495909308173, -38.1604776424292140 -12.4912422347413212, -38.1621291367501954 -12.4890546356628533, -38.1667339129396623 -12.4882008516879068, -38.1686133188495660 -12.4912728710461352, -38.1773892532114019 -12.4878863425806230, -38.1777078839116939 -12.4848979475821693, -38.1819080443207213 -12.4792330856383273, -38.1724828857765033 -12.4686791754035653, -38.1735322534107127 -12.4647806566019881, -38.1726562381948042 -12.4627624583207535, -38.1767100654171259 -12.4613940876669744, -38.1861558400199783 -12.4614859992793754, -38.1862963177208599 -12.4615323467403414, -38.1864600905606721 -12.4615863798075566, -38.1904103617487749 -12.4550145515802342, -38.1940315053496420 -12.4530613841754985, -38.1995133804381339 -12.4575979207074283, -38.2046538207172262 -12.4585950916900856, -38.2049176296448536 -12.4586817692481873, -38.2052109741071035 -12.4587405039710575, -38.2128211128040789 -12.4594273881633626, -38.2139608011499945 -12.4616831513562829, -38.2127224625715485 -12.4631525419562195, -38.2130502123973201 -12.4670588803629698, -38.2216004735829529 -12.4722477410403485, -38.2248207290933237 -12.4767031290461432, -38.2348820860394198 -12.4735850940767818, -38.2392654095709759 -12.4699506899723360, -38.2428197110607471 -12.4697463747953066, -38.2442641139976445 -12.4711085877910364, -38.2420291017616023 -12.4868921258708383, -38.2445789108879808 -12.4894835906951016, -38.2478376735697339 -12.4976995657822840, -38.2399337857156070 -12.5046076352341515, -38.2395280493799419 -12.5091581733109933, -38.2395797918738367 -12.5092777471702448, -38.2391263006382474 -12.5156083880166307, -38.2357312681834287 -12.5178652016177239, -38.2354580397566792 -12.5179590746515146, -38.2300261301018054 -12.5179805945287512, -38.2265536903005341 -12.5204815740653430, -38.2244727643065971 -12.5203373650772960, -38.2236379866037623 -12.5247323006551028, -38.2260446272576928 -12.5314712166232880, -38.2237505736300136 -12.5358181382964062, -38.2246114964233925 -12.5394390561674527, -38.2230856463854138 -12.5395274271489825, -38.2234951769607960 -12.5410487814760359, -38.2234366958467717 -12.5411699408400636, -38.2221351412237595 -12.5415587051700754, -38.2220915097153693 -12.5415728524051815, -38.2226297530606303 -12.5461991484718851, -38.2143136753358021 -12.5550532743890813, -38.2175319478410529 -12.5632060514180921, -38.2154828317672468 -12.5660879064316759, -38.2154394385792102 -12.5661626328991360, -38.2150317983787318 -12.5667685601209200, -38.2164104069146902 -12.5706577349664599, -38.2188734980134655 -12.5686189368144596, -38.2189832836515961 -12.5688614354068591, -38.2202650603841789 -12.5666855607899492, -38.2282679051396599 -12.5685125353252261, -38.2319121972900575 -12.5666022727766062, -38.2344378002642316 -12.5721128092586696, -38.2376967068374825 -12.5711617348261484, -38.2391265272673877 -12.5735207833574236, -38.2425440068004150 -12.5735805729850085, -38.2475938116050997 -12.5765594153846791, -38.2493651199043256 -12.5755455592801013, -38.2534800893346301 -12.5786013773516174, -38.2518297146695545 -12.5814265516939372, -38.2533935169971642 -12.5858276782047369, -38.2527003924091673 -12.5886186531282647, -38.2554387596909464 -12.5925160810522243, -38.2557851335770351 -12.5960657924023280, -38.2527899747774427 -12.5965736233739563, -38.2523869831726984 -12.5996234942288083, -38.2557189605615235 -12.5994853080005100, -38.2576678930587946 -12.6005599582754257, -38.2571397751804625 -12.6014525911641044, -38.2599545065951361 -12.6017000531149392, -38.2609651080532558 -12.6060074333963144, -38.2691664062046470 -12.6067999573521092, -38.2730544479044283 -12.6111850489508015, -38.2804543107178006 -12.6102651270339265, -38.2820645162643700 -12.6084679155617891, -38.2815843898076764 -12.6067492032130986, -38.2875964053498024 -12.6040911130144195, -38.2875894472950904 -12.6008346058323468, -38.2903032028305006 -12.6002779371769975, -38.2928638757671820 -12.6021914840496834, -38.3025014092125957 -12.5964019194129833, -38.3028349120015719 -12.5961751373726543, -38.3046502340210395 -12.5962414425884504, -38.3066972942447137 -12.5926757224066250, -38.3087834938631318 -12.5922843149691062, -38.3098539928674313 -12.5877028941731623, -38.3114926844397701 -12.5880838631796905, -38.3117953728581142 -12.5880838631796905, -38.3132775005561825 -12.5871653612923637, -38.3136219400004734 -12.5836426961534471, -38.3157659777176605 -12.5826405357320823, -38.3157741804340617 -12.5826028046756733, -38.3158060524073676 -12.5824561926991123, -38.3158816638077155 -12.5821083807970808, -38.3209082022517009 -12.5769235391899201, -38.3264122573197596 -12.5767634976372733, -38.3319580616151825 -12.5800200057186657, -38.3360277726635559 -12.5800534380156819, -38.3371999229380549 -12.5779260980109484, -38.3389743024220593 -12.5777277849093139, -38.3397414601002424 -12.5746017459737232, -38.3453933799005426 -12.5748470279679054, -38.3489056084070512 -12.5714391756773693, -38.3468024457762340 -12.5691742322050004, -38.3466189202269447 -12.5654402083988543, -38.3498761441686611 -12.5561937901112515, -38.3450032387084434 -12.5515769540131714, -38.3450331996224349 -12.5501160988787888, -38.3432680049144778 -12.5499151561594999, -38.3419665743978726 -12.5468854822791513, -38.3423024271152713 -12.5437228670166405, -38.3459961540991685 -12.5399928442942610, -38.3551749442682421 -12.5356749329517356, -38.3589742804386447 -12.5366475065771397, -38.3632004285568655 -12.5357798874318291, -38.3647187638597984 -12.5376970468811351, -38.3707400702979839 -12.5365860100362738, -38.3714083007524209 -12.5378151656373120, -38.3735251816417531 -12.5369908506472143, -38.3781869172923393 -12.5386303561060117, -38.3681370572793412 -12.5257922667996127, -38.3683144449556153 -12.5190791487836464, -38.3665557802250419 -12.5161095999779945, -38.3696550670276793 -12.5119652056296786, -38.3665197416926844 -12.5090172801233166, -38.3663900045950186 -12.5088298811940035, -38.3707558003398503 -12.5075199260037380, -38.3735181633325055 -12.5084063652615214, -38.3731469357824153 -12.5018823476921739, -38.3763322931008020 -12.4988613091020966, -38.3771392053100158 -12.4931735702040783, -38.3836605141214022 -12.4837552986680294, -38.3836891179583972 -12.4837228106591169, -38.3837278733426501 -12.4836785909941455, -38.3840116157434181 -12.4833541569687441, -38.3848383750909079 -12.4826095749718888, -38.3306162317536518 -12.4409408261581689, -38.3290313888874721 -12.4389665282826059, -38.3274094588794014 -12.4392581946099199, -38.3287435203970972 -12.4378463453325026, -38.3277617961699093 -12.4364160887314483, -38.3209140253619580 -12.4341709132569918, -38.3207540548556835 -12.4277457788445531, -38.3190581394215428 -12.4243189130873475, -38.3198125123375348 -12.4222129886384778, -38.3172393828911595 -12.4228557736749963, -38.3172045134774635 -12.4228636283536957, -38.3161362969524930 -12.4235754597396522, -38.3161360892091238 -12.4235755838460591, -38.3136051640470328 -12.4250131870089149, -38.3132566794521381 -12.4231811969546015, -38.3131987262401594 -12.4231783290166504, -38.3113756070985687 -12.4233898189849015, -38.3111991160463390 -12.4233314979502438, -38.3095349223987114 -12.4236329012373403, -38.3094378001143241 -12.4236588493763520, -38.3093822004281606 -12.4236683471164611, -38.3093102807447963 -12.4236850951909332, -38.3092210230317392 -12.4236981110789202, -38.3082956746056311 -12.4229280404966289, -38.3079413219344360 -12.4226350611590988, -38.3076827659468222 -12.4225000702220427, -38.3076624367719774 -12.4224894573225697, -38.3076614717994630 -12.4224889528028939, -38.3076611579360247 -12.4224887891262483, -38.3076181775368241 -12.4224676919303647))"
          ],
          [
           2919207,
           "Lauro de Freitas",
           "2927408",
           "Salvador/BA",
           0.378176287882,
           0.00480842837372,
           "POLYGON ((-38.3709217387471995 -12.8266873425467907, -38.3709529245377894 -12.8266698867058722, -38.3714189145512137 -12.8262762966137416, -38.3714234588255181 -12.8262708575140323, -38.3714245425085778 -12.8262694132027946, -38.3714284671499968 -12.8262638967613611, -38.3714428607993341 -12.8262436629146919, -38.3788940416266655 -12.8225714072445953, -38.3739000703319562 -12.8198899085923586, -38.3738998706824646 -12.8198894634279554, -38.3715914494857770 -12.8180064386461936, -38.3713241143163941 -12.8178727715111336, -38.3665709499892955 -12.8173808801234941, -38.3626946336503920 -12.8146487460427352, -38.3594599161421570 -12.8164398718025723, -38.3531134517243686 -12.8109542159642729, -38.3458099395770091 -12.8092593311531573, -38.3422256915623620 -12.8112152864562745, -38.3408913017921122 -12.8100747815258842, -38.3396709622450658 -12.8125154615192969, -38.3322782328540939 -12.8123256173333289, -38.3330108682569062 -12.8181819413434823, -38.3262016801633649 -12.8190517512372821, -38.3273166155693161 -12.8264127840226934, -38.3262988366219588 -12.8291760175591207, -38.3279565749359676 -12.8324157703714832, -38.3269021171389568 -12.8356311857305627, -38.3250750427789626 -12.8360613800286387, -38.3243657627696734 -12.8361291376495501, -38.3240997603955975 -12.8361632453374455, -38.3208197791094562 -12.8363113456920246, -38.3187358898493926 -12.8399415436672371, -38.3123888930329599 -12.8401163565845309, -38.3135849472874384 -12.8501216947603325, -38.3078698168385472 -12.8525246131203517, -38.3057823042099130 -12.8573549419769506, -38.2988092506463431 -12.8593716257998381, -38.2920473992680286 -12.8555787395671359, -38.2917959299381891 -12.8554777115271008, -38.2887482651203186 -12.8561438564537411, -38.2906485460935073 -12.8612805411639783, -38.2893466443321131 -12.8640080392395930, -38.2893103530902863 -12.8643036571879747, -38.2912648640821658 -12.8690925830562151, -38.2906226887860157 -12.8704824502048609, -38.2903968249534614 -12.8704701735596245, -38.2903906142354344 -12.8704698363138732, -38.2902858746933248 -12.8704641436053180, -38.2859061646377654 -12.8706262005386520, -38.2840485510997155 -12.8692121371303756, -38.2782288942480022 -12.8707269416949543, -38.2775641315793678 -12.8737866286499525, -38.2752015693968701 -12.8753456546781990, -38.2816815597561231 -12.8785815709826466, -38.2818901116393135 -12.8800607174281367, -38.2803665485773195 -12.8796216621099688, -38.2801652380352380 -12.8806886375705290, -38.2825451580325762 -12.8851559146137333, -38.2898367460689428 -12.8922951790792126, -38.3040495831216958 -12.9105365067543403, -38.3041551509394367 -12.9106786787779697, -38.3043303775448294 -12.9108703890571519, -38.3068263532535411 -12.9067368621164746, -38.3055339078634915 -12.9065261554576409, -38.3061033441939571 -12.9035791202801420, -38.3157546561524214 -12.9033914011921524, -38.3199097200574670 -12.9001872480430393, -38.3253400693886306 -12.9007697065566731, -38.3280824980088255 -12.8987756505757716, -38.3294680286265930 -12.8999793814432451, -38.3323461127828296 -12.8994515297642351, -38.3345696883404230 -12.9026036049723416, -38.3406170643260111 -12.9039975046810582, -38.3464140825438449 -12.8998970844828023, -38.3468100171685364 -12.8996542756243002, -38.3487320563392586 -12.8984755755872698, -38.3487369801275122 -12.8984725538652469, -38.3548630063226597 -12.8946656274167140, -38.3549494725400564 -12.8866776628437947, -38.3550001844109261 -12.8841278977841966, -38.3550591529574945 -12.8791331989379501, -38.3549436386379625 -12.8758544290386112, -38.3535852054927773 -12.8580637795197390, -38.3521831588256532 -12.8528669535470499, -38.3547448920630814 -12.8356020324078486, -38.3642286918006334 -12.8283832444910786, -38.3642617679661839 -12.8283594196514628, -38.3646381441350286 -12.8280575595086930, -38.3652538442894411 -12.8276983684848460, -38.3655218665408597 -12.8275804718612676, -38.3657396958302570 -12.8274480952533736, -38.3671915568448298 -12.8262273474140898, -38.3709217387471995 -12.8266873425467907))"
          ],
          [
           2929206,
           "São Francisco do Conde",
           "2927408",
           "Salvador/BA",
           0.716274774213,
           0.0218973977694,
           "POLYGON ((-38.5510418755820297 -12.6672602354714172, -38.5510703022525831 -12.6672801338710315, -38.5510722483855375 -12.6672815008405450, -38.5524637307165676 -12.6684411757196358, -38.5527030349171014 -12.6685064413191526, -38.5529406942575861 -12.6685662075643677, -38.5531203841983370 -12.6686223594342664, -38.5537907073751853 -12.6689342551117647, -38.5537908359782477 -12.6689343144669806, -38.5537969720525666 -12.6689372858270417, -38.5542548906506681 -12.6691590910191962, -38.5581635367178137 -12.6758378720201108, -38.5581614430960826 -12.6759599064245094, -38.5581417821175023 -12.6760844283536471, -38.5581575715146982 -12.6761983508731646, -38.5583013182512104 -12.6766137989876029, -38.5582650602842705 -12.6766790645871197, -38.5582486800325341 -12.6767063644071527, -38.5582215501843280 -12.6767515814203193, -38.5581980032351908 -12.6767693115544375, -38.5581200266178712 -12.6769328730536017, -38.5582215501843280 -12.6770634024539959, -38.5582868148845819 -12.6771069125539384, -38.5583085703841562 -12.6774042311203061, -38.5582578081512679 -12.6775347605207571, -38.5577646945849324 -12.6777740656206106, -38.5576849274174265 -12.6778393303208077, -38.5572106267689492 -12.6779350082939573, -38.5571676553629459 -12.6783862134529386, -38.5567070280068833 -12.6801582304179306, -38.5567071943814881 -12.6802490322669996, -38.5565719399430122 -12.6804760850032494, -38.5565669424104271 -12.6804785842192587, -38.5563494422729036 -12.6808734036845863, -38.5563417099019716 -12.6808801692843645, -38.5563243493891719 -12.6808953597330287, -38.5562845876635265 -12.6809301500063611, -38.5562222997193089 -12.6809846525196690, -38.5561933406501112 -12.6810208520306560, -38.5561930429744848 -12.6810212243499905, -38.5561931427992590 -12.6810269935008932, -38.5561950547579499 -12.6811378987949297, -38.5561584892228666 -12.6812630637393795, -38.5561356266578059 -12.6812935201797927, -38.5561189981931420 -12.6813233731750756, -38.5561189981931420 -12.6813581310728409, -38.5561428374219872 -12.6814058095304176, -38.5562349109123375 -12.6814483051950901, -38.5562448718033579 -12.6814529016300526, -38.5562684888996046 -12.6814634201007266, -38.5563097102249230 -12.6815329511846926, -38.5562779245864817 -12.6815567904134809, -38.5562750377627594 -12.6815741122554186, -38.5562705591389658 -12.6816091084735376, -38.5563256030441153 -12.6816998239876284, -38.5563812279112881 -12.6817157177061404, -38.5563812279112881 -12.6825182996797139, -38.5564050671400764 -12.6826136556956044, -38.5564006703546056 -12.6827786740964825, -38.5563891743208842 -12.6828361533657130, -38.5563573886824997 -12.6829632950199880, -38.5563891743208842 -12.6832652576854343, -38.5565811786784138 -12.6833366278830226, -38.5568897954276508 -12.6836784682866437, -38.5567962074789534 -12.6837032580988307, -38.5566990815972872 -12.6837181994353045, -38.5566514040390302 -12.6837658769935615, -38.5566483661291386 -12.6837739780865491, -38.5566447625457158 -12.6837835864433259, -38.5566037255814535 -12.6838930195471562, -38.5565572063499644 -12.6839384074315262, -38.5559597453459446 -12.6839289870330845, -38.5559940059185919 -12.6839915528678375, -38.5572632730815599 -12.6849101536806188, -38.5572507805990199 -12.6849976037563579, -38.5572473811616874 -12.6850214025156447, -38.5587969211409813 -12.6876198622667857, -38.5586976413829916 -12.6879672379976114, -38.5595836102953626 -12.6892965430010349, -38.5594859771960614 -12.6895180909870646, -38.5574301467838154 -12.6908540302892447, -38.5574142539646232 -12.6909732255338668, -38.5576728180460577 -12.6922083940021366, -38.5577736590270774 -12.6923098501194431, -38.5585823689810923 -12.6950576539874760, -38.5570248825922022 -12.6977673616743800, -38.5558398261470074 -12.6976470989343966, -38.5570464924016392 -12.6994952830808074, -38.5556259862502202 -12.7007935938492551, -38.5538847216025715 -12.6998771388188629, -38.5549997424441244 -12.7022446481719271, -38.5533195741389818 -12.7044594148700298, -38.5557940029908082 -12.7051162077467552, -38.5508636344491151 -12.7071507224278548, -38.5533406353619625 -12.7104216331517819, -38.5502285062405008 -12.7092148886561631, -38.5488629801423599 -12.7115648639272649, -38.5462907104478631 -12.7117871592499796, -38.5460366591644288 -12.7148357746512488, -38.5388597086086406 -12.7196309939751586, -38.5333340931937869 -12.7262045722831658, -38.5331753106920019 -12.7293484573653473, -38.5355304759506794 -12.7342941368648894, -38.5350458411925842 -12.7386926463485111, -38.5350331319734210 -12.7387329440700796, -38.5408476177233297 -12.7388410443786597, -38.5484757005930874 -12.7358508363469696, -38.5611688308767953 -12.7367662067949823, -38.5763639722194966 -12.7339590710542439, -38.5879342647544945 -12.7338819865643700, -38.6016883963023929 -12.7360198675228276, -38.6056920188715367 -12.7338072250233836, -38.6057044439049264 -12.7337918664014751, -38.6059936317006986 -12.7334343912841064, -38.6060032580438701 -12.7334205399259304, -38.6060048525418438 -12.7334182457553879, -38.6060142864301383 -12.7334046704891080, -38.6066622263805925 -12.7324723307334580, -38.6066713580966621 -12.7324591907390072, -38.6071890015711006 -12.7315131300268831, -38.6076600160968155 -12.7298416185957990, -38.6092826125025113 -12.7270012708918898, -38.6113114758438769 -12.7262999813590341, -38.6176131837014509 -12.7285293323627684, -38.6362576028060971 -12.7262681273721228, -38.6375684456272097 -12.7263372249828990, -38.6872071878613610 -12.7265380543876745, -38.6843873905655755 -12.7134619073411272, -38.6842734500596066 -12.6875403810836929, -38.6861249877779301 -12.6836379106609911, -38.6961593677605720 -12.6726948619782434, -38.6992268023749943 -12.6639460673570738, -38.7137792926801581 -12.6517435253433632, -38.7182632530466435 -12.6416891642235214, -38.7188357776489624 -12.6353198264487787, -38.7176214590630252 -12.6134876866074137, -38.7111794479731088 -12.6096224795937246, -38.7099538950561737 -12.5949786892151110, -38.6958128949490856 -12.5904430942733256, -38.6965566073015452 -12.5814557032180687, -38.6904602650291736 -12.5667071643041481, -38.6927647238128998 -12.5625591384933841, -38.6905231141503805 -12.5608726938197037, -38.6908164091499316 -12.5593014711859041, -38.6889375886987068 -12.5594753721906045, -38.6862660842123773 -12.5569096126884006, -38.6892969290100268 -12.5553678212679074, -38.6886855617892138 -12.5533122066929650, -38.6871615724485878 -12.5529843723308545, -38.6884817718162708 -12.5518413807750449, -38.6861497173355247 -12.5529400357539771, -38.6860983237785945 -12.5529489300490127, -38.6869046199522018 -12.5511591289905482, -38.6856464432287339 -12.5517704971106809, -38.6848401461557501 -12.5497060233142861, -38.6804276648048244 -12.5509287586552318, -38.6810656150860268 -12.5523109815665066, -38.6749962380858960 -12.5517084744664658, -38.6734811088660422 -12.5498389296228652, -38.6642574290370931 -12.5503971343202352, -38.6625828131462868 -12.5491743989792894, -38.6584007021306775 -12.5522489598216112, -38.6556451173282767 -12.5513451978225703, -38.6517178516974695 -12.5539896336146626, -38.6456156953080381 -12.5589157609535391, -38.6470482748579798 -12.5681813258074726, -38.6421315921991777 -12.5705513388731447, -38.6396512206272860 -12.5698702723951214, -38.6208295838181925 -12.5542565667871031, -38.5791660717567879 -12.6320706874122379, -38.5735851471367823 -12.6351684318775597, -38.5700539528276067 -12.6415362785763250, -38.5658355289864403 -12.6457400812396941, -38.5670125940559387 -12.6482696736064781, -38.5657477983222066 -12.6514280089953672, -38.5594253260179585 -12.6548515616502186, -38.5578662190507089 -12.6524295075157056, -38.5539285662503062 -12.6534592429496797, -38.5521374054168859 -12.6581365656499543, -38.5508756170160609 -12.6583396109842283, -38.5508231883394501 -12.6583570875095575, -38.5507885968162327 -12.6583686186168052, -38.5501057352914245 -12.6653282956642670, -38.5500574048253384 -12.6655423352105458, -38.5500561790493634 -12.6655477635184184, -38.5509891465318333 -12.6672233254960247, -38.5510155317413705 -12.6672417948728935, -38.5510418755820297 -12.6672602354714172))"
          ],
          [
           2930709,
           "Simões Filho",
           "2927408",
           "Salvador/BA",
           0.624864816709,
           0.0167323731242,
           "POLYGON ((-38.4336016192193028 -12.8458670534217276, -38.4340028400589517 -12.8458053266544425, -38.4407412937756590 -12.8397458610825765, -38.4408750346551074 -12.8396841352146112, -38.4431815780673105 -12.8400503967084205, -38.4433132226270686 -12.8401162189882712, -38.4464304023411501 -12.8408363592105843, -38.4503546642363290 -12.8458319717680638, -38.4506390082835878 -12.8456897997444344, -38.4508522654196554 -12.8455831716260036, -38.4510191966785442 -12.8454046040391745, -38.4510445260839901 -12.8453843405148405, -38.4550174107249063 -12.8421396423306078, -38.4549044936474047 -12.8385348484044925, -38.4550550905199771 -12.8384159571306782, -38.4564412146902441 -12.8381716230219354, -38.4567323926857512 -12.8382120655343783, -38.4578848019419866 -12.8376314425369742, -38.4579499955957544 -12.8375103677092284, -38.4580846492871160 -12.8371821520346430, -38.4581735193923464 -12.8368956792921267, -38.4579127420793156 -12.8345114335557469, -38.4575601098111974 -12.8336651148531473, -38.4572712574625371 -12.8331128115070214, -38.4571210976604902 -12.8328256966485128, -38.4570559040067224 -12.8322668894053891, -38.4571020320331058 -12.8322174653636694, -38.4574191293892795 -12.8319129774019416, -38.4642086421151248 -12.8291003126292935, -38.4635879093544872 -12.8235022856019327, -38.4662046676112936 -12.8166788387573547, -38.4605087268961938 -12.7976499882562962, -38.4622706921387021 -12.7914831112565253, -38.4549081952569622 -12.7832396322032196, -38.4485525361705527 -12.7665009637484559, -38.4479861170656250 -12.7646105969014911, -38.4511661512967748 -12.7523450762641914, -38.4483938310104350 -12.7460618341862642, -38.4471272339346797 -12.7462706144972344, -38.4471352882629276 -12.7462102052367641, -38.4471414441222805 -12.7461640394388382, -38.4471474030301579 -12.7461193521263567, -38.4470854784120775 -12.7459365667191378, -38.4469602109449511 -12.7457695428300894, -38.4468587332439142 -12.7455387507127398, -38.4455561138235566 -12.7441376861052618, -38.4455493904919194 -12.7441183183057092, -38.4455457536335530 -12.7441078412038564, -38.4447071753957630 -12.7416920202704773, -38.4420366898413022 -12.7339987509415664, -38.4419231513323325 -12.7336716648154606, -38.4194464988568143 -12.6689197868186625, -38.4161510411375957 -12.6666844948935022, -38.4168033607864459 -12.6645175217661858, -38.4152463096693850 -12.6628204363140640, -38.4123448926026754 -12.6622850582087949, -38.4115743201986675 -12.6605869754085347, -38.4102553879757238 -12.6614892148553508, -38.4089444147529093 -12.6593305658528834, -38.4033859507010220 -12.6585640224116673, -38.3997097056383723 -12.6613743156721057, -38.3996564891556318 -12.6628662127055236, -38.3995829875647701 -12.6630512041497241, -38.3973664833764587 -12.6639407163909254, -38.3969146558866328 -12.6641919788766586, -38.3931653588941799 -12.6666764783367398, -38.3901638239013323 -12.6652626028867417, -38.3868705749170545 -12.6670042263639289, -38.3868320479605813 -12.6670214187034844, -38.3864604103196143 -12.6700927338924885, -38.3841946673499592 -12.6702186155965819, -38.3837582398508630 -12.6701832443611693, -38.3816274347582862 -12.6716359498391853, -38.3815947686836125 -12.6717397208114448, -38.3782515956345947 -12.6738172671530833, -38.3782279605518966 -12.6739540504390220, -38.3782039603444787 -12.6740929507290616, -38.3781606301089369 -12.6741878372988026, -38.3767667438900730 -12.6738442953778758, -38.3767244451769329 -12.6738338695374182, -38.3757824547964219 -12.6770351151783984, -38.3713614460738199 -12.6800771511395851, -38.3729172723142256 -12.6847106597691095, -38.3691126319423574 -12.6889569095337151, -38.3672374879196809 -12.6936108003980621, -38.3688816356789175 -12.6975105566668276, -38.3670812262175787 -12.7022255933364363, -38.3678625356274665 -12.7075249132441286, -38.3677884054105220 -12.7075221163525498, -38.3649886737882184 -12.7111325274441356, -38.3626787129521745 -12.7118526928474580, -38.3625463030693936 -12.7117727467148711, -38.3585071968495868 -12.7138501284806011, -38.3582150547808851 -12.7138637163374142, -38.3572842771476417 -12.7135376041770201, -38.3570872509757805 -12.7135715742687125, -38.3542660039728389 -12.7188726451564094, -38.3542745349417942 -12.7189863923081248, -38.3529972629133340 -12.7279272974067794, -38.3508522557269771 -12.7306133313401233, -38.3522698831485513 -12.7317248789998985, -38.3527692739827444 -12.7318215363347917, -38.3466252712392475 -12.7384077564127551, -38.3493963666489321 -12.7436923184457100, -38.3474421479367606 -12.7468152987869416, -38.3469039360677471 -12.7536589462033589, -38.3450269340457339 -12.7552891661620151, -38.3453463255724500 -12.7586193601952687, -38.3463020387080746 -12.7584616748663393, -38.3456936833167674 -12.7614658547653335, -38.3454405718248950 -12.7615386261066419, -38.3449903721079295 -12.7616250671430862, -38.3449019192880769 -12.7616684171636621, -38.3434918884398712 -12.7614839050581281, -38.3419614356716920 -12.7644450910680689, -38.3429070332329616 -12.7703557251365396, -38.3409163685955150 -12.7702820427820143, -38.3386619588822555 -12.7724375306674460, -38.3385236350576406 -12.7724887263735809, -38.3370444346529098 -12.7723493809191382, -38.3369070461232582 -12.7723951519146794, -38.3374438937206605 -12.7739074761490770, -38.3353829182869958 -12.7746428652759505, -38.3331896103122176 -12.7798140758588943, -38.3339577329629719 -12.7828377323754125, -38.3339676120156128 -12.7828711313975418, -38.3339738623038784 -12.7828922600696728, -38.3339732174899268 -12.7828996246179258, -38.3339729117204797 -12.7829031112894995, -38.3314778578168216 -12.7917665047203855, -38.3277756439308064 -12.7955640260589121, -38.3297631150756501 -12.7986067913702755, -38.3277932319720094 -12.7986067913702755, -38.3269665850398269 -12.8023530864257395, -38.3281977614175275 -12.8069084385735437, -38.3302555847274107 -12.8075416161526050, -38.3322782328540939 -12.8123256173333289, -38.3396709622450658 -12.8125154615192969, -38.3408913017921122 -12.8100747815258842, -38.3422256915623620 -12.8112152864562745, -38.3458099395770091 -12.8092593311531573, -38.3531134517243686 -12.8109542159642729, -38.3594599161421570 -12.8164398718025723, -38.3626946336503920 -12.8146487460427352, -38.3665709499892955 -12.8173808801234941, -38.3713241143163941 -12.8178727715111336, -38.3715914494857770 -12.8180064386461936, -38.3738998706824646 -12.8198894634279554, -38.3739000703319562 -12.8198899085923586, -38.3788940416266655 -12.8225714072445953, -38.3794120601184545 -12.8261651826770162, -38.3816318324430767 -12.8276688986007343, -38.3819387179974001 -12.8298317591283535, -38.3820397766143628 -12.8300801230991510, -38.3882434080068151 -12.8350920043924361, -38.3883109237100939 -12.8353283102532600, -38.3892846061995670 -12.8391079440763178, -38.3893181635024234 -12.8392147187842056, -38.3927306868716869 -12.8457850946064127, -38.3928000255007191 -12.8465988227774233, -38.3903915727128719 -12.8504394531182129, -38.3901051512316940 -12.8545687046819239, -38.3932319249133798 -12.8555234456504763, -38.3968360704282645 -12.8595572224878083, -38.3996691579052936 -12.8600819148484220, -38.4007114847472053 -12.8620443200892396, -38.3993088472254840 -12.8654930087952835, -38.3993111333020920 -12.8655034580181109, -38.4022492391110291 -12.8679765783563766, -38.4022490790317192 -12.8723489346555766, -38.4067695581685484 -12.8735387143401567, -38.4094015356523073 -12.8703275212980088, -38.4159967507494002 -12.8669667790935591, -38.4167875381143631 -12.8621685173631590, -38.4197998200056645 -12.8603621885641246, -38.4207102810545962 -12.8576342003580066, -38.4207681371397598 -12.8574701730100287, -38.4227832255653539 -12.8561113396665405, -38.4291990825715857 -12.8581650314909552, -38.4281491285793777 -12.8490459572051350, -38.4336016192193028 -12.8458670534217276))"
          ]
         ],
         "index": [
          0,
          1,
          2,
          3,
          4,
          5,
          6,
          7,
          8,
          9
         ]
        }
       },
       "height": 400,
       "layout": "IPY_MODEL_154f9087c02143ee90aec829c585b6d3",
       "value": "Hello World!"
      }
     }
    },
    "version_major": 2,
    "version_minor": 0
   }
  }
 },
 "nbformat": 4,
 "nbformat_minor": 5
}
