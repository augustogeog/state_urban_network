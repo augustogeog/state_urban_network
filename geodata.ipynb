{
 "cells": [
  {
   "cell_type": "code",
   "execution_count": 1,
   "metadata": {
    "ExecuteTime": {
     "end_time": "2021-06-03T19:50:14.598855Z",
     "start_time": "2021-06-03T19:50:14.594873Z"
    }
   },
   "outputs": [],
   "source": [
    "import geopandas as gpd\n",
    "import pandas as pd\n",
    "import plotly.express as px\n",
    "import json\n",
    "import numpy as np\n",
    "import plotly.io as pio\n",
    "pio.renderers.default = 'plotly_mimetype+notebook'\n",
    "import os\n",
    "from urllib import request\n",
    "import geodata as geo\n",
    "%config Completer.use_jedi = False\n",
    "from zipfile import ZipFile\n",
    "import app_functions as app\n",
    "import plotly.graph_objects as go"
   ]
  },
  {
   "cell_type": "markdown",
   "metadata": {},
   "source": [
    "## Download Sectors"
   ]
  },
  {
   "cell_type": "code",
   "execution_count": null,
   "metadata": {},
   "outputs": [],
   "source": [
    "list_ufs = ['PE', 'GO', 'AC','AL','AM','AP','BA','CE','DF','ES','MA','MG','MS','MT','PA','PB','PI','PR','RJ','RN','RO','RR','RS','SC','SE','SP','TO']\n",
    "#list_ufs = ['GO', 'AC']"
   ]
  },
  {
   "cell_type": "code",
   "execution_count": null,
   "metadata": {},
   "outputs": [],
   "source": [
    "geo.donwload_sectors_shp_2010(ufs=list_ufs)"
   ]
  },
  {
   "cell_type": "code",
   "execution_count": null,
   "metadata": {},
   "outputs": [],
   "source": [
    "geo.download_sector_statistics_2010(ufs=list_ufs)"
   ]
  },
  {
   "cell_type": "code",
   "execution_count": null,
   "metadata": {},
   "outputs": [],
   "source": [
    "#for uf in ['TO', 'PE', 'GO', 'AC']:\n",
    "for uf in ['AL','AM','AP','BA','CE','DF']:\n",
    "    #,,'ES','MA','MG','MS','MT','PA','PB','PI','PR','RJ','RN','RO','RR','RS','SC','SE']:\n",
    "    df = geo.treat_sectors_shp(uf=uf)\n",
    "    geo.save_sectors_geodataframe(gdf=df, uf=uf)\n",
    "    print(f'{uf} treatment done!')"
   ]
  },
  {
   "cell_type": "code",
   "execution_count": null,
   "metadata": {},
   "outputs": [],
   "source": [
    "for uf in ['ES','MA','MS','MT','PA','PB']:\n",
    "#    ,'PI','PR','RJ','RN','RO','RR','RS','SC','SE']:\n",
    "    df = geo.treat_sectors_shp(uf=uf)\n",
    "    geo.save_sectors_geodataframe(gdf=df, uf=uf)\n",
    "    print(f'{uf} treatment done!')"
   ]
  },
  {
   "cell_type": "code",
   "execution_count": null,
   "metadata": {},
   "outputs": [],
   "source": [
    "for uf in ['MG']:\n",
    "#    ,'PI','PR','RJ','RN','RO','RR','RS','SC','SE']:\n",
    "    df = geo.treat_sectors_shp(uf=uf)\n",
    "    geo.save_sectors_geodataframe(gdf=df, uf=uf)\n",
    "    print(f'{uf} treatment done!')"
   ]
  },
  {
   "cell_type": "code",
   "execution_count": null,
   "metadata": {},
   "outputs": [],
   "source": [
    "for uf in ['PI','PR','RN','RO','RR','SC','SE']:\n",
    "#    ,'PI','PR','RJ','RN','RO','RR','RS','SC','SE']:\n",
    "    df = geo.treat_sectors_shp(uf=uf)\n",
    "    geo.save_sectors_geodataframe(gdf=df, uf=uf)\n",
    "    print(f'{uf} treatment done!')"
   ]
  },
  {
   "cell_type": "code",
   "execution_count": null,
   "metadata": {},
   "outputs": [],
   "source": [
    "for uf in ['RJ']:\n",
    "#    ,'PI','PR','RJ','RN','RO','RR','RS','SC','SE']:\n",
    "    df = geo.treat_sectors_shp(uf=uf)\n",
    "    geo.save_sectors_geodataframe(gdf=df, uf=uf)\n",
    "    print(f'{uf} treatment done!')"
   ]
  },
  {
   "cell_type": "code",
   "execution_count": null,
   "metadata": {},
   "outputs": [],
   "source": [
    "for uf in ['RS']:\n",
    "#    ,'PI','PR','RJ','RN','RO','RR','RS','SC','SE']:\n",
    "    df = geo.treat_sectors_shp(uf=uf)\n",
    "    geo.save_sectors_geodataframe(gdf=df, uf=uf)\n",
    "    print(f'{uf} treatment done!')"
   ]
  },
  {
   "cell_type": "code",
   "execution_count": null,
   "metadata": {},
   "outputs": [],
   "source": [
    "for uf in ['SP']:\n",
    "#    ,'PI','PR','RJ','RN','RO','RR','RS','SC','SE']:\n",
    "    df = geo.treat_sectors_shp(uf=uf)\n",
    "    geo.save_sectors_geodataframe(gdf=df, uf=uf)\n",
    "    print(f'{uf} treatment done!')"
   ]
  },
  {
   "cell_type": "code",
   "execution_count": null,
   "metadata": {},
   "outputs": [],
   "source": [
    "def plot_density_map(gdf):\n",
    "\n",
    "#    gdf.drop(labels=['CD_GEOCODM', 'NM_MUNICIP', 'CD_GEOCODB'], axis=1, inplace=True)\n",
    "    gdf['Pop/ha'] = gdf['Pop/ha'].fillna(0).astype(np.int64)\n",
    "    gdf['Hab/ha'] = pd.cut(gdf['Pop/ha'], bins=[0, 10,25,50,75,100,9999999], labels=['Até 10', '10 a 25', '25 a 50', '50 a 75', '75 a 100', 'acima de 100'])\n",
    "    gdf['Hab/ha'].fillna('Até 10', inplace=True)\n",
    "\n",
    "    \n",
    "    lon = gdf.dissolve(by='NM_MUNICIP').centroid.x[0]\n",
    "    lat = gdf.dissolve(by='NM_MUNICIP').centroid.y[0]\n",
    "\n",
    "    minx, miny, maxx, maxy = gdf.total_bounds\n",
    "    max_bound = max(abs(maxx-minx), abs(maxy-miny)) * 111\n",
    "    zoom = 12.7 - np.log(max_bound)\n",
    "\n",
    "    fig_map = px.choropleth_mapbox(\n",
    "        data_frame=gdf\n",
    "        , geojson=gdf.geometry\n",
    "    #    , featureidkey=gdf.index\n",
    "        , locations=gdf.index\n",
    "        , color='Hab/ha'\n",
    "    #    , hover_name='CD_GEOCODI'\n",
    "        , hover_data=None\n",
    "        , zoom=zoom\n",
    "        ,center={\"lat\": lat, \"lon\": lon}\n",
    "        , mapbox_style=\"carto-positron\"\n",
    "        , title='<b>Densidade Demográfica<b>'\n",
    "        , template=None\n",
    "        , width=None\n",
    "        , height=400\n",
    "        , opacity=0.3\n",
    "        , category_orders={'Hab/ha':['Até 10', '10 a 25', '25 a 50', '50 a 75', '75 a 100', 'acima de 100']}\n",
    "        , color_discrete_sequence=px.colors.sequential.RdBu_r[5:]\n",
    "        )\n",
    "    \n",
    "    fig_map.update_layout(margin=dict(l=0, r=0, b=40, t=40))\n",
    "    fig_map.layout.title.font.size = 18\n",
    "    fig_map.update_traces(marker_line_width=0.1)\n",
    "\n",
    "    return fig_map"
   ]
  },
  {
   "cell_type": "code",
   "execution_count": null,
   "metadata": {},
   "outputs": [],
   "source": [
    "def load_sector_geodataframe(uf,cod_municipio):\n",
    "    cod_municipio = str(cod_municipio)\n",
    "    gdf = gpd.read_file(f'data/territorio/setores2010/{uf}/{cod_municipio}/{cod_municipio}.shp')\n",
    "    return gdf"
   ]
  },
  {
   "cell_type": "code",
   "execution_count": 173,
   "metadata": {},
   "outputs": [
    {
     "name": "stderr",
     "output_type": "stream",
     "text": [
      "2021-06-30 10:18:11.705 INFO    fiona.ogrext: Failed to auto identify EPSG: 7\n",
      "C:\\Users\\augus\\Anaconda3\\envs\\aulas\\lib\\site-packages\\ipykernel_launcher.py:2: UserWarning:\n",
      "\n",
      "Geometry is in a geographic CRS. Results from 'centroid' are likely incorrect. Use 'GeoSeries.to_crs()' to re-project geometries to a projected CRS before this operation.\n",
      "\n",
      "\n",
      "C:\\Users\\augus\\Anaconda3\\envs\\aulas\\lib\\site-packages\\ipykernel_launcher.py:3: UserWarning:\n",
      "\n",
      "Geometry is in a geographic CRS. Results from 'centroid' are likely incorrect. Use 'GeoSeries.to_crs()' to re-project geometries to a projected CRS before this operation.\n",
      "\n",
      "\n"
     ]
    }
   ],
   "source": [
    "gdf = load_sector_geodataframe(uf='PR',cod_municipio=4125506);\n",
    "lon = gdf.dissolve(by='NM_MUNICIP').centroid.x[0]\n",
    "lat = gdf.dissolve(by='NM_MUNICIP').centroid.y[0]\n",
    "\n",
    "minx, miny, maxx, maxy = gdf.total_bounds\n",
    "max_bound = max(abs(maxx-minx), abs(maxy-miny)) * 111\n",
    "zoom = 12.7 - np.log(max_bound)"
   ]
  },
  {
   "cell_type": "code",
   "execution_count": 172,
   "metadata": {},
   "outputs": [
    {
     "data": {
      "text/html": [
       "<div>\n",
       "<style scoped>\n",
       "    .dataframe tbody tr th:only-of-type {\n",
       "        vertical-align: middle;\n",
       "    }\n",
       "\n",
       "    .dataframe tbody tr th {\n",
       "        vertical-align: top;\n",
       "    }\n",
       "\n",
       "    .dataframe thead th {\n",
       "        text-align: right;\n",
       "    }\n",
       "</style>\n",
       "<table border=\"1\" class=\"dataframe\">\n",
       "  <thead>\n",
       "    <tr style=\"text-align: right;\">\n",
       "      <th></th>\n",
       "      <th>Cod</th>\n",
       "      <th>TIPO</th>\n",
       "      <th>CD_GEOCODB</th>\n",
       "      <th>NM_BAIRRO</th>\n",
       "      <th>CD_GEOCODM</th>\n",
       "      <th>NM_MUNICIP</th>\n",
       "      <th>Pop</th>\n",
       "      <th>Area</th>\n",
       "      <th>Pop/ha</th>\n",
       "      <th>geometry</th>\n",
       "    </tr>\n",
       "  </thead>\n",
       "  <tbody>\n",
       "    <tr>\n",
       "      <th>0</th>\n",
       "      <td>412550605000042</td>\n",
       "      <td>URBANO</td>\n",
       "      <td>None</td>\n",
       "      <td>None</td>\n",
       "      <td>4125506</td>\n",
       "      <td>SÃO JOSÉ DOS PINHAIS</td>\n",
       "      <td>873</td>\n",
       "      <td>12.80</td>\n",
       "      <td>68.19</td>\n",
       "      <td>POLYGON ((-49.20986 -25.51795, -49.20885 -25.5...</td>\n",
       "    </tr>\n",
       "    <tr>\n",
       "      <th>1</th>\n",
       "      <td>412550605000043</td>\n",
       "      <td>URBANO</td>\n",
       "      <td>None</td>\n",
       "      <td>None</td>\n",
       "      <td>4125506</td>\n",
       "      <td>SÃO JOSÉ DOS PINHAIS</td>\n",
       "      <td>920</td>\n",
       "      <td>11.49</td>\n",
       "      <td>80.05</td>\n",
       "      <td>POLYGON ((-49.20745 -25.51966, -49.20654 -25.5...</td>\n",
       "    </tr>\n",
       "    <tr>\n",
       "      <th>2</th>\n",
       "      <td>412550605000044</td>\n",
       "      <td>URBANO</td>\n",
       "      <td>None</td>\n",
       "      <td>None</td>\n",
       "      <td>4125506</td>\n",
       "      <td>SÃO JOSÉ DOS PINHAIS</td>\n",
       "      <td>854</td>\n",
       "      <td>17.27</td>\n",
       "      <td>49.46</td>\n",
       "      <td>POLYGON ((-49.20441 -25.52579, -49.20405 -25.5...</td>\n",
       "    </tr>\n",
       "    <tr>\n",
       "      <th>3</th>\n",
       "      <td>412550605000055</td>\n",
       "      <td>URBANO</td>\n",
       "      <td>None</td>\n",
       "      <td>None</td>\n",
       "      <td>4125506</td>\n",
       "      <td>SÃO JOSÉ DOS PINHAIS</td>\n",
       "      <td>1084</td>\n",
       "      <td>13.90</td>\n",
       "      <td>78.00</td>\n",
       "      <td>POLYGON ((-49.18772 -25.51141, -49.18732 -25.5...</td>\n",
       "    </tr>\n",
       "    <tr>\n",
       "      <th>4</th>\n",
       "      <td>412550605000056</td>\n",
       "      <td>URBANO</td>\n",
       "      <td>None</td>\n",
       "      <td>None</td>\n",
       "      <td>4125506</td>\n",
       "      <td>SÃO JOSÉ DOS PINHAIS</td>\n",
       "      <td>706</td>\n",
       "      <td>23.24</td>\n",
       "      <td>30.38</td>\n",
       "      <td>POLYGON ((-49.18444 -25.51395, -49.18391 -25.5...</td>\n",
       "    </tr>\n",
       "    <tr>\n",
       "      <th>...</th>\n",
       "      <td>...</td>\n",
       "      <td>...</td>\n",
       "      <td>...</td>\n",
       "      <td>...</td>\n",
       "      <td>...</td>\n",
       "      <td>...</td>\n",
       "      <td>...</td>\n",
       "      <td>...</td>\n",
       "      <td>...</td>\n",
       "      <td>...</td>\n",
       "    </tr>\n",
       "    <tr>\n",
       "      <th>281</th>\n",
       "      <td>412550625000005</td>\n",
       "      <td>URBANO</td>\n",
       "      <td>None</td>\n",
       "      <td>None</td>\n",
       "      <td>4125506</td>\n",
       "      <td>SÃO JOSÉ DOS PINHAIS</td>\n",
       "      <td>1210</td>\n",
       "      <td>24.81</td>\n",
       "      <td>48.77</td>\n",
       "      <td>POLYGON ((-49.17266 -25.60739, -49.17217 -25.6...</td>\n",
       "    </tr>\n",
       "    <tr>\n",
       "      <th>282</th>\n",
       "      <td>412550625000006</td>\n",
       "      <td>URBANO</td>\n",
       "      <td>None</td>\n",
       "      <td>None</td>\n",
       "      <td>4125506</td>\n",
       "      <td>SÃO JOSÉ DOS PINHAIS</td>\n",
       "      <td>1967</td>\n",
       "      <td>40.69</td>\n",
       "      <td>48.34</td>\n",
       "      <td>POLYGON ((-49.17206 -25.60972, -49.17179 -25.6...</td>\n",
       "    </tr>\n",
       "    <tr>\n",
       "      <th>283</th>\n",
       "      <td>412550625000007</td>\n",
       "      <td>URBANO</td>\n",
       "      <td>None</td>\n",
       "      <td>None</td>\n",
       "      <td>4125506</td>\n",
       "      <td>SÃO JOSÉ DOS PINHAIS</td>\n",
       "      <td>2151</td>\n",
       "      <td>241.80</td>\n",
       "      <td>8.90</td>\n",
       "      <td>POLYGON ((-49.17394 -25.59814, -49.17388 -25.5...</td>\n",
       "    </tr>\n",
       "    <tr>\n",
       "      <th>284</th>\n",
       "      <td>412550625000008</td>\n",
       "      <td>URBANO</td>\n",
       "      <td>None</td>\n",
       "      <td>None</td>\n",
       "      <td>4125506</td>\n",
       "      <td>SÃO JOSÉ DOS PINHAIS</td>\n",
       "      <td>1426</td>\n",
       "      <td>20.39</td>\n",
       "      <td>69.95</td>\n",
       "      <td>POLYGON ((-49.16593 -25.60026, -49.16679 -25.6...</td>\n",
       "    </tr>\n",
       "    <tr>\n",
       "      <th>285</th>\n",
       "      <td>412550625000009</td>\n",
       "      <td>RURAL</td>\n",
       "      <td>None</td>\n",
       "      <td>None</td>\n",
       "      <td>4125506</td>\n",
       "      <td>SÃO JOSÉ DOS PINHAIS</td>\n",
       "      <td>1444</td>\n",
       "      <td>737.94</td>\n",
       "      <td>1.96</td>\n",
       "      <td>POLYGON ((-49.16079 -25.60153, -49.16073 -25.6...</td>\n",
       "    </tr>\n",
       "  </tbody>\n",
       "</table>\n",
       "<p>286 rows × 10 columns</p>\n",
       "</div>"
      ],
      "text/plain": [
       "                 Cod    TIPO CD_GEOCODB NM_BAIRRO CD_GEOCODM  \\\n",
       "0    412550605000042  URBANO       None      None    4125506   \n",
       "1    412550605000043  URBANO       None      None    4125506   \n",
       "2    412550605000044  URBANO       None      None    4125506   \n",
       "3    412550605000055  URBANO       None      None    4125506   \n",
       "4    412550605000056  URBANO       None      None    4125506   \n",
       "..               ...     ...        ...       ...        ...   \n",
       "281  412550625000005  URBANO       None      None    4125506   \n",
       "282  412550625000006  URBANO       None      None    4125506   \n",
       "283  412550625000007  URBANO       None      None    4125506   \n",
       "284  412550625000008  URBANO       None      None    4125506   \n",
       "285  412550625000009   RURAL       None      None    4125506   \n",
       "\n",
       "               NM_MUNICIP   Pop   Area  Pop/ha  \\\n",
       "0    SÃO JOSÉ DOS PINHAIS   873  12.80   68.19   \n",
       "1    SÃO JOSÉ DOS PINHAIS   920  11.49   80.05   \n",
       "2    SÃO JOSÉ DOS PINHAIS   854  17.27   49.46   \n",
       "3    SÃO JOSÉ DOS PINHAIS  1084  13.90   78.00   \n",
       "4    SÃO JOSÉ DOS PINHAIS   706  23.24   30.38   \n",
       "..                    ...   ...    ...     ...   \n",
       "281  SÃO JOSÉ DOS PINHAIS  1210  24.81   48.77   \n",
       "282  SÃO JOSÉ DOS PINHAIS  1967  40.69   48.34   \n",
       "283  SÃO JOSÉ DOS PINHAIS  2151 241.80    8.90   \n",
       "284  SÃO JOSÉ DOS PINHAIS  1426  20.39   69.95   \n",
       "285  SÃO JOSÉ DOS PINHAIS  1444 737.94    1.96   \n",
       "\n",
       "                                              geometry  \n",
       "0    POLYGON ((-49.20986 -25.51795, -49.20885 -25.5...  \n",
       "1    POLYGON ((-49.20745 -25.51966, -49.20654 -25.5...  \n",
       "2    POLYGON ((-49.20441 -25.52579, -49.20405 -25.5...  \n",
       "3    POLYGON ((-49.18772 -25.51141, -49.18732 -25.5...  \n",
       "4    POLYGON ((-49.18444 -25.51395, -49.18391 -25.5...  \n",
       "..                                                 ...  \n",
       "281  POLYGON ((-49.17266 -25.60739, -49.17217 -25.6...  \n",
       "282  POLYGON ((-49.17206 -25.60972, -49.17179 -25.6...  \n",
       "283  POLYGON ((-49.17394 -25.59814, -49.17388 -25.5...  \n",
       "284  POLYGON ((-49.16593 -25.60026, -49.16679 -25.6...  \n",
       "285  POLYGON ((-49.16079 -25.60153, -49.16073 -25.6...  \n",
       "\n",
       "[286 rows x 10 columns]"
      ]
     },
     "execution_count": 172,
     "metadata": {},
     "output_type": "execute_result"
    }
   ],
   "source": [
    "gdf"
   ]
  },
  {
   "cell_type": "code",
   "execution_count": null,
   "metadata": {},
   "outputs": [],
   "source": [
    "fig = plot_density_map(gdf=gdf)"
   ]
  },
  {
   "cell_type": "code",
   "execution_count": null,
   "metadata": {},
   "outputs": [],
   "source": [
    "gdf_dissolved = gdf.dissolve(by='NM_MUNICIP')"
   ]
  },
  {
   "cell_type": "code",
   "execution_count": null,
   "metadata": {},
   "outputs": [],
   "source": [
    "gdf_dissolved"
   ]
  },
  {
   "cell_type": "code",
   "execution_count": null,
   "metadata": {},
   "outputs": [],
   "source": [
    "fig2 = px.choropleth_mapbox(\n",
    "    data_frame=gdf_dissolved\n",
    "    , geojson=gdf_dissolved.geometry\n",
    "#    , featureidkey=gdf.index\n",
    "    , locations=gdf_dissolved.index\n",
    "#    , color='Hab/ha'\n",
    "#    , hover_name='CD_GEOCODI'\n",
    "    , hover_data=None\n",
    "    , color_discrete_sequence=['white']\n",
    "#    , zoom=zoom\n",
    "#    ,center={\"lat\": lat, \"lon\": lon}\n",
    "    , mapbox_style=\"carto-positron\"\n",
    "    , title='<b>Densidade Demográfica<b>'\n",
    "    , template=None\n",
    "    , width=None\n",
    "    , height=400\n",
    "    , opacity=0.5\n",
    "#    , category_orders={'Hab/ha':['Até 10', '10 a 25', '25 a 50', '50 a 75', '75 a 100', 'acima de 100']}\n",
    "#    , color_discrete_sequence=px.colors.sequential.RdBu_r[5:]\n",
    "    )"
   ]
  },
  {
   "cell_type": "code",
   "execution_count": null,
   "metadata": {},
   "outputs": [],
   "source": [
    "municipality_json = gdf_dissolved.geometry.to_json()"
   ]
  },
  {
   "cell_type": "code",
   "execution_count": null,
   "metadata": {},
   "outputs": [],
   "source": []
  },
  {
   "cell_type": "code",
   "execution_count": null,
   "metadata": {},
   "outputs": [],
   "source": [
    "fig2"
   ]
  },
  {
   "cell_type": "code",
   "execution_count": null,
   "metadata": {},
   "outputs": [],
   "source": [
    "gdf_dissolved.geometry.x"
   ]
  },
  {
   "cell_type": "code",
   "execution_count": null,
   "metadata": {},
   "outputs": [],
   "source": [
    "list(gdf_dissolved.geometry[0].coords)"
   ]
  },
  {
   "cell_type": "code",
   "execution_count": null,
   "metadata": {},
   "outputs": [],
   "source": [
    "go.Figure(data=go.Choroplethmapbox(geojson=gdf_dissolved.geometry.to_json()))"
   ]
  },
  {
   "cell_type": "code",
   "execution_count": null,
   "metadata": {},
   "outputs": [],
   "source": [
    "gdf_dissolved.geometry.to_json()"
   ]
  },
  {
   "cell_type": "code",
   "execution_count": null,
   "metadata": {},
   "outputs": [],
   "source": [
    "for x in gdf_dissolved.exterior:\n",
    "    print(x)"
   ]
  },
  {
   "cell_type": "code",
   "execution_count": null,
   "metadata": {},
   "outputs": [],
   "source": [
    "fig.add_trace(fig2.data[0])"
   ]
  },
  {
   "cell_type": "code",
   "execution_count": null,
   "metadata": {},
   "outputs": [],
   "source": [
    "fig = plot_density_map(gdf=gdf)"
   ]
  },
  {
   "cell_type": "code",
   "execution_count": null,
   "metadata": {},
   "outputs": [],
   "source": [
    "gdf_dissolved.geometry.to_dict()"
   ]
  },
  {
   "cell_type": "code",
   "execution_count": null,
   "metadata": {},
   "outputs": [],
   "source": [
    "df = pd.read_json('teste_SJP1.geojson')"
   ]
  },
  {
   "cell_type": "code",
   "execution_count": null,
   "metadata": {},
   "outputs": [],
   "source": [
    "gdf_dissolved.geometry.to_file(\"teste_SJP1.geojson\", driver='GeoJSON', encoding='utf-8')"
   ]
  },
  {
   "cell_type": "code",
   "execution_count": null,
   "metadata": {},
   "outputs": [],
   "source": [
    "import geojson\n",
    "with open(\"teste_SJP.geojson\") as f:\n",
    "    gj = geojson.load(f)"
   ]
  },
  {
   "cell_type": "code",
   "execution_count": 164,
   "metadata": {},
   "outputs": [],
   "source": [
    "coordinates = gj['features'][0]['geometry']['coordinates']"
   ]
  },
  {
   "cell_type": "code",
   "execution_count": null,
   "metadata": {},
   "outputs": [],
   "source": [
    "{'layers': [{'source': df['features'][0]}]}"
   ]
  },
  {
   "cell_type": "code",
   "execution_count": 180,
   "metadata": {},
   "outputs": [],
   "source": [
    "mapbox_test = {\n",
    "     'style': 'carto-positron'\n",
    "     ,'center': { 'lon': lon, 'lat': lat}\n",
    "     ,'zoom': zoom\n",
    "     , 'layers':[{'source': {\n",
    "         'type': \"FeatureCollection\",\n",
    "         'features': [{\n",
    "             'type': \"Feature\"\n",
    "             ,'geometry': {\n",
    "                 'type': \"MultiPolygon\",\n",
    "                 'coordinates':[coordinates]}}]}}]}"
   ]
  },
  {
   "cell_type": "code",
   "execution_count": null,
   "metadata": {},
   "outputs": [],
   "source": []
  },
  {
   "cell_type": "code",
   "execution_count": 186,
   "metadata": {},
   "outputs": [
    {
     "ename": "AttributeError",
     "evalue": "module 'geojson' has no attribute 'split'",
     "output_type": "error",
     "traceback": [
      "\u001b[1;31m---------------------------------------------------------------------------\u001b[0m",
      "\u001b[1;31mAttributeError\u001b[0m                            Traceback (most recent call last)",
      "\u001b[1;32m<ipython-input-186-f0922888e58e>\u001b[0m in \u001b[0;36m<module>\u001b[1;34m\u001b[0m\n\u001b[1;32m----> 1\u001b[1;33m \u001b[0mfig\u001b[0m\u001b[1;33m.\u001b[0m\u001b[0mupdate_layout\u001b[0m\u001b[1;33m(\u001b[0m\u001b[0mmapbox\u001b[0m\u001b[1;33m=\u001b[0m\u001b[1;33m{\u001b[0m\u001b[0mgeojson\u001b[0m\u001b[1;33m:\u001b[0m\u001b[0mgj\u001b[0m\u001b[1;33m[\u001b[0m\u001b[1;34m'features'\u001b[0m\u001b[1;33m]\u001b[0m\u001b[1;33m}\u001b[0m\u001b[1;33m)\u001b[0m\u001b[1;33m\u001b[0m\u001b[1;33m\u001b[0m\u001b[0m\n\u001b[0m",
      "\u001b[1;32m~\\AppData\\Roaming\\Python\\Python36\\site-packages\\plotly\\basedatatypes.py\u001b[0m in \u001b[0;36mupdate_layout\u001b[1;34m(self, dict1, overwrite, **kwargs)\u001b[0m\n\u001b[0;32m    963\u001b[0m             \u001b[0mThe\u001b[0m \u001b[0mFigure\u001b[0m \u001b[0mobject\u001b[0m \u001b[0mthat\u001b[0m \u001b[0mthe\u001b[0m \u001b[0mupdate_layout\u001b[0m \u001b[0mmethod\u001b[0m \u001b[0mwas\u001b[0m \u001b[0mcalled\u001b[0m \u001b[0mon\u001b[0m\u001b[1;33m\u001b[0m\u001b[1;33m\u001b[0m\u001b[0m\n\u001b[0;32m    964\u001b[0m         \"\"\"\n\u001b[1;32m--> 965\u001b[1;33m         \u001b[0mself\u001b[0m\u001b[1;33m.\u001b[0m\u001b[0mlayout\u001b[0m\u001b[1;33m.\u001b[0m\u001b[0mupdate\u001b[0m\u001b[1;33m(\u001b[0m\u001b[0mdict1\u001b[0m\u001b[1;33m,\u001b[0m \u001b[0moverwrite\u001b[0m\u001b[1;33m=\u001b[0m\u001b[0moverwrite\u001b[0m\u001b[1;33m,\u001b[0m \u001b[1;33m**\u001b[0m\u001b[0mkwargs\u001b[0m\u001b[1;33m)\u001b[0m\u001b[1;33m\u001b[0m\u001b[1;33m\u001b[0m\u001b[0m\n\u001b[0m\u001b[0;32m    966\u001b[0m         \u001b[1;32mreturn\u001b[0m \u001b[0mself\u001b[0m\u001b[1;33m\u001b[0m\u001b[1;33m\u001b[0m\u001b[0m\n\u001b[0;32m    967\u001b[0m \u001b[1;33m\u001b[0m\u001b[0m\n",
      "\u001b[1;32m~\\AppData\\Roaming\\Python\\Python36\\site-packages\\plotly\\basedatatypes.py\u001b[0m in \u001b[0;36mupdate\u001b[1;34m(self, dict1, overwrite, **kwargs)\u001b[0m\n\u001b[0;32m   4254\u001b[0m             \u001b[1;32mwith\u001b[0m \u001b[0mself\u001b[0m\u001b[1;33m.\u001b[0m\u001b[0mfigure\u001b[0m\u001b[1;33m.\u001b[0m\u001b[0mbatch_update\u001b[0m\u001b[1;33m(\u001b[0m\u001b[1;33m)\u001b[0m\u001b[1;33m:\u001b[0m\u001b[1;33m\u001b[0m\u001b[1;33m\u001b[0m\u001b[0m\n\u001b[0;32m   4255\u001b[0m                 \u001b[0mBaseFigure\u001b[0m\u001b[1;33m.\u001b[0m\u001b[0m_perform_update\u001b[0m\u001b[1;33m(\u001b[0m\u001b[0mself\u001b[0m\u001b[1;33m,\u001b[0m \u001b[0mdict1\u001b[0m\u001b[1;33m,\u001b[0m \u001b[0moverwrite\u001b[0m\u001b[1;33m=\u001b[0m\u001b[0moverwrite\u001b[0m\u001b[1;33m)\u001b[0m\u001b[1;33m\u001b[0m\u001b[1;33m\u001b[0m\u001b[0m\n\u001b[1;32m-> 4256\u001b[1;33m                 \u001b[0mBaseFigure\u001b[0m\u001b[1;33m.\u001b[0m\u001b[0m_perform_update\u001b[0m\u001b[1;33m(\u001b[0m\u001b[0mself\u001b[0m\u001b[1;33m,\u001b[0m \u001b[0mkwargs\u001b[0m\u001b[1;33m,\u001b[0m \u001b[0moverwrite\u001b[0m\u001b[1;33m=\u001b[0m\u001b[0moverwrite\u001b[0m\u001b[1;33m)\u001b[0m\u001b[1;33m\u001b[0m\u001b[1;33m\u001b[0m\u001b[0m\n\u001b[0m\u001b[0;32m   4257\u001b[0m         \u001b[1;32melse\u001b[0m\u001b[1;33m:\u001b[0m\u001b[1;33m\u001b[0m\u001b[1;33m\u001b[0m\u001b[0m\n\u001b[0;32m   4258\u001b[0m             \u001b[0mBaseFigure\u001b[0m\u001b[1;33m.\u001b[0m\u001b[0m_perform_update\u001b[0m\u001b[1;33m(\u001b[0m\u001b[0mself\u001b[0m\u001b[1;33m,\u001b[0m \u001b[0mdict1\u001b[0m\u001b[1;33m,\u001b[0m \u001b[0moverwrite\u001b[0m\u001b[1;33m=\u001b[0m\u001b[0moverwrite\u001b[0m\u001b[1;33m)\u001b[0m\u001b[1;33m\u001b[0m\u001b[1;33m\u001b[0m\u001b[0m\n",
      "\u001b[1;32m~\\AppData\\Roaming\\Python\\Python36\\site-packages\\plotly\\basedatatypes.py\u001b[0m in \u001b[0;36m_perform_update\u001b[1;34m(plotly_obj, update_obj, overwrite)\u001b[0m\n\u001b[0;32m   3356\u001b[0m                     \u001b[1;31m# Update compound objects recursively\u001b[0m\u001b[1;33m\u001b[0m\u001b[1;33m\u001b[0m\u001b[1;33m\u001b[0m\u001b[0m\n\u001b[0;32m   3357\u001b[0m                     \u001b[1;31m# plotly_obj[key].update(val)\u001b[0m\u001b[1;33m\u001b[0m\u001b[1;33m\u001b[0m\u001b[1;33m\u001b[0m\u001b[0m\n\u001b[1;32m-> 3358\u001b[1;33m                     \u001b[0mBaseFigure\u001b[0m\u001b[1;33m.\u001b[0m\u001b[0m_perform_update\u001b[0m\u001b[1;33m(\u001b[0m\u001b[0mplotly_obj\u001b[0m\u001b[1;33m[\u001b[0m\u001b[0mkey\u001b[0m\u001b[1;33m]\u001b[0m\u001b[1;33m,\u001b[0m \u001b[0mval\u001b[0m\u001b[1;33m)\u001b[0m\u001b[1;33m\u001b[0m\u001b[1;33m\u001b[0m\u001b[0m\n\u001b[0m\u001b[0;32m   3359\u001b[0m                 \u001b[1;32melif\u001b[0m \u001b[0misinstance\u001b[0m\u001b[1;33m(\u001b[0m\u001b[0mvalidator\u001b[0m\u001b[1;33m,\u001b[0m \u001b[0mCompoundArrayValidator\u001b[0m\u001b[1;33m)\u001b[0m\u001b[1;33m:\u001b[0m\u001b[1;33m\u001b[0m\u001b[1;33m\u001b[0m\u001b[0m\n\u001b[0;32m   3360\u001b[0m                     \u001b[1;32mif\u001b[0m \u001b[0mplotly_obj\u001b[0m\u001b[1;33m[\u001b[0m\u001b[0mkey\u001b[0m\u001b[1;33m]\u001b[0m\u001b[1;33m:\u001b[0m\u001b[1;33m\u001b[0m\u001b[1;33m\u001b[0m\u001b[0m\n",
      "\u001b[1;32m~\\AppData\\Roaming\\Python\\Python36\\site-packages\\plotly\\basedatatypes.py\u001b[0m in \u001b[0;36m_perform_update\u001b[1;34m(plotly_obj, update_obj, overwrite)\u001b[0m\n\u001b[0;32m   3331\u001b[0m             \u001b[1;31m# Handle invalid properties\u001b[0m\u001b[1;33m\u001b[0m\u001b[1;33m\u001b[0m\u001b[1;33m\u001b[0m\u001b[0m\n\u001b[0;32m   3332\u001b[0m             \u001b[1;31m# -------------------------\u001b[0m\u001b[1;33m\u001b[0m\u001b[1;33m\u001b[0m\u001b[1;33m\u001b[0m\u001b[0m\n\u001b[1;32m-> 3333\u001b[1;33m             \u001b[0minvalid_props\u001b[0m \u001b[1;33m=\u001b[0m \u001b[1;33m[\u001b[0m\u001b[0mk\u001b[0m \u001b[1;32mfor\u001b[0m \u001b[0mk\u001b[0m \u001b[1;32min\u001b[0m \u001b[0mupdate_obj\u001b[0m \u001b[1;32mif\u001b[0m \u001b[0mk\u001b[0m \u001b[1;32mnot\u001b[0m \u001b[1;32min\u001b[0m \u001b[0mplotly_obj\u001b[0m\u001b[1;33m]\u001b[0m\u001b[1;33m\u001b[0m\u001b[1;33m\u001b[0m\u001b[0m\n\u001b[0m\u001b[0;32m   3334\u001b[0m \u001b[1;33m\u001b[0m\u001b[0m\n\u001b[0;32m   3335\u001b[0m             \u001b[0mplotly_obj\u001b[0m\u001b[1;33m.\u001b[0m\u001b[0m_raise_on_invalid_property_error\u001b[0m\u001b[1;33m(\u001b[0m\u001b[1;33m*\u001b[0m\u001b[0minvalid_props\u001b[0m\u001b[1;33m)\u001b[0m\u001b[1;33m\u001b[0m\u001b[1;33m\u001b[0m\u001b[0m\n",
      "\u001b[1;32m~\\AppData\\Roaming\\Python\\Python36\\site-packages\\plotly\\basedatatypes.py\u001b[0m in \u001b[0;36m<listcomp>\u001b[1;34m(.0)\u001b[0m\n\u001b[0;32m   3331\u001b[0m             \u001b[1;31m# Handle invalid properties\u001b[0m\u001b[1;33m\u001b[0m\u001b[1;33m\u001b[0m\u001b[1;33m\u001b[0m\u001b[0m\n\u001b[0;32m   3332\u001b[0m             \u001b[1;31m# -------------------------\u001b[0m\u001b[1;33m\u001b[0m\u001b[1;33m\u001b[0m\u001b[1;33m\u001b[0m\u001b[0m\n\u001b[1;32m-> 3333\u001b[1;33m             \u001b[0minvalid_props\u001b[0m \u001b[1;33m=\u001b[0m \u001b[1;33m[\u001b[0m\u001b[0mk\u001b[0m \u001b[1;32mfor\u001b[0m \u001b[0mk\u001b[0m \u001b[1;32min\u001b[0m \u001b[0mupdate_obj\u001b[0m \u001b[1;32mif\u001b[0m \u001b[0mk\u001b[0m \u001b[1;32mnot\u001b[0m \u001b[1;32min\u001b[0m \u001b[0mplotly_obj\u001b[0m\u001b[1;33m]\u001b[0m\u001b[1;33m\u001b[0m\u001b[1;33m\u001b[0m\u001b[0m\n\u001b[0m\u001b[0;32m   3334\u001b[0m \u001b[1;33m\u001b[0m\u001b[0m\n\u001b[0;32m   3335\u001b[0m             \u001b[0mplotly_obj\u001b[0m\u001b[1;33m.\u001b[0m\u001b[0m_raise_on_invalid_property_error\u001b[0m\u001b[1;33m(\u001b[0m\u001b[1;33m*\u001b[0m\u001b[0minvalid_props\u001b[0m\u001b[1;33m)\u001b[0m\u001b[1;33m\u001b[0m\u001b[1;33m\u001b[0m\u001b[0m\n",
      "\u001b[1;32m~\\AppData\\Roaming\\Python\\Python36\\site-packages\\plotly\\basedatatypes.py\u001b[0m in \u001b[0;36m__contains__\u001b[1;34m(self, prop)\u001b[0m\n\u001b[0;32m   3933\u001b[0m         \u001b[0mbool\u001b[0m\u001b[1;33m\u001b[0m\u001b[1;33m\u001b[0m\u001b[0m\n\u001b[0;32m   3934\u001b[0m         \"\"\"\n\u001b[1;32m-> 3935\u001b[1;33m         \u001b[0mprop\u001b[0m \u001b[1;33m=\u001b[0m \u001b[0mBaseFigure\u001b[0m\u001b[1;33m.\u001b[0m\u001b[0m_str_to_dict_path\u001b[0m\u001b[1;33m(\u001b[0m\u001b[0mprop\u001b[0m\u001b[1;33m)\u001b[0m\u001b[1;33m\u001b[0m\u001b[1;33m\u001b[0m\u001b[0m\n\u001b[0m\u001b[0;32m   3936\u001b[0m \u001b[1;33m\u001b[0m\u001b[0m\n\u001b[0;32m   3937\u001b[0m         \u001b[1;31m# Handle remapping\u001b[0m\u001b[1;33m\u001b[0m\u001b[1;33m\u001b[0m\u001b[1;33m\u001b[0m\u001b[0m\n",
      "\u001b[1;32m~\\AppData\\Roaming\\Python\\Python36\\site-packages\\plotly\\basedatatypes.py\u001b[0m in \u001b[0;36m_str_to_dict_path\u001b[1;34m(key_path_str)\u001b[0m\n\u001b[0;32m   1364\u001b[0m             \u001b[1;31m# Split string on periods.\u001b[0m\u001b[1;33m\u001b[0m\u001b[1;33m\u001b[0m\u001b[1;33m\u001b[0m\u001b[0m\n\u001b[0;32m   1365\u001b[0m             \u001b[1;31m# e.g. 'foo.bar_baz[1]' -> ['foo', 'bar_baz[1]']\u001b[0m\u001b[1;33m\u001b[0m\u001b[1;33m\u001b[0m\u001b[1;33m\u001b[0m\u001b[0m\n\u001b[1;32m-> 1366\u001b[1;33m             \u001b[0mkey_path\u001b[0m \u001b[1;33m=\u001b[0m \u001b[0mkey_path_str\u001b[0m\u001b[1;33m.\u001b[0m\u001b[0msplit\u001b[0m\u001b[1;33m(\u001b[0m\u001b[1;34m\".\"\u001b[0m\u001b[1;33m)\u001b[0m\u001b[1;33m\u001b[0m\u001b[1;33m\u001b[0m\u001b[0m\n\u001b[0m\u001b[0;32m   1367\u001b[0m \u001b[1;33m\u001b[0m\u001b[0m\n\u001b[0;32m   1368\u001b[0m             \u001b[1;31m# Split out bracket indexes.\u001b[0m\u001b[1;33m\u001b[0m\u001b[1;33m\u001b[0m\u001b[1;33m\u001b[0m\u001b[0m\n",
      "\u001b[1;31mAttributeError\u001b[0m: module 'geojson' has no attribute 'split'"
     ]
    }
   ],
   "source": [
    "fig.update_layout(mapbox={geojson:gj['features']})"
   ]
  },
  {
   "cell_type": "code",
   "execution_count": null,
   "metadata": {},
   "outputs": [],
   "source": []
  },
  {
   "cell_type": "code",
   "execution_count": null,
   "metadata": {},
   "outputs": [],
   "source": [
    "fig.data[0]"
   ]
  },
  {
   "cell_type": "code",
   "execution_count": null,
   "metadata": {},
   "outputs": [],
   "source": [
    "fig.data[0]"
   ]
  },
  {
   "cell_type": "code",
   "execution_count": null,
   "metadata": {},
   "outputs": [],
   "source": []
  },
  {
   "cell_type": "code",
   "execution_count": null,
   "metadata": {},
   "outputs": [],
   "source": []
  },
  {
   "cell_type": "markdown",
   "metadata": {},
   "source": [
    "## Urban Data "
   ]
  },
  {
   "cell_type": "code",
   "execution_count": null,
   "metadata": {},
   "outputs": [],
   "source": [
    "def load_urbrur_data():\n",
    "    \"\"\"\n",
    "    Loads data from the file pop_urbano_rural_total_70_10.CSV into a Pandas DataFrame. Treats the data so it can be used as an argument to devise a line plot with the plot_urbrur_growth function.\n",
    "    pop_urbano_rural_total_70_10.CSV must be in the folder data/pop/.\n",
    "    \"\"\"\n",
    "\n",
    "    df = pd.read_csv(\n",
    "        \"data/pop/pop_urbano_rural_total_70_10.CSV\",\n",
    "        sep=\";\",\n",
    "        dtype={\n",
    "            \"codmun\": np.int32,\n",
    "            \"nomemun\": \"object\",\n",
    "            \"ano\": np.int32,\n",
    "            \"Total\": np.int32,\n",
    "            \"Urbana\": np.int32,\n",
    "            \"Rural\": np.int32,\n",
    "        },\n",
    "    )\n",
    "    df = df.melt(id_vars=[\"codmun\", \"nomemun\", \"ano\"])\n",
    "    df.columns = [\"Código\", \"Município\", \"Ano\", \"Situação\", \"População\"]\n",
    "\n",
    "    return df"
   ]
  },
  {
   "cell_type": "code",
   "execution_count": null,
   "metadata": {},
   "outputs": [],
   "source": []
  },
  {
   "cell_type": "code",
   "execution_count": null,
   "metadata": {},
   "outputs": [],
   "source": []
  },
  {
   "cell_type": "code",
   "execution_count": null,
   "metadata": {},
   "outputs": [],
   "source": [
    "df = load_urbrur_data()"
   ]
  },
  {
   "cell_type": "code",
   "execution_count": null,
   "metadata": {},
   "outputs": [],
   "source": [
    "df"
   ]
  },
  {
   "cell_type": "code",
   "execution_count": null,
   "metadata": {},
   "outputs": [],
   "source": [
    "def plot_density(gdf):\n",
    "    lon = gdf.dissolve(by='NM_MUNICIP').centroid.x[0]\n",
    "    lat = gdf.dissolve(by='NM_MUNICIP').centroid.y[0]\n",
    "\n",
    "    minx, miny, maxx, maxy = gdf.total_bounds\n",
    "    max_bound = max(abs(maxx-minx), abs(maxy-miny)) * 111\n",
    "    zoom = 13 - np.log(max_bound)\n",
    "\n",
    "    fig_map = px.choropleth_mapbox(\n",
    "        data_frame=gdf\n",
    "        , geojson=gdf.geometry\n",
    "    #    , featureidkey=gdf.index\n",
    "        , locations=gdf.index\n",
    "        , color='Pop/ha'\n",
    "    #    , hover_name='CD_GEOCODI'\n",
    "        , hover_data=None\n",
    "        , zoom=zoom\n",
    "        ,center={\"lat\": lat, \"lon\": lon}\n",
    "        , mapbox_style=\"carto-positron\"\n",
    "        , title=None\n",
    "        , template=None\n",
    "        , width=None\n",
    "        , height=400\n",
    "        , opacity=0.3\n",
    "        )\n",
    "    \n",
    "    fig_map.update_layout(margin=dict(l=0, r=0, b=40, t=40))\n",
    "\n",
    "    return fig_map"
   ]
  },
  {
   "cell_type": "code",
   "execution_count": null,
   "metadata": {},
   "outputs": [],
   "source": [
    "def load_mun_name(cod_municipio=4125506):\n",
    "    municipios = pd.read_csv('data/territorio/municipios_brasileiros.csv', sep=';')\n",
    "    \n",
    "    name_municipio = municipios[municipios['cod'] == cod_municipio]['municipio'].values[0]\n",
    "\n",
    "    return name_municipio"
   ]
  },
  {
   "cell_type": "markdown",
   "metadata": {},
   "source": [
    "## Indicadores"
   ]
  },
  {
   "cell_type": "code",
   "execution_count": 101,
   "metadata": {},
   "outputs": [],
   "source": [
    "def plot_urbanization_index(urb_indicator):\n",
    "    indicator = go.Figure(go.Indicator(\n",
    "        mode = \"number\"\n",
    "        , value = urb_indicator\n",
    "        , delta = {\"reference\": 512, \"valueformat\": \".0f\"}\n",
    "        , title = {\"text\": \"<b>Taxa de Urbanização<b>\", 'font':{'size':18}}\n",
    "#        , domain = {'y': [0, 1], 'x': [0.25, 0.75]}\n",
    "    ))\n",
    "    if urb_indicator > 90.0:\n",
    "        indicator.data[0].number.font.color = px.colors.sequential.Agsunset[0]\n",
    "    elif urb_indicator > 75.0:\n",
    "        indicator.data[0].number.font.color = px.colors.sequential.Agsunset[1]\n",
    "    elif urb_indicator > 60.0:\n",
    "        indicator.data[0].number.font.color = px.colors.sequential.Agsunset[2]\n",
    "    elif urb_indicator > 60.0:\n",
    "        indicator.data[0].number.font.color = px.colors.sequential.Agsunset[3]\n",
    "    elif urb_indicator > 50.0:\n",
    "        indicator.data[0].number.font.color = px.colors.sequential.Agsunset[5]\n",
    "    else:\n",
    "        indicator.data[0].number.font.color = px.colors.sequential.Agsunset[6]\n",
    "    \n",
    "    return indicator"
   ]
  },
  {
   "cell_type": "code",
   "execution_count": 106,
   "metadata": {},
   "outputs": [
    {
     "data": {
      "application/vnd.plotly.v1+json": {
       "config": {
        "plotlyServerURL": "https://plot.ly"
       },
       "data": [
        {
         "delta": {
          "reference": 512,
          "valueformat": ".0f"
         },
         "mode": "number",
         "number": {
          "font": {
           "color": "rgb(237, 217, 163)"
          }
         },
         "title": {
          "font": {
           "size": 18
          },
          "text": "<b>Taxa de Urbanização<b>"
         },
         "type": "indicator",
         "value": 40
        }
       ],
       "layout": {
        "autosize": true,
        "template": {
         "data": {
          "bar": [
           {
            "error_x": {
             "color": "#2a3f5f"
            },
            "error_y": {
             "color": "#2a3f5f"
            },
            "marker": {
             "line": {
              "color": "#E5ECF6",
              "width": 0.5
             }
            },
            "type": "bar"
           }
          ],
          "barpolar": [
           {
            "marker": {
             "line": {
              "color": "#E5ECF6",
              "width": 0.5
             }
            },
            "type": "barpolar"
           }
          ],
          "carpet": [
           {
            "aaxis": {
             "endlinecolor": "#2a3f5f",
             "gridcolor": "white",
             "linecolor": "white",
             "minorgridcolor": "white",
             "startlinecolor": "#2a3f5f"
            },
            "baxis": {
             "endlinecolor": "#2a3f5f",
             "gridcolor": "white",
             "linecolor": "white",
             "minorgridcolor": "white",
             "startlinecolor": "#2a3f5f"
            },
            "type": "carpet"
           }
          ],
          "choropleth": [
           {
            "colorbar": {
             "outlinewidth": 0,
             "ticks": ""
            },
            "type": "choropleth"
           }
          ],
          "contour": [
           {
            "colorbar": {
             "outlinewidth": 0,
             "ticks": ""
            },
            "colorscale": [
             [
              0,
              "#0d0887"
             ],
             [
              0.1111111111111111,
              "#46039f"
             ],
             [
              0.2222222222222222,
              "#7201a8"
             ],
             [
              0.3333333333333333,
              "#9c179e"
             ],
             [
              0.4444444444444444,
              "#bd3786"
             ],
             [
              0.5555555555555556,
              "#d8576b"
             ],
             [
              0.6666666666666666,
              "#ed7953"
             ],
             [
              0.7777777777777778,
              "#fb9f3a"
             ],
             [
              0.8888888888888888,
              "#fdca26"
             ],
             [
              1,
              "#f0f921"
             ]
            ],
            "type": "contour"
           }
          ],
          "contourcarpet": [
           {
            "colorbar": {
             "outlinewidth": 0,
             "ticks": ""
            },
            "type": "contourcarpet"
           }
          ],
          "heatmap": [
           {
            "colorbar": {
             "outlinewidth": 0,
             "ticks": ""
            },
            "colorscale": [
             [
              0,
              "#0d0887"
             ],
             [
              0.1111111111111111,
              "#46039f"
             ],
             [
              0.2222222222222222,
              "#7201a8"
             ],
             [
              0.3333333333333333,
              "#9c179e"
             ],
             [
              0.4444444444444444,
              "#bd3786"
             ],
             [
              0.5555555555555556,
              "#d8576b"
             ],
             [
              0.6666666666666666,
              "#ed7953"
             ],
             [
              0.7777777777777778,
              "#fb9f3a"
             ],
             [
              0.8888888888888888,
              "#fdca26"
             ],
             [
              1,
              "#f0f921"
             ]
            ],
            "type": "heatmap"
           }
          ],
          "heatmapgl": [
           {
            "colorbar": {
             "outlinewidth": 0,
             "ticks": ""
            },
            "colorscale": [
             [
              0,
              "#0d0887"
             ],
             [
              0.1111111111111111,
              "#46039f"
             ],
             [
              0.2222222222222222,
              "#7201a8"
             ],
             [
              0.3333333333333333,
              "#9c179e"
             ],
             [
              0.4444444444444444,
              "#bd3786"
             ],
             [
              0.5555555555555556,
              "#d8576b"
             ],
             [
              0.6666666666666666,
              "#ed7953"
             ],
             [
              0.7777777777777778,
              "#fb9f3a"
             ],
             [
              0.8888888888888888,
              "#fdca26"
             ],
             [
              1,
              "#f0f921"
             ]
            ],
            "type": "heatmapgl"
           }
          ],
          "histogram": [
           {
            "marker": {
             "colorbar": {
              "outlinewidth": 0,
              "ticks": ""
             }
            },
            "type": "histogram"
           }
          ],
          "histogram2d": [
           {
            "colorbar": {
             "outlinewidth": 0,
             "ticks": ""
            },
            "colorscale": [
             [
              0,
              "#0d0887"
             ],
             [
              0.1111111111111111,
              "#46039f"
             ],
             [
              0.2222222222222222,
              "#7201a8"
             ],
             [
              0.3333333333333333,
              "#9c179e"
             ],
             [
              0.4444444444444444,
              "#bd3786"
             ],
             [
              0.5555555555555556,
              "#d8576b"
             ],
             [
              0.6666666666666666,
              "#ed7953"
             ],
             [
              0.7777777777777778,
              "#fb9f3a"
             ],
             [
              0.8888888888888888,
              "#fdca26"
             ],
             [
              1,
              "#f0f921"
             ]
            ],
            "type": "histogram2d"
           }
          ],
          "histogram2dcontour": [
           {
            "colorbar": {
             "outlinewidth": 0,
             "ticks": ""
            },
            "colorscale": [
             [
              0,
              "#0d0887"
             ],
             [
              0.1111111111111111,
              "#46039f"
             ],
             [
              0.2222222222222222,
              "#7201a8"
             ],
             [
              0.3333333333333333,
              "#9c179e"
             ],
             [
              0.4444444444444444,
              "#bd3786"
             ],
             [
              0.5555555555555556,
              "#d8576b"
             ],
             [
              0.6666666666666666,
              "#ed7953"
             ],
             [
              0.7777777777777778,
              "#fb9f3a"
             ],
             [
              0.8888888888888888,
              "#fdca26"
             ],
             [
              1,
              "#f0f921"
             ]
            ],
            "type": "histogram2dcontour"
           }
          ],
          "mesh3d": [
           {
            "colorbar": {
             "outlinewidth": 0,
             "ticks": ""
            },
            "type": "mesh3d"
           }
          ],
          "parcoords": [
           {
            "line": {
             "colorbar": {
              "outlinewidth": 0,
              "ticks": ""
             }
            },
            "type": "parcoords"
           }
          ],
          "pie": [
           {
            "automargin": true,
            "type": "pie"
           }
          ],
          "scatter": [
           {
            "marker": {
             "colorbar": {
              "outlinewidth": 0,
              "ticks": ""
             }
            },
            "type": "scatter"
           }
          ],
          "scatter3d": [
           {
            "line": {
             "colorbar": {
              "outlinewidth": 0,
              "ticks": ""
             }
            },
            "marker": {
             "colorbar": {
              "outlinewidth": 0,
              "ticks": ""
             }
            },
            "type": "scatter3d"
           }
          ],
          "scattercarpet": [
           {
            "marker": {
             "colorbar": {
              "outlinewidth": 0,
              "ticks": ""
             }
            },
            "type": "scattercarpet"
           }
          ],
          "scattergeo": [
           {
            "marker": {
             "colorbar": {
              "outlinewidth": 0,
              "ticks": ""
             }
            },
            "type": "scattergeo"
           }
          ],
          "scattergl": [
           {
            "marker": {
             "colorbar": {
              "outlinewidth": 0,
              "ticks": ""
             }
            },
            "type": "scattergl"
           }
          ],
          "scattermapbox": [
           {
            "marker": {
             "colorbar": {
              "outlinewidth": 0,
              "ticks": ""
             }
            },
            "type": "scattermapbox"
           }
          ],
          "scatterpolar": [
           {
            "marker": {
             "colorbar": {
              "outlinewidth": 0,
              "ticks": ""
             }
            },
            "type": "scatterpolar"
           }
          ],
          "scatterpolargl": [
           {
            "marker": {
             "colorbar": {
              "outlinewidth": 0,
              "ticks": ""
             }
            },
            "type": "scatterpolargl"
           }
          ],
          "scatterternary": [
           {
            "marker": {
             "colorbar": {
              "outlinewidth": 0,
              "ticks": ""
             }
            },
            "type": "scatterternary"
           }
          ],
          "surface": [
           {
            "colorbar": {
             "outlinewidth": 0,
             "ticks": ""
            },
            "colorscale": [
             [
              0,
              "#0d0887"
             ],
             [
              0.1111111111111111,
              "#46039f"
             ],
             [
              0.2222222222222222,
              "#7201a8"
             ],
             [
              0.3333333333333333,
              "#9c179e"
             ],
             [
              0.4444444444444444,
              "#bd3786"
             ],
             [
              0.5555555555555556,
              "#d8576b"
             ],
             [
              0.6666666666666666,
              "#ed7953"
             ],
             [
              0.7777777777777778,
              "#fb9f3a"
             ],
             [
              0.8888888888888888,
              "#fdca26"
             ],
             [
              1,
              "#f0f921"
             ]
            ],
            "type": "surface"
           }
          ],
          "table": [
           {
            "cells": {
             "fill": {
              "color": "#EBF0F8"
             },
             "line": {
              "color": "white"
             }
            },
            "header": {
             "fill": {
              "color": "#C8D4E3"
             },
             "line": {
              "color": "white"
             }
            },
            "type": "table"
           }
          ]
         },
         "layout": {
          "annotationdefaults": {
           "arrowcolor": "#2a3f5f",
           "arrowhead": 0,
           "arrowwidth": 1
          },
          "coloraxis": {
           "colorbar": {
            "outlinewidth": 0,
            "ticks": ""
           }
          },
          "colorscale": {
           "diverging": [
            [
             0,
             "#8e0152"
            ],
            [
             0.1,
             "#c51b7d"
            ],
            [
             0.2,
             "#de77ae"
            ],
            [
             0.3,
             "#f1b6da"
            ],
            [
             0.4,
             "#fde0ef"
            ],
            [
             0.5,
             "#f7f7f7"
            ],
            [
             0.6,
             "#e6f5d0"
            ],
            [
             0.7,
             "#b8e186"
            ],
            [
             0.8,
             "#7fbc41"
            ],
            [
             0.9,
             "#4d9221"
            ],
            [
             1,
             "#276419"
            ]
           ],
           "sequential": [
            [
             0,
             "#0d0887"
            ],
            [
             0.1111111111111111,
             "#46039f"
            ],
            [
             0.2222222222222222,
             "#7201a8"
            ],
            [
             0.3333333333333333,
             "#9c179e"
            ],
            [
             0.4444444444444444,
             "#bd3786"
            ],
            [
             0.5555555555555556,
             "#d8576b"
            ],
            [
             0.6666666666666666,
             "#ed7953"
            ],
            [
             0.7777777777777778,
             "#fb9f3a"
            ],
            [
             0.8888888888888888,
             "#fdca26"
            ],
            [
             1,
             "#f0f921"
            ]
           ],
           "sequentialminus": [
            [
             0,
             "#0d0887"
            ],
            [
             0.1111111111111111,
             "#46039f"
            ],
            [
             0.2222222222222222,
             "#7201a8"
            ],
            [
             0.3333333333333333,
             "#9c179e"
            ],
            [
             0.4444444444444444,
             "#bd3786"
            ],
            [
             0.5555555555555556,
             "#d8576b"
            ],
            [
             0.6666666666666666,
             "#ed7953"
            ],
            [
             0.7777777777777778,
             "#fb9f3a"
            ],
            [
             0.8888888888888888,
             "#fdca26"
            ],
            [
             1,
             "#f0f921"
            ]
           ]
          },
          "colorway": [
           "#636efa",
           "#EF553B",
           "#00cc96",
           "#ab63fa",
           "#FFA15A",
           "#19d3f3",
           "#FF6692",
           "#B6E880",
           "#FF97FF",
           "#FECB52"
          ],
          "font": {
           "color": "#2a3f5f"
          },
          "geo": {
           "bgcolor": "white",
           "lakecolor": "white",
           "landcolor": "#E5ECF6",
           "showlakes": true,
           "showland": true,
           "subunitcolor": "white"
          },
          "hoverlabel": {
           "align": "left"
          },
          "hovermode": "closest",
          "mapbox": {
           "style": "light"
          },
          "paper_bgcolor": "white",
          "plot_bgcolor": "#E5ECF6",
          "polar": {
           "angularaxis": {
            "gridcolor": "white",
            "linecolor": "white",
            "ticks": ""
           },
           "bgcolor": "#E5ECF6",
           "radialaxis": {
            "gridcolor": "white",
            "linecolor": "white",
            "ticks": ""
           }
          },
          "scene": {
           "xaxis": {
            "backgroundcolor": "#E5ECF6",
            "gridcolor": "white",
            "gridwidth": 2,
            "linecolor": "white",
            "showbackground": true,
            "ticks": "",
            "zerolinecolor": "white"
           },
           "yaxis": {
            "backgroundcolor": "#E5ECF6",
            "gridcolor": "white",
            "gridwidth": 2,
            "linecolor": "white",
            "showbackground": true,
            "ticks": "",
            "zerolinecolor": "white"
           },
           "zaxis": {
            "backgroundcolor": "#E5ECF6",
            "gridcolor": "white",
            "gridwidth": 2,
            "linecolor": "white",
            "showbackground": true,
            "ticks": "",
            "zerolinecolor": "white"
           }
          },
          "shapedefaults": {
           "line": {
            "color": "#2a3f5f"
           }
          },
          "ternary": {
           "aaxis": {
            "gridcolor": "white",
            "linecolor": "white",
            "ticks": ""
           },
           "baxis": {
            "gridcolor": "white",
            "linecolor": "white",
            "ticks": ""
           },
           "bgcolor": "#E5ECF6",
           "caxis": {
            "gridcolor": "white",
            "linecolor": "white",
            "ticks": ""
           }
          },
          "title": {
           "x": 0.05
          },
          "xaxis": {
           "automargin": true,
           "gridcolor": "white",
           "linecolor": "white",
           "ticks": "",
           "title": {
            "standoff": 15
           },
           "zerolinecolor": "white",
           "zerolinewidth": 2
          },
          "yaxis": {
           "automargin": true,
           "gridcolor": "white",
           "linecolor": "white",
           "ticks": "",
           "title": {
            "standoff": 15
           },
           "zerolinecolor": "white",
           "zerolinewidth": 2
          }
         }
        }
       }
      },
      "image/png": "[encoded data removed]",
      "text/html": [
       "<div>                            <div id=\"36952304-277e-40da-8fa1-a2a736f8b051\" class=\"plotly-graph-div\" style=\"height:525px; width:100%;\"></div>            <script type=\"text/javascript\">                require([\"plotly\"], function(Plotly) {                    window.PLOTLYENV=window.PLOTLYENV || {};                                    if (document.getElementById(\"36952304-277e-40da-8fa1-a2a736f8b051\")) {                    Plotly.newPlot(                        \"36952304-277e-40da-8fa1-a2a736f8b051\",                        [{\"delta\": {\"reference\": 512, \"valueformat\": \".0f\"}, \"mode\": \"number\", \"number\": {\"font\": {\"color\": \"rgb(237, 217, 163)\"}}, \"title\": {\"font\": {\"size\": 18}, \"text\": \"<b>Taxa de Urbaniza\\u00e7\\u00e3o<b>\"}, \"type\": \"indicator\", \"value\": 40}],                        {\"template\": {\"data\": {\"bar\": [{\"error_x\": {\"color\": \"#2a3f5f\"}, \"error_y\": {\"color\": \"#2a3f5f\"}, \"marker\": {\"line\": {\"color\": \"#E5ECF6\", \"width\": 0.5}}, \"type\": \"bar\"}], \"barpolar\": [{\"marker\": {\"line\": {\"color\": \"#E5ECF6\", \"width\": 0.5}}, \"type\": \"barpolar\"}], \"carpet\": [{\"aaxis\": {\"endlinecolor\": \"#2a3f5f\", \"gridcolor\": \"white\", \"linecolor\": \"white\", \"minorgridcolor\": \"white\", \"startlinecolor\": \"#2a3f5f\"}, \"baxis\": {\"endlinecolor\": \"#2a3f5f\", \"gridcolor\": \"white\", \"linecolor\": \"white\", \"minorgridcolor\": \"white\", \"startlinecolor\": \"#2a3f5f\"}, \"type\": \"carpet\"}], \"choropleth\": [{\"colorbar\": {\"outlinewidth\": 0, \"ticks\": \"\"}, \"type\": \"choropleth\"}], \"contour\": [{\"colorbar\": {\"outlinewidth\": 0, \"ticks\": \"\"}, \"colorscale\": [[0.0, \"#0d0887\"], [0.1111111111111111, \"#46039f\"], [0.2222222222222222, \"#7201a8\"], [0.3333333333333333, \"#9c179e\"], [0.4444444444444444, \"#bd3786\"], [0.5555555555555556, \"#d8576b\"], [0.6666666666666666, \"#ed7953\"], [0.7777777777777778, \"#fb9f3a\"], [0.8888888888888888, \"#fdca26\"], [1.0, \"#f0f921\"]], \"type\": \"contour\"}], \"contourcarpet\": [{\"colorbar\": {\"outlinewidth\": 0, \"ticks\": \"\"}, \"type\": \"contourcarpet\"}], \"heatmap\": [{\"colorbar\": {\"outlinewidth\": 0, \"ticks\": \"\"}, \"colorscale\": [[0.0, \"#0d0887\"], [0.1111111111111111, \"#46039f\"], [0.2222222222222222, \"#7201a8\"], [0.3333333333333333, \"#9c179e\"], [0.4444444444444444, \"#bd3786\"], [0.5555555555555556, \"#d8576b\"], [0.6666666666666666, \"#ed7953\"], [0.7777777777777778, \"#fb9f3a\"], [0.8888888888888888, \"#fdca26\"], [1.0, \"#f0f921\"]], \"type\": \"heatmap\"}], \"heatmapgl\": [{\"colorbar\": {\"outlinewidth\": 0, \"ticks\": \"\"}, \"colorscale\": [[0.0, \"#0d0887\"], [0.1111111111111111, \"#46039f\"], [0.2222222222222222, \"#7201a8\"], [0.3333333333333333, \"#9c179e\"], [0.4444444444444444, \"#bd3786\"], [0.5555555555555556, \"#d8576b\"], [0.6666666666666666, \"#ed7953\"], [0.7777777777777778, \"#fb9f3a\"], [0.8888888888888888, \"#fdca26\"], [1.0, \"#f0f921\"]], \"type\": \"heatmapgl\"}], \"histogram\": [{\"marker\": {\"colorbar\": {\"outlinewidth\": 0, \"ticks\": \"\"}}, \"type\": \"histogram\"}], \"histogram2d\": [{\"colorbar\": {\"outlinewidth\": 0, \"ticks\": \"\"}, \"colorscale\": [[0.0, \"#0d0887\"], [0.1111111111111111, \"#46039f\"], [0.2222222222222222, \"#7201a8\"], [0.3333333333333333, \"#9c179e\"], [0.4444444444444444, \"#bd3786\"], [0.5555555555555556, \"#d8576b\"], [0.6666666666666666, \"#ed7953\"], [0.7777777777777778, \"#fb9f3a\"], [0.8888888888888888, \"#fdca26\"], [1.0, \"#f0f921\"]], \"type\": \"histogram2d\"}], \"histogram2dcontour\": [{\"colorbar\": {\"outlinewidth\": 0, \"ticks\": \"\"}, \"colorscale\": [[0.0, \"#0d0887\"], [0.1111111111111111, \"#46039f\"], [0.2222222222222222, \"#7201a8\"], [0.3333333333333333, \"#9c179e\"], [0.4444444444444444, \"#bd3786\"], [0.5555555555555556, \"#d8576b\"], [0.6666666666666666, \"#ed7953\"], [0.7777777777777778, \"#fb9f3a\"], [0.8888888888888888, \"#fdca26\"], [1.0, \"#f0f921\"]], \"type\": \"histogram2dcontour\"}], \"mesh3d\": [{\"colorbar\": {\"outlinewidth\": 0, \"ticks\": \"\"}, \"type\": \"mesh3d\"}], \"parcoords\": [{\"line\": {\"colorbar\": {\"outlinewidth\": 0, \"ticks\": \"\"}}, \"type\": \"parcoords\"}], \"pie\": [{\"automargin\": true, \"type\": \"pie\"}], \"scatter\": [{\"marker\": {\"colorbar\": {\"outlinewidth\": 0, \"ticks\": \"\"}}, \"type\": \"scatter\"}], \"scatter3d\": [{\"line\": {\"colorbar\": {\"outlinewidth\": 0, \"ticks\": \"\"}}, \"marker\": {\"colorbar\": {\"outlinewidth\": 0, \"ticks\": \"\"}}, \"type\": \"scatter3d\"}], \"scattercarpet\": [{\"marker\": {\"colorbar\": {\"outlinewidth\": 0, \"ticks\": \"\"}}, \"type\": \"scattercarpet\"}], \"scattergeo\": [{\"marker\": {\"colorbar\": {\"outlinewidth\": 0, \"ticks\": \"\"}}, \"type\": \"scattergeo\"}], \"scattergl\": [{\"marker\": {\"colorbar\": {\"outlinewidth\": 0, \"ticks\": \"\"}}, \"type\": \"scattergl\"}], \"scattermapbox\": [{\"marker\": {\"colorbar\": {\"outlinewidth\": 0, \"ticks\": \"\"}}, \"type\": \"scattermapbox\"}], \"scatterpolar\": [{\"marker\": {\"colorbar\": {\"outlinewidth\": 0, \"ticks\": \"\"}}, \"type\": \"scatterpolar\"}], \"scatterpolargl\": [{\"marker\": {\"colorbar\": {\"outlinewidth\": 0, \"ticks\": \"\"}}, \"type\": \"scatterpolargl\"}], \"scatterternary\": [{\"marker\": {\"colorbar\": {\"outlinewidth\": 0, \"ticks\": \"\"}}, \"type\": \"scatterternary\"}], \"surface\": [{\"colorbar\": {\"outlinewidth\": 0, \"ticks\": \"\"}, \"colorscale\": [[0.0, \"#0d0887\"], [0.1111111111111111, \"#46039f\"], [0.2222222222222222, \"#7201a8\"], [0.3333333333333333, \"#9c179e\"], [0.4444444444444444, \"#bd3786\"], [0.5555555555555556, \"#d8576b\"], [0.6666666666666666, \"#ed7953\"], [0.7777777777777778, \"#fb9f3a\"], [0.8888888888888888, \"#fdca26\"], [1.0, \"#f0f921\"]], \"type\": \"surface\"}], \"table\": [{\"cells\": {\"fill\": {\"color\": \"#EBF0F8\"}, \"line\": {\"color\": \"white\"}}, \"header\": {\"fill\": {\"color\": \"#C8D4E3\"}, \"line\": {\"color\": \"white\"}}, \"type\": \"table\"}]}, \"layout\": {\"annotationdefaults\": {\"arrowcolor\": \"#2a3f5f\", \"arrowhead\": 0, \"arrowwidth\": 1}, \"coloraxis\": {\"colorbar\": {\"outlinewidth\": 0, \"ticks\": \"\"}}, \"colorscale\": {\"diverging\": [[0, \"#8e0152\"], [0.1, \"#c51b7d\"], [0.2, \"#de77ae\"], [0.3, \"#f1b6da\"], [0.4, \"#fde0ef\"], [0.5, \"#f7f7f7\"], [0.6, \"#e6f5d0\"], [0.7, \"#b8e186\"], [0.8, \"#7fbc41\"], [0.9, \"#4d9221\"], [1, \"#276419\"]], \"sequential\": [[0.0, \"#0d0887\"], [0.1111111111111111, \"#46039f\"], [0.2222222222222222, \"#7201a8\"], [0.3333333333333333, \"#9c179e\"], [0.4444444444444444, \"#bd3786\"], [0.5555555555555556, \"#d8576b\"], [0.6666666666666666, \"#ed7953\"], [0.7777777777777778, \"#fb9f3a\"], [0.8888888888888888, \"#fdca26\"], [1.0, \"#f0f921\"]], \"sequentialminus\": [[0.0, \"#0d0887\"], [0.1111111111111111, \"#46039f\"], [0.2222222222222222, \"#7201a8\"], [0.3333333333333333, \"#9c179e\"], [0.4444444444444444, \"#bd3786\"], [0.5555555555555556, \"#d8576b\"], [0.6666666666666666, \"#ed7953\"], [0.7777777777777778, \"#fb9f3a\"], [0.8888888888888888, \"#fdca26\"], [1.0, \"#f0f921\"]]}, \"colorway\": [\"#636efa\", \"#EF553B\", \"#00cc96\", \"#ab63fa\", \"#FFA15A\", \"#19d3f3\", \"#FF6692\", \"#B6E880\", \"#FF97FF\", \"#FECB52\"], \"font\": {\"color\": \"#2a3f5f\"}, \"geo\": {\"bgcolor\": \"white\", \"lakecolor\": \"white\", \"landcolor\": \"#E5ECF6\", \"showlakes\": true, \"showland\": true, \"subunitcolor\": \"white\"}, \"hoverlabel\": {\"align\": \"left\"}, \"hovermode\": \"closest\", \"mapbox\": {\"style\": \"light\"}, \"paper_bgcolor\": \"white\", \"plot_bgcolor\": \"#E5ECF6\", \"polar\": {\"angularaxis\": {\"gridcolor\": \"white\", \"linecolor\": \"white\", \"ticks\": \"\"}, \"bgcolor\": \"#E5ECF6\", \"radialaxis\": {\"gridcolor\": \"white\", \"linecolor\": \"white\", \"ticks\": \"\"}}, \"scene\": {\"xaxis\": {\"backgroundcolor\": \"#E5ECF6\", \"gridcolor\": \"white\", \"gridwidth\": 2, \"linecolor\": \"white\", \"showbackground\": true, \"ticks\": \"\", \"zerolinecolor\": \"white\"}, \"yaxis\": {\"backgroundcolor\": \"#E5ECF6\", \"gridcolor\": \"white\", \"gridwidth\": 2, \"linecolor\": \"white\", \"showbackground\": true, \"ticks\": \"\", \"zerolinecolor\": \"white\"}, \"zaxis\": {\"backgroundcolor\": \"#E5ECF6\", \"gridcolor\": \"white\", \"gridwidth\": 2, \"linecolor\": \"white\", \"showbackground\": true, \"ticks\": \"\", \"zerolinecolor\": \"white\"}}, \"shapedefaults\": {\"line\": {\"color\": \"#2a3f5f\"}}, \"ternary\": {\"aaxis\": {\"gridcolor\": \"white\", \"linecolor\": \"white\", \"ticks\": \"\"}, \"baxis\": {\"gridcolor\": \"white\", \"linecolor\": \"white\", \"ticks\": \"\"}, \"bgcolor\": \"#E5ECF6\", \"caxis\": {\"gridcolor\": \"white\", \"linecolor\": \"white\", \"ticks\": \"\"}}, \"title\": {\"x\": 0.05}, \"xaxis\": {\"automargin\": true, \"gridcolor\": \"white\", \"linecolor\": \"white\", \"ticks\": \"\", \"title\": {\"standoff\": 15}, \"zerolinecolor\": \"white\", \"zerolinewidth\": 2}, \"yaxis\": {\"automargin\": true, \"gridcolor\": \"white\", \"linecolor\": \"white\", \"ticks\": \"\", \"title\": {\"standoff\": 15}, \"zerolinecolor\": \"white\", \"zerolinewidth\": 2}}}},                        {\"responsive\": true}                    ).then(function(){\n",
       "                            \n",
       "var gd = document.getElementById('36952304-277e-40da-8fa1-a2a736f8b051');\n",
       "var x = new MutationObserver(function (mutations, observer) {{\n",
       "        var display = window.getComputedStyle(gd).display;\n",
       "        if (!display || display === 'none') {{\n",
       "            console.log([gd, 'removed!']);\n",
       "            Plotly.purge(gd);\n",
       "            observer.disconnect();\n",
       "        }}\n",
       "}});\n",
       "\n",
       "// Listen for the removal of the full notebook cells\n",
       "var notebookContainer = gd.closest('#notebook-container');\n",
       "if (notebookContainer) {{\n",
       "    x.observe(notebookContainer, {childList: true});\n",
       "}}\n",
       "\n",
       "// Listen for the clearing of the current output cell\n",
       "var outputEl = gd.closest('.output');\n",
       "if (outputEl) {{\n",
       "    x.observe(outputEl, {childList: true});\n",
       "}}\n",
       "\n",
       "                        })                };                });            </script>        </div>"
      ]
     },
     "metadata": {},
     "output_type": "display_data"
    }
   ],
   "source": [
    "indicator = plot_urbanization_index(urb_indicator=40)\n",
    "\n",
    "indicator"
   ]
  },
  {
   "cell_type": "code",
   "execution_count": 56,
   "metadata": {},
   "outputs": [
    {
     "data": {
      "application/vnd.plotly.v1+json": {
       "config": {
        "plotlyServerURL": "https://plot.ly"
       },
       "data": [
        {
         "customdata": [
          0,
          1,
          2,
          3,
          4,
          5,
          6
         ],
         "hovertemplate": "%{y}[%{customdata}] = %{marker.color}<extra></extra>",
         "marker": {
          "color": [
           "rgb(237, 229, 207)",
           "rgb(224, 194, 162)",
           "rgb(211, 156, 131)",
           "rgb(193, 118, 111)",
           "rgb(166, 84, 97)",
           "rgb(129, 55, 83)",
           "rgb(84, 31, 63)"
          ]
         },
         "orientation": "h",
         "type": "bar",
         "x": [
          1,
          1,
          1,
          1,
          1,
          1,
          1
         ],
         "y": [
          "Brwnyl",
          "Brwnyl",
          "Brwnyl",
          "Brwnyl",
          "Brwnyl",
          "Brwnyl",
          "Brwnyl"
         ]
        },
        {
         "customdata": [
          0,
          1,
          2,
          3,
          4,
          5,
          6
         ],
         "hovertemplate": "%{y}[%{customdata}] = %{marker.color}<extra></extra>",
         "marker": {
          "color": [
           "rgb(75, 41, 145)",
           "rgb(135, 44, 162)",
           "rgb(192, 54, 157)",
           "rgb(234, 79, 136)",
           "rgb(250, 120, 118)",
           "rgb(246, 169, 122)",
           "rgb(237, 217, 163)"
          ]
         },
         "orientation": "h",
         "type": "bar",
         "x": [
          1,
          1,
          1,
          1,
          1,
          1,
          1
         ],
         "y": [
          "Agsunset",
          "Agsunset",
          "Agsunset",
          "Agsunset",
          "Agsunset",
          "Agsunset",
          "Agsunset"
         ]
        },
        {
         "customdata": [
          0,
          1,
          2,
          3,
          4,
          5,
          6
         ],
         "hovertemplate": "%{y}[%{customdata}] = %{marker.color}<extra></extra>",
         "marker": {
          "color": [
           "rgb(252, 222, 156)",
           "rgb(250, 164, 118)",
           "rgb(240, 116, 110)",
           "rgb(227, 79, 111)",
           "rgb(220, 57, 119)",
           "rgb(185, 37, 122)",
           "rgb(124, 29, 111)"
          ]
         },
         "orientation": "h",
         "type": "bar",
         "x": [
          1,
          1,
          1,
          1,
          1,
          1,
          1
         ],
         "y": [
          "Sunsetdark",
          "Sunsetdark",
          "Sunsetdark",
          "Sunsetdark",
          "Sunsetdark",
          "Sunsetdark",
          "Sunsetdark"
         ]
        },
        {
         "customdata": [
          0,
          1,
          2,
          3,
          4,
          5,
          6
         ],
         "hovertemplate": "%{y}[%{customdata}] = %{marker.color}<extra></extra>",
         "marker": {
          "color": [
           "rgb(243, 203, 211)",
           "rgb(234, 169, 189)",
           "rgb(221, 136, 172)",
           "rgb(202, 105, 157)",
           "rgb(177, 77, 142)",
           "rgb(145, 53, 125)",
           "rgb(108, 33, 103)"
          ]
         },
         "orientation": "h",
         "type": "bar",
         "x": [
          1,
          1,
          1,
          1,
          1,
          1,
          1
         ],
         "y": [
          "Magenta",
          "Magenta",
          "Magenta",
          "Magenta",
          "Magenta",
          "Magenta",
          "Magenta"
         ]
        },
        {
         "customdata": [
          0,
          1,
          2,
          3,
          4,
          5,
          6
         ],
         "hovertemplate": "%{y}[%{customdata}] = %{marker.color}<extra></extra>",
         "marker": {
          "color": [
           "rgb(243, 231, 155)",
           "rgb(250, 196, 132)",
           "rgb(248, 160, 126)",
           "rgb(235, 127, 134)",
           "rgb(206, 102, 147)",
           "rgb(160, 89, 160)",
           "rgb(92, 83, 165)"
          ]
         },
         "orientation": "h",
         "type": "bar",
         "x": [
          1,
          1,
          1,
          1,
          1,
          1,
          1
         ],
         "y": [
          "Sunset",
          "Sunset",
          "Sunset",
          "Sunset",
          "Sunset",
          "Sunset",
          "Sunset"
         ]
        },
        {
         "customdata": [
          0,
          1,
          2,
          3,
          4,
          5,
          6
         ],
         "hovertemplate": "%{y}[%{customdata}] = %{marker.color}<extra></extra>",
         "marker": {
          "color": [
           "rgb(249, 221, 218)",
           "rgb(242, 185, 196)",
           "rgb(229, 151, 185)",
           "rgb(206, 120, 179)",
           "rgb(173, 95, 173)",
           "rgb(131, 75, 160)",
           "rgb(87, 59, 136)"
          ]
         },
         "orientation": "h",
         "type": "bar",
         "x": [
          1,
          1,
          1,
          1,
          1,
          1,
          1
         ],
         "y": [
          "Purpor",
          "Purpor",
          "Purpor",
          "Purpor",
          "Purpor",
          "Purpor",
          "Purpor"
         ]
        },
        {
         "customdata": [
          0,
          1,
          2,
          3,
          4,
          5,
          6
         ],
         "hovertemplate": "%{y}[%{customdata}] = %{marker.color}<extra></extra>",
         "marker": {
          "color": [
           "rgb(243, 224, 247)",
           "rgb(228, 199, 241)",
           "rgb(209, 175, 232)",
           "rgb(185, 152, 221)",
           "rgb(159, 130, 206)",
           "rgb(130, 109, 186)",
           "rgb(99, 88, 159)"
          ]
         },
         "orientation": "h",
         "type": "bar",
         "x": [
          1,
          1,
          1,
          1,
          1,
          1,
          1
         ],
         "y": [
          "Purp",
          "Purp",
          "Purp",
          "Purp",
          "Purp",
          "Purp",
          "Purp"
         ]
        },
        {
         "customdata": [
          0,
          1,
          2,
          3,
          4,
          5,
          6
         ],
         "hovertemplate": "%{y}[%{customdata}] = %{marker.color}<extra></extra>",
         "marker": {
          "color": [
           "rgb(176, 242, 188)",
           "rgb(137, 232, 172)",
           "rgb(103, 219, 165)",
           "rgb(76, 200, 163)",
           "rgb(56, 178, 163)",
           "rgb(44, 152, 160)",
           "rgb(37, 125, 152)"
          ]
         },
         "orientation": "h",
         "type": "bar",
         "x": [
          1,
          1,
          1,
          1,
          1,
          1,
          1
         ],
         "y": [
          "Tealgrn",
          "Tealgrn",
          "Tealgrn",
          "Tealgrn",
          "Tealgrn",
          "Tealgrn",
          "Tealgrn"
         ]
        },
        {
         "customdata": [
          0,
          1,
          2,
          3,
          4,
          5,
          6
         ],
         "hovertemplate": "%{y}[%{customdata}] = %{marker.color}<extra></extra>",
         "marker": {
          "color": [
           "rgb(209, 238, 234)",
           "rgb(168, 219, 217)",
           "rgb(133, 196, 201)",
           "rgb(104, 171, 184)",
           "rgb(79, 144, 166)",
           "rgb(59, 115, 143)",
           "rgb(42, 86, 116)"
          ]
         },
         "orientation": "h",
         "type": "bar",
         "x": [
          1,
          1,
          1,
          1,
          1,
          1,
          1
         ],
         "y": [
          "Teal",
          "Teal",
          "Teal",
          "Teal",
          "Teal",
          "Teal",
          "Teal"
         ]
        },
        {
         "customdata": [
          0,
          1,
          2,
          3,
          4,
          5,
          6
         ],
         "hovertemplate": "%{y}[%{customdata}] = %{marker.color}<extra></extra>",
         "marker": {
          "color": [
           "rgb(247, 254, 174)",
           "rgb(183, 230, 165)",
           "rgb(124, 203, 162)",
           "rgb(70, 174, 160)",
           "rgb(8, 144, 153)",
           "rgb(0, 113, 139)",
           "rgb(4, 82, 117)"
          ]
         },
         "orientation": "h",
         "type": "bar",
         "x": [
          1,
          1,
          1,
          1,
          1,
          1,
          1
         ],
         "y": [
          "Bluyl",
          "Bluyl",
          "Bluyl",
          "Bluyl",
          "Bluyl",
          "Bluyl",
          "Bluyl"
         ]
        },
        {
         "customdata": [
          0,
          1,
          2,
          3,
          4,
          5,
          6
         ],
         "hovertemplate": "%{y}[%{customdata}] = %{marker.color}<extra></extra>",
         "marker": {
          "color": [
           "rgb(36, 86, 104)",
           "rgb(15, 114, 121)",
           "rgb(13, 143, 129)",
           "rgb(57, 171, 126)",
           "rgb(110, 197, 116)",
           "rgb(169, 220, 103)",
           "rgb(237, 239, 93)"
          ]
         },
         "orientation": "h",
         "type": "bar",
         "x": [
          1,
          1,
          1,
          1,
          1,
          1,
          1
         ],
         "y": [
          "Aggrnyl",
          "Aggrnyl",
          "Aggrnyl",
          "Aggrnyl",
          "Aggrnyl",
          "Aggrnyl",
          "Aggrnyl"
         ]
        },
        {
         "customdata": [
          0,
          1,
          2,
          3,
          4,
          5,
          6
         ],
         "hovertemplate": "%{y}[%{customdata}] = %{marker.color}<extra></extra>",
         "marker": {
          "color": [
           "rgb(211, 242, 163)",
           "rgb(151, 225, 150)",
           "rgb(108, 192, 139)",
           "rgb(76, 155, 130)",
           "rgb(33, 122, 121)",
           "rgb(16, 89, 101)",
           "rgb(7, 64, 80)"
          ]
         },
         "orientation": "h",
         "type": "bar",
         "x": [
          1,
          1,
          1,
          1,
          1,
          1,
          1
         ],
         "y": [
          "Emrld",
          "Emrld",
          "Emrld",
          "Emrld",
          "Emrld",
          "Emrld",
          "Emrld"
         ]
        },
        {
         "customdata": [
          0,
          1,
          2,
          3,
          4,
          5,
          6
         ],
         "hovertemplate": "%{y}[%{customdata}] = %{marker.color}<extra></extra>",
         "marker": {
          "color": [
           "rgb(210, 251, 212)",
           "rgb(165, 219, 194)",
           "rgb(123, 188, 176)",
           "rgb(85, 156, 158)",
           "rgb(58, 124, 137)",
           "rgb(35, 93, 114)",
           "rgb(18, 63, 90)"
          ]
         },
         "orientation": "h",
         "type": "bar",
         "x": [
          1,
          1,
          1,
          1,
          1,
          1,
          1
         ],
         "y": [
          "Darkmint",
          "Darkmint",
          "Darkmint",
          "Darkmint",
          "Darkmint",
          "Darkmint",
          "Darkmint"
         ]
        },
        {
         "customdata": [
          0,
          1,
          2,
          3,
          4,
          5,
          6
         ],
         "hovertemplate": "%{y}[%{customdata}] = %{marker.color}<extra></extra>",
         "marker": {
          "color": [
           "rgb(196, 230, 195)",
           "rgb(150, 210, 164)",
           "rgb(109, 188, 144)",
           "rgb(77, 162, 132)",
           "rgb(54, 135, 122)",
           "rgb(38, 107, 110)",
           "rgb(29, 79, 96)"
          ]
         },
         "orientation": "h",
         "type": "bar",
         "x": [
          1,
          1,
          1,
          1,
          1,
          1,
          1
         ],
         "y": [
          "Blugrn",
          "Blugrn",
          "Blugrn",
          "Blugrn",
          "Blugrn",
          "Blugrn",
          "Blugrn"
         ]
        },
        {
         "customdata": [
          0,
          1,
          2,
          3,
          4,
          5,
          6
         ],
         "hovertemplate": "%{y}[%{customdata}] = %{marker.color}<extra></extra>",
         "marker": {
          "color": [
           "rgb(228, 241, 225)",
           "rgb(180, 217, 204)",
           "rgb(137, 192, 182)",
           "rgb(99, 166, 160)",
           "rgb(68, 140, 138)",
           "rgb(40, 114, 116)",
           "rgb(13, 88, 95)"
          ]
         },
         "orientation": "h",
         "type": "bar",
         "x": [
          1,
          1,
          1,
          1,
          1,
          1,
          1
         ],
         "y": [
          "Mint",
          "Mint",
          "Mint",
          "Mint",
          "Mint",
          "Mint",
          "Mint"
         ]
        },
        {
         "customdata": [
          0,
          1,
          2,
          3,
          4,
          5,
          6
         ],
         "hovertemplate": "%{y}[%{customdata}] = %{marker.color}<extra></extra>",
         "marker": {
          "color": [
           "rgb(254, 246, 181)",
           "rgb(255, 221, 154)",
           "rgb(255, 194, 133)",
           "rgb(255, 166, 121)",
           "rgb(250, 138, 118)",
           "rgb(241, 109, 122)",
           "rgb(225, 83, 131)"
          ]
         },
         "orientation": "h",
         "type": "bar",
         "x": [
          1,
          1,
          1,
          1,
          1,
          1,
          1
         ],
         "y": [
          "Pinkyl",
          "Pinkyl",
          "Pinkyl",
          "Pinkyl",
          "Pinkyl",
          "Pinkyl",
          "Pinkyl"
         ]
        },
        {
         "customdata": [
          0,
          1,
          2,
          3,
          4,
          5,
          6
         ],
         "hovertemplate": "%{y}[%{customdata}] = %{marker.color}<extra></extra>",
         "marker": {
          "color": [
           "rgb(253, 224, 197)",
           "rgb(250, 203, 166)",
           "rgb(248, 181, 139)",
           "rgb(245, 158, 114)",
           "rgb(242, 133, 93)",
           "rgb(239, 106, 76)",
           "rgb(235, 74, 64)"
          ]
         },
         "orientation": "h",
         "type": "bar",
         "x": [
          1,
          1,
          1,
          1,
          1,
          1,
          1
         ],
         "y": [
          "Peach",
          "Peach",
          "Peach",
          "Peach",
          "Peach",
          "Peach",
          "Peach"
         ]
        },
        {
         "customdata": [
          0,
          1,
          2,
          3,
          4,
          5,
          6
         ],
         "hovertemplate": "%{y}[%{customdata}] = %{marker.color}<extra></extra>",
         "marker": {
          "color": [
           "rgb(236, 218, 154)",
           "rgb(239, 196, 126)",
           "rgb(243, 173, 106)",
           "rgb(247, 148, 93)",
           "rgb(249, 123, 87)",
           "rgb(246, 99, 86)",
           "rgb(238, 77, 90)"
          ]
         },
         "orientation": "h",
         "type": "bar",
         "x": [
          1,
          1,
          1,
          1,
          1,
          1,
          1
         ],
         "y": [
          "Oryel",
          "Oryel",
          "Oryel",
          "Oryel",
          "Oryel",
          "Oryel",
          "Oryel"
         ]
        },
        {
         "customdata": [
          0,
          1,
          2,
          3,
          4,
          5,
          6
         ],
         "hovertemplate": "%{y}[%{customdata}] = %{marker.color}<extra></extra>",
         "marker": {
          "color": [
           "rgb(246, 210, 169)",
           "rgb(245, 183, 142)",
           "rgb(241, 156, 124)",
           "rgb(234, 129, 113)",
           "rgb(221, 104, 108)",
           "rgb(202, 82, 104)",
           "rgb(177, 63, 100)"
          ]
         },
         "orientation": "h",
         "type": "bar",
         "x": [
          1,
          1,
          1,
          1,
          1,
          1,
          1
         ],
         "y": [
          "Redor",
          "Redor",
          "Redor",
          "Redor",
          "Redor",
          "Redor",
          "Redor"
         ]
        },
        {
         "customdata": [
          0,
          1,
          2,
          3,
          4,
          5,
          6
         ],
         "hovertemplate": "%{y}[%{customdata}] = %{marker.color}<extra></extra>",
         "marker": {
          "color": [
           "rgb(251, 230, 197)",
           "rgb(245, 186, 152)",
           "rgb(238, 138, 130)",
           "rgb(220, 113, 118)",
           "rgb(200, 88, 108)",
           "rgb(156, 63, 93)",
           "rgb(112, 40, 74)"
          ]
         },
         "orientation": "h",
         "type": "bar",
         "x": [
          1,
          1,
          1,
          1,
          1,
          1,
          1
         ],
         "y": [
          "Burgyl",
          "Burgyl",
          "Burgyl",
          "Burgyl",
          "Burgyl",
          "Burgyl",
          "Burgyl"
         ]
        },
        {
         "customdata": [
          0,
          1,
          2,
          3,
          4,
          5,
          6
         ],
         "hovertemplate": "%{y}[%{customdata}] = %{marker.color}<extra></extra>",
         "marker": {
          "color": [
           "rgb(255, 198, 196)",
           "rgb(244, 163, 168)",
           "rgb(227, 129, 145)",
           "rgb(204, 96, 125)",
           "rgb(173, 70, 108)",
           "rgb(139, 48, 88)",
           "rgb(103, 32, 68)"
          ]
         },
         "orientation": "h",
         "type": "bar",
         "x": [
          1,
          1,
          1,
          1,
          1,
          1,
          1
         ],
         "y": [
          "Burg",
          "Burg",
          "Burg",
          "Burg",
          "Burg",
          "Burg",
          "Burg"
         ]
        },
        {
         "customdata": [
          0,
          1,
          2,
          3,
          4,
          5,
          6,
          7,
          8,
          9,
          10,
          11
         ],
         "hovertemplate": "%{y}[%{customdata}] = %{marker.color}<extra></extra>",
         "marker": {
          "color": [
           "rgb(254, 245, 244)",
           "rgb(222, 224, 210)",
           "rgb(189, 206, 181)",
           "rgb(153, 189, 156)",
           "rgb(110, 173, 138)",
           "rgb(65, 157, 129)",
           "rgb(25, 137, 125)",
           "rgb(18, 116, 117)",
           "rgb(25, 94, 106)",
           "rgb(28, 72, 93)",
           "rgb(25, 51, 80)",
           "rgb(20, 29, 67)"
          ]
         },
         "orientation": "h",
         "type": "bar",
         "x": [
          1,
          1,
          1,
          1,
          1,
          1,
          1,
          1,
          1,
          1,
          1,
          1
         ],
         "y": [
          "tempo",
          "tempo",
          "tempo",
          "tempo",
          "tempo",
          "tempo",
          "tempo",
          "tempo",
          "tempo",
          "tempo",
          "tempo",
          "tempo"
         ]
        },
        {
         "customdata": [
          0,
          1,
          2,
          3,
          4,
          5,
          6,
          7,
          8,
          9,
          10,
          11
         ],
         "hovertemplate": "%{y}[%{customdata}] = %{marker.color}<extra></extra>",
         "marker": {
          "color": [
           "rgb(241, 236, 236)",
           "rgb(230, 209, 203)",
           "rgb(221, 182, 170)",
           "rgb(213, 156, 137)",
           "rgb(205, 129, 103)",
           "rgb(196, 102, 73)",
           "rgb(186, 74, 47)",
           "rgb(172, 44, 36)",
           "rgb(149, 19, 39)",
           "rgb(120, 14, 40)",
           "rgb(89, 13, 31)",
           "rgb(60, 9, 17)"
          ]
         },
         "orientation": "h",
         "type": "bar",
         "x": [
          1,
          1,
          1,
          1,
          1,
          1,
          1,
          1,
          1,
          1,
          1,
          1
         ],
         "y": [
          "amp",
          "amp",
          "amp",
          "amp",
          "amp",
          "amp",
          "amp",
          "amp",
          "amp",
          "amp",
          "amp",
          "amp"
         ]
        },
        {
         "customdata": [
          0,
          1,
          2,
          3,
          4,
          5,
          6,
          7,
          8,
          9,
          10,
          11
         ],
         "hovertemplate": "%{y}[%{customdata}] = %{marker.color}<extra></extra>",
         "marker": {
          "color": [
           "rgb(254, 252, 205)",
           "rgb(239, 225, 156)",
           "rgb(221, 201, 106)",
           "rgb(194, 182, 59)",
           "rgb(157, 167, 21)",
           "rgb(116, 153, 5)",
           "rgb(75, 138, 20)",
           "rgb(35, 121, 36)",
           "rgb(11, 100, 44)",
           "rgb(18, 78, 43)",
           "rgb(25, 56, 34)",
           "rgb(23, 35, 18)"
          ]
         },
         "orientation": "h",
         "type": "bar",
         "x": [
          1,
          1,
          1,
          1,
          1,
          1,
          1,
          1,
          1,
          1,
          1,
          1
         ],
         "y": [
          "speed",
          "speed",
          "speed",
          "speed",
          "speed",
          "speed",
          "speed",
          "speed",
          "speed",
          "speed",
          "speed",
          "speed"
         ]
        },
        {
         "customdata": [
          0,
          1,
          2,
          3,
          4,
          5,
          6,
          7,
          8,
          9,
          10,
          11
         ],
         "hovertemplate": "%{y}[%{customdata}] = %{marker.color}<extra></extra>",
         "marker": {
          "color": [
           "rgb(253, 237, 176)",
           "rgb(250, 205, 145)",
           "rgb(246, 173, 119)",
           "rgb(240, 142, 98)",
           "rgb(231, 109, 84)",
           "rgb(216, 80, 83)",
           "rgb(195, 56, 90)",
           "rgb(168, 40, 96)",
           "rgb(138, 29, 99)",
           "rgb(107, 24, 93)",
           "rgb(76, 21, 80)",
           "rgb(47, 15, 61)"
          ]
         },
         "orientation": "h",
         "type": "bar",
         "x": [
          1,
          1,
          1,
          1,
          1,
          1,
          1,
          1,
          1,
          1,
          1,
          1
         ],
         "y": [
          "matter",
          "matter",
          "matter",
          "matter",
          "matter",
          "matter",
          "matter",
          "matter",
          "matter",
          "matter",
          "matter",
          "matter"
         ]
        },
        {
         "customdata": [
          0,
          1,
          2,
          3,
          4,
          5,
          6,
          7,
          8,
          9,
          10,
          11
         ],
         "hovertemplate": "%{y}[%{customdata}] = %{marker.color}<extra></extra>",
         "marker": {
          "color": [
           "rgb(214, 249, 207)",
           "rgb(186, 228, 174)",
           "rgb(156, 209, 143)",
           "rgb(124, 191, 115)",
           "rgb(85, 174, 91)",
           "rgb(37, 157, 81)",
           "rgb(7, 138, 78)",
           "rgb(13, 117, 71)",
           "rgb(23, 95, 61)",
           "rgb(25, 75, 49)",
           "rgb(23, 55, 35)",
           "rgb(17, 36, 20)"
          ]
         },
         "orientation": "h",
         "type": "bar",
         "x": [
          1,
          1,
          1,
          1,
          1,
          1,
          1,
          1,
          1,
          1,
          1,
          1
         ],
         "y": [
          "algae",
          "algae",
          "algae",
          "algae",
          "algae",
          "algae",
          "algae",
          "algae",
          "algae",
          "algae",
          "algae",
          "algae"
         ]
        },
        {
         "customdata": [
          0,
          1,
          2,
          3,
          4,
          5,
          6,
          7,
          8,
          9,
          10,
          11
         ],
         "hovertemplate": "%{y}[%{customdata}] = %{marker.color}<extra></extra>",
         "marker": {
          "color": [
           "rgb(230, 240, 240)",
           "rgb(191, 221, 229)",
           "rgb(156, 201, 226)",
           "rgb(129, 180, 227)",
           "rgb(115, 154, 228)",
           "rgb(117, 127, 221)",
           "rgb(120, 100, 202)",
           "rgb(119, 74, 175)",
           "rgb(113, 50, 141)",
           "rgb(100, 31, 104)",
           "rgb(80, 20, 66)",
           "rgb(54, 14, 36)"
          ]
         },
         "orientation": "h",
         "type": "bar",
         "x": [
          1,
          1,
          1,
          1,
          1,
          1,
          1,
          1,
          1,
          1,
          1,
          1
         ],
         "y": [
          "dense",
          "dense",
          "dense",
          "dense",
          "dense",
          "dense",
          "dense",
          "dense",
          "dense",
          "dense",
          "dense",
          "dense"
         ]
        },
        {
         "customdata": [
          0,
          1,
          2,
          3,
          4,
          5,
          6,
          7,
          8,
          9,
          10,
          11
         ],
         "hovertemplate": "%{y}[%{customdata}] = %{marker.color}<extra></extra>",
         "marker": {
          "color": [
           "rgb(253, 253, 204)",
           "rgb(206, 236, 179)",
           "rgb(156, 219, 165)",
           "rgb(111, 201, 163)",
           "rgb(86, 177, 163)",
           "rgb(76, 153, 160)",
           "rgb(68, 130, 155)",
           "rgb(62, 108, 150)",
           "rgb(62, 82, 143)",
           "rgb(64, 60, 115)",
           "rgb(54, 43, 77)",
           "rgb(39, 26, 44)"
          ]
         },
         "orientation": "h",
         "type": "bar",
         "x": [
          1,
          1,
          1,
          1,
          1,
          1,
          1,
          1,
          1,
          1,
          1,
          1
         ],
         "y": [
          "deep",
          "deep",
          "deep",
          "deep",
          "deep",
          "deep",
          "deep",
          "deep",
          "deep",
          "deep",
          "deep",
          "deep"
         ]
        },
        {
         "customdata": [
          0,
          1,
          2,
          3,
          4,
          5,
          6,
          7,
          8,
          9,
          10,
          11
         ],
         "hovertemplate": "%{y}[%{customdata}] = %{marker.color}<extra></extra>",
         "marker": {
          "color": [
           "rgb(0, 0, 0)",
           "rgb(16, 16, 16)",
           "rgb(38, 38, 38)",
           "rgb(59, 59, 59)",
           "rgb(81, 80, 80)",
           "rgb(102, 101, 101)",
           "rgb(124, 123, 122)",
           "rgb(146, 146, 145)",
           "rgb(171, 171, 170)",
           "rgb(197, 197, 195)",
           "rgb(224, 224, 223)",
           "rgb(254, 254, 253)"
          ]
         },
         "orientation": "h",
         "type": "bar",
         "x": [
          1,
          1,
          1,
          1,
          1,
          1,
          1,
          1,
          1,
          1,
          1,
          1
         ],
         "y": [
          "gray",
          "gray",
          "gray",
          "gray",
          "gray",
          "gray",
          "gray",
          "gray",
          "gray",
          "gray",
          "gray",
          "gray"
         ]
        },
        {
         "customdata": [
          0,
          1,
          2,
          3,
          4,
          5,
          6,
          7,
          8,
          9,
          10,
          11
         ],
         "hovertemplate": "%{y}[%{customdata}] = %{marker.color}<extra></extra>",
         "marker": {
          "color": [
           "rgb(3, 5, 18)",
           "rgb(25, 25, 51)",
           "rgb(44, 42, 87)",
           "rgb(58, 60, 125)",
           "rgb(62, 83, 160)",
           "rgb(62, 109, 178)",
           "rgb(72, 134, 187)",
           "rgb(89, 159, 196)",
           "rgb(114, 184, 205)",
           "rgb(149, 207, 216)",
           "rgb(192, 229, 232)",
           "rgb(234, 252, 253)"
          ]
         },
         "orientation": "h",
         "type": "bar",
         "x": [
          1,
          1,
          1,
          1,
          1,
          1,
          1,
          1,
          1,
          1,
          1,
          1
         ],
         "y": [
          "ice",
          "ice",
          "ice",
          "ice",
          "ice",
          "ice",
          "ice",
          "ice",
          "ice",
          "ice",
          "ice",
          "ice"
         ]
        },
        {
         "customdata": [
          0,
          1,
          2,
          3,
          4,
          5,
          6,
          7,
          8,
          9,
          10,
          11
         ],
         "hovertemplate": "%{y}[%{customdata}] = %{marker.color}<extra></extra>",
         "marker": {
          "color": [
           "rgb(51, 19, 23)",
           "rgb(79, 28, 33)",
           "rgb(108, 36, 36)",
           "rgb(135, 47, 32)",
           "rgb(157, 66, 25)",
           "rgb(174, 88, 20)",
           "rgb(188, 111, 19)",
           "rgb(199, 137, 22)",
           "rgb(209, 164, 32)",
           "rgb(217, 192, 44)",
           "rgb(222, 222, 59)",
           "rgb(224, 253, 74)"
          ]
         },
         "orientation": "h",
         "type": "bar",
         "x": [
          1,
          1,
          1,
          1,
          1,
          1,
          1,
          1,
          1,
          1,
          1,
          1
         ],
         "y": [
          "solar",
          "solar",
          "solar",
          "solar",
          "solar",
          "solar",
          "solar",
          "solar",
          "solar",
          "solar",
          "solar",
          "solar"
         ]
        },
        {
         "customdata": [
          0,
          1,
          2,
          3,
          4,
          5,
          6,
          7,
          8,
          9,
          10,
          11
         ],
         "hovertemplate": "%{y}[%{customdata}] = %{marker.color}<extra></extra>",
         "marker": {
          "color": [
           "rgb(41, 24, 107)",
           "rgb(42, 35, 160)",
           "rgb(15, 71, 153)",
           "rgb(18, 95, 142)",
           "rgb(38, 116, 137)",
           "rgb(53, 136, 136)",
           "rgb(65, 157, 133)",
           "rgb(81, 178, 124)",
           "rgb(111, 198, 107)",
           "rgb(160, 214, 91)",
           "rgb(212, 225, 112)",
           "rgb(253, 238, 153)"
          ]
         },
         "orientation": "h",
         "type": "bar",
         "x": [
          1,
          1,
          1,
          1,
          1,
          1,
          1,
          1,
          1,
          1,
          1,
          1
         ],
         "y": [
          "haline",
          "haline",
          "haline",
          "haline",
          "haline",
          "haline",
          "haline",
          "haline",
          "haline",
          "haline",
          "haline",
          "haline"
         ]
        },
        {
         "customdata": [
          0,
          1,
          2,
          3,
          4,
          5,
          6,
          7,
          8,
          9,
          10,
          11
         ],
         "hovertemplate": "%{y}[%{customdata}] = %{marker.color}<extra></extra>",
         "marker": {
          "color": [
           "rgb(3, 35, 51)",
           "rgb(13, 48, 100)",
           "rgb(53, 50, 155)",
           "rgb(93, 62, 153)",
           "rgb(126, 77, 143)",
           "rgb(158, 89, 135)",
           "rgb(193, 100, 121)",
           "rgb(225, 113, 97)",
           "rgb(246, 139, 69)",
           "rgb(251, 173, 60)",
           "rgb(246, 211, 70)",
           "rgb(231, 250, 90)"
          ]
         },
         "orientation": "h",
         "type": "bar",
         "x": [
          1,
          1,
          1,
          1,
          1,
          1,
          1,
          1,
          1,
          1,
          1,
          1
         ],
         "y": [
          "thermal",
          "thermal",
          "thermal",
          "thermal",
          "thermal",
          "thermal",
          "thermal",
          "thermal",
          "thermal",
          "thermal",
          "thermal",
          "thermal"
         ]
        },
        {
         "customdata": [
          0,
          1,
          2,
          3,
          4,
          5,
          6,
          7,
          8,
          9,
          10,
          11
         ],
         "hovertemplate": "%{y}[%{customdata}] = %{marker.color}<extra></extra>",
         "marker": {
          "color": [
           "rgb(232, 245, 171)",
           "rgb(220, 219, 137)",
           "rgb(209, 193, 107)",
           "rgb(199, 168, 83)",
           "rgb(186, 143, 66)",
           "rgb(170, 121, 60)",
           "rgb(151, 103, 58)",
           "rgb(129, 87, 56)",
           "rgb(104, 72, 53)",
           "rgb(80, 59, 46)",
           "rgb(57, 45, 37)",
           "rgb(34, 30, 27)"
          ]
         },
         "orientation": "h",
         "type": "bar",
         "x": [
          1,
          1,
          1,
          1,
          1,
          1,
          1,
          1,
          1,
          1,
          1,
          1
         ],
         "y": [
          "turbid",
          "turbid",
          "turbid",
          "turbid",
          "turbid",
          "turbid",
          "turbid",
          "turbid",
          "turbid",
          "turbid",
          "turbid",
          "turbid"
         ]
        },
        {
         "customdata": [
          0,
          1,
          2,
          3,
          4,
          5,
          6,
          7,
          8
         ],
         "hovertemplate": "%{y}[%{customdata}] = %{marker.color}<extra></extra>",
         "marker": {
          "color": [
           "rgb(255,255,204)",
           "rgb(255,237,160)",
           "rgb(254,217,118)",
           "rgb(254,178,76)",
           "rgb(253,141,60)",
           "rgb(252,78,42)",
           "rgb(227,26,28)",
           "rgb(189,0,38)",
           "rgb(128,0,38)"
          ]
         },
         "orientation": "h",
         "type": "bar",
         "x": [
          1,
          1,
          1,
          1,
          1,
          1,
          1,
          1,
          1
         ],
         "y": [
          "YlOrRd",
          "YlOrRd",
          "YlOrRd",
          "YlOrRd",
          "YlOrRd",
          "YlOrRd",
          "YlOrRd",
          "YlOrRd",
          "YlOrRd"
         ]
        },
        {
         "customdata": [
          0,
          1,
          2,
          3,
          4,
          5,
          6,
          7,
          8
         ],
         "hovertemplate": "%{y}[%{customdata}] = %{marker.color}<extra></extra>",
         "marker": {
          "color": [
           "rgb(255,255,229)",
           "rgb(255,247,188)",
           "rgb(254,227,145)",
           "rgb(254,196,79)",
           "rgb(254,153,41)",
           "rgb(236,112,20)",
           "rgb(204,76,2)",
           "rgb(153,52,4)",
           "rgb(102,37,6)"
          ]
         },
         "orientation": "h",
         "type": "bar",
         "x": [
          1,
          1,
          1,
          1,
          1,
          1,
          1,
          1,
          1
         ],
         "y": [
          "YlOrBr",
          "YlOrBr",
          "YlOrBr",
          "YlOrBr",
          "YlOrBr",
          "YlOrBr",
          "YlOrBr",
          "YlOrBr",
          "YlOrBr"
         ]
        },
        {
         "customdata": [
          0,
          1,
          2,
          3,
          4,
          5,
          6,
          7,
          8
         ],
         "hovertemplate": "%{y}[%{customdata}] = %{marker.color}<extra></extra>",
         "marker": {
          "color": [
           "rgb(255,255,217)",
           "rgb(237,248,177)",
           "rgb(199,233,180)",
           "rgb(127,205,187)",
           "rgb(65,182,196)",
           "rgb(29,145,192)",
           "rgb(34,94,168)",
           "rgb(37,52,148)",
           "rgb(8,29,88)"
          ]
         },
         "orientation": "h",
         "type": "bar",
         "x": [
          1,
          1,
          1,
          1,
          1,
          1,
          1,
          1,
          1
         ],
         "y": [
          "YlGnBu",
          "YlGnBu",
          "YlGnBu",
          "YlGnBu",
          "YlGnBu",
          "YlGnBu",
          "YlGnBu",
          "YlGnBu",
          "YlGnBu"
         ]
        },
        {
         "customdata": [
          0,
          1,
          2,
          3,
          4,
          5,
          6,
          7,
          8
         ],
         "hovertemplate": "%{y}[%{customdata}] = %{marker.color}<extra></extra>",
         "marker": {
          "color": [
           "rgb(255,255,229)",
           "rgb(247,252,185)",
           "rgb(217,240,163)",
           "rgb(173,221,142)",
           "rgb(120,198,121)",
           "rgb(65,171,93)",
           "rgb(35,132,67)",
           "rgb(0,104,55)",
           "rgb(0,69,41)"
          ]
         },
         "orientation": "h",
         "type": "bar",
         "x": [
          1,
          1,
          1,
          1,
          1,
          1,
          1,
          1,
          1
         ],
         "y": [
          "YlGn",
          "YlGn",
          "YlGn",
          "YlGn",
          "YlGn",
          "YlGn",
          "YlGn",
          "YlGn",
          "YlGn"
         ]
        },
        {
         "customdata": [
          0,
          1,
          2,
          3,
          4,
          5,
          6,
          7,
          8
         ],
         "hovertemplate": "%{y}[%{customdata}] = %{marker.color}<extra></extra>",
         "marker": {
          "color": [
           "rgb(255,245,240)",
           "rgb(254,224,210)",
           "rgb(252,187,161)",
           "rgb(252,146,114)",
           "rgb(251,106,74)",
           "rgb(239,59,44)",
           "rgb(203,24,29)",
           "rgb(165,15,21)",
           "rgb(103,0,13)"
          ]
         },
         "orientation": "h",
         "type": "bar",
         "x": [
          1,
          1,
          1,
          1,
          1,
          1,
          1,
          1,
          1
         ],
         "y": [
          "Reds",
          "Reds",
          "Reds",
          "Reds",
          "Reds",
          "Reds",
          "Reds",
          "Reds",
          "Reds"
         ]
        },
        {
         "customdata": [
          0,
          1,
          2,
          3,
          4,
          5,
          6,
          7,
          8
         ],
         "hovertemplate": "%{y}[%{customdata}] = %{marker.color}<extra></extra>",
         "marker": {
          "color": [
           "rgb(255,247,243)",
           "rgb(253,224,221)",
           "rgb(252,197,192)",
           "rgb(250,159,181)",
           "rgb(247,104,161)",
           "rgb(221,52,151)",
           "rgb(174,1,126)",
           "rgb(122,1,119)",
           "rgb(73,0,106)"
          ]
         },
         "orientation": "h",
         "type": "bar",
         "x": [
          1,
          1,
          1,
          1,
          1,
          1,
          1,
          1,
          1
         ],
         "y": [
          "RdPu",
          "RdPu",
          "RdPu",
          "RdPu",
          "RdPu",
          "RdPu",
          "RdPu",
          "RdPu",
          "RdPu"
         ]
        },
        {
         "customdata": [
          0,
          1,
          2,
          3,
          4,
          5,
          6,
          7,
          8,
          9,
          10
         ],
         "hovertemplate": "%{y}[%{customdata}] = %{marker.color}<extra></extra>",
         "marker": {
          "color": [
           "rgb(103,0,31)",
           "rgb(178,24,43)",
           "rgb(214,96,77)",
           "rgb(244,165,130)",
           "rgb(253,219,199)",
           "rgb(247,247,247)",
           "rgb(209,229,240)",
           "rgb(146,197,222)",
           "rgb(67,147,195)",
           "rgb(33,102,172)",
           "rgb(5,48,97)"
          ]
         },
         "orientation": "h",
         "type": "bar",
         "x": [
          1,
          1,
          1,
          1,
          1,
          1,
          1,
          1,
          1,
          1,
          1
         ],
         "y": [
          "RdBu",
          "RdBu",
          "RdBu",
          "RdBu",
          "RdBu",
          "RdBu",
          "RdBu",
          "RdBu",
          "RdBu",
          "RdBu",
          "RdBu"
         ]
        },
        {
         "customdata": [
          0,
          1,
          2,
          3,
          4,
          5,
          6,
          7,
          8
         ],
         "hovertemplate": "%{y}[%{customdata}] = %{marker.color}<extra></extra>",
         "marker": {
          "color": [
           "rgb(252,251,253)",
           "rgb(239,237,245)",
           "rgb(218,218,235)",
           "rgb(188,189,220)",
           "rgb(158,154,200)",
           "rgb(128,125,186)",
           "rgb(106,81,163)",
           "rgb(84,39,143)",
           "rgb(63,0,125)"
          ]
         },
         "orientation": "h",
         "type": "bar",
         "x": [
          1,
          1,
          1,
          1,
          1,
          1,
          1,
          1,
          1
         ],
         "y": [
          "Purples",
          "Purples",
          "Purples",
          "Purples",
          "Purples",
          "Purples",
          "Purples",
          "Purples",
          "Purples"
         ]
        },
        {
         "customdata": [
          0,
          1,
          2,
          3,
          4,
          5,
          6,
          7,
          8
         ],
         "hovertemplate": "%{y}[%{customdata}] = %{marker.color}<extra></extra>",
         "marker": {
          "color": [
           "rgb(247,244,249)",
           "rgb(231,225,239)",
           "rgb(212,185,218)",
           "rgb(201,148,199)",
           "rgb(223,101,176)",
           "rgb(231,41,138)",
           "rgb(206,18,86)",
           "rgb(152,0,67)",
           "rgb(103,0,31)"
          ]
         },
         "orientation": "h",
         "type": "bar",
         "x": [
          1,
          1,
          1,
          1,
          1,
          1,
          1,
          1,
          1
         ],
         "y": [
          "PuRd",
          "PuRd",
          "PuRd",
          "PuRd",
          "PuRd",
          "PuRd",
          "PuRd",
          "PuRd",
          "PuRd"
         ]
        },
        {
         "customdata": [
          0,
          1,
          2,
          3,
          4,
          5,
          6,
          7,
          8
         ],
         "hovertemplate": "%{y}[%{customdata}] = %{marker.color}<extra></extra>",
         "marker": {
          "color": [
           "rgb(255,247,251)",
           "rgb(236,226,240)",
           "rgb(208,209,230)",
           "rgb(166,189,219)",
           "rgb(103,169,207)",
           "rgb(54,144,192)",
           "rgb(2,129,138)",
           "rgb(1,108,89)",
           "rgb(1,70,54)"
          ]
         },
         "orientation": "h",
         "type": "bar",
         "x": [
          1,
          1,
          1,
          1,
          1,
          1,
          1,
          1,
          1
         ],
         "y": [
          "PuBuGn",
          "PuBuGn",
          "PuBuGn",
          "PuBuGn",
          "PuBuGn",
          "PuBuGn",
          "PuBuGn",
          "PuBuGn",
          "PuBuGn"
         ]
        },
        {
         "customdata": [
          0,
          1,
          2,
          3,
          4,
          5,
          6,
          7,
          8
         ],
         "hovertemplate": "%{y}[%{customdata}] = %{marker.color}<extra></extra>",
         "marker": {
          "color": [
           "rgb(255,247,251)",
           "rgb(236,231,242)",
           "rgb(208,209,230)",
           "rgb(166,189,219)",
           "rgb(116,169,207)",
           "rgb(54,144,192)",
           "rgb(5,112,176)",
           "rgb(4,90,141)",
           "rgb(2,56,88)"
          ]
         },
         "orientation": "h",
         "type": "bar",
         "x": [
          1,
          1,
          1,
          1,
          1,
          1,
          1,
          1,
          1
         ],
         "y": [
          "PuBu",
          "PuBu",
          "PuBu",
          "PuBu",
          "PuBu",
          "PuBu",
          "PuBu",
          "PuBu",
          "PuBu"
         ]
        },
        {
         "customdata": [
          0,
          1,
          2,
          3,
          4,
          5,
          6,
          7,
          8
         ],
         "hovertemplate": "%{y}[%{customdata}] = %{marker.color}<extra></extra>",
         "marker": {
          "color": [
           "rgb(255,245,235)",
           "rgb(254,230,206)",
           "rgb(253,208,162)",
           "rgb(253,174,107)",
           "rgb(253,141,60)",
           "rgb(241,105,19)",
           "rgb(217,72,1)",
           "rgb(166,54,3)",
           "rgb(127,39,4)"
          ]
         },
         "orientation": "h",
         "type": "bar",
         "x": [
          1,
          1,
          1,
          1,
          1,
          1,
          1,
          1,
          1
         ],
         "y": [
          "Oranges",
          "Oranges",
          "Oranges",
          "Oranges",
          "Oranges",
          "Oranges",
          "Oranges",
          "Oranges",
          "Oranges"
         ]
        },
        {
         "customdata": [
          0,
          1,
          2,
          3,
          4,
          5,
          6,
          7,
          8
         ],
         "hovertemplate": "%{y}[%{customdata}] = %{marker.color}<extra></extra>",
         "marker": {
          "color": [
           "rgb(255,247,236)",
           "rgb(254,232,200)",
           "rgb(253,212,158)",
           "rgb(253,187,132)",
           "rgb(252,141,89)",
           "rgb(239,101,72)",
           "rgb(215,48,31)",
           "rgb(179,0,0)",
           "rgb(127,0,0)"
          ]
         },
         "orientation": "h",
         "type": "bar",
         "x": [
          1,
          1,
          1,
          1,
          1,
          1,
          1,
          1,
          1
         ],
         "y": [
          "OrRd",
          "OrRd",
          "OrRd",
          "OrRd",
          "OrRd",
          "OrRd",
          "OrRd",
          "OrRd",
          "OrRd"
         ]
        },
        {
         "customdata": [
          0,
          1,
          2,
          3,
          4,
          5,
          6,
          7,
          8
         ],
         "hovertemplate": "%{y}[%{customdata}] = %{marker.color}<extra></extra>",
         "marker": {
          "color": [
           "rgb(255,255,255)",
           "rgb(240,240,240)",
           "rgb(217,217,217)",
           "rgb(189,189,189)",
           "rgb(150,150,150)",
           "rgb(115,115,115)",
           "rgb(82,82,82)",
           "rgb(37,37,37)",
           "rgb(0, 0, 0)"
          ]
         },
         "orientation": "h",
         "type": "bar",
         "x": [
          1,
          1,
          1,
          1,
          1,
          1,
          1,
          1,
          1
         ],
         "y": [
          "Greys",
          "Greys",
          "Greys",
          "Greys",
          "Greys",
          "Greys",
          "Greys",
          "Greys",
          "Greys"
         ]
        },
        {
         "customdata": [
          0,
          1,
          2,
          3,
          4,
          5,
          6,
          7,
          8
         ],
         "hovertemplate": "%{y}[%{customdata}] = %{marker.color}<extra></extra>",
         "marker": {
          "color": [
           "rgb(247,252,245)",
           "rgb(229,245,224)",
           "rgb(199,233,192)",
           "rgb(161,217,155)",
           "rgb(116,196,118)",
           "rgb(65,171,93)",
           "rgb(35,139,69)",
           "rgb(0,109,44)",
           "rgb(0,68,27)"
          ]
         },
         "orientation": "h",
         "type": "bar",
         "x": [
          1,
          1,
          1,
          1,
          1,
          1,
          1,
          1,
          1
         ],
         "y": [
          "Greens",
          "Greens",
          "Greens",
          "Greens",
          "Greens",
          "Greens",
          "Greens",
          "Greens",
          "Greens"
         ]
        },
        {
         "customdata": [
          0,
          1,
          2,
          3,
          4,
          5,
          6,
          7,
          8
         ],
         "hovertemplate": "%{y}[%{customdata}] = %{marker.color}<extra></extra>",
         "marker": {
          "color": [
           "rgb(247,252,240)",
           "rgb(224,243,219)",
           "rgb(204,235,197)",
           "rgb(168,221,181)",
           "rgb(123,204,196)",
           "rgb(78,179,211)",
           "rgb(43,140,190)",
           "rgb(8,104,172)",
           "rgb(8,64,129)"
          ]
         },
         "orientation": "h",
         "type": "bar",
         "x": [
          1,
          1,
          1,
          1,
          1,
          1,
          1,
          1,
          1
         ],
         "y": [
          "GnBu",
          "GnBu",
          "GnBu",
          "GnBu",
          "GnBu",
          "GnBu",
          "GnBu",
          "GnBu",
          "GnBu"
         ]
        },
        {
         "customdata": [
          0,
          1,
          2,
          3,
          4,
          5,
          6,
          7,
          8
         ],
         "hovertemplate": "%{y}[%{customdata}] = %{marker.color}<extra></extra>",
         "marker": {
          "color": [
           "rgb(247,252,253)",
           "rgb(224,236,244)",
           "rgb(191,211,230)",
           "rgb(158,188,218)",
           "rgb(140,150,198)",
           "rgb(140,107,177)",
           "rgb(136,65,157)",
           "rgb(129,15,124)",
           "rgb(77,0,75)"
          ]
         },
         "orientation": "h",
         "type": "bar",
         "x": [
          1,
          1,
          1,
          1,
          1,
          1,
          1,
          1,
          1
         ],
         "y": [
          "BuPu",
          "BuPu",
          "BuPu",
          "BuPu",
          "BuPu",
          "BuPu",
          "BuPu",
          "BuPu",
          "BuPu"
         ]
        },
        {
         "customdata": [
          0,
          1,
          2,
          3,
          4,
          5,
          6,
          7,
          8
         ],
         "hovertemplate": "%{y}[%{customdata}] = %{marker.color}<extra></extra>",
         "marker": {
          "color": [
           "rgb(247,252,253)",
           "rgb(229,245,249)",
           "rgb(204,236,230)",
           "rgb(153,216,201)",
           "rgb(102,194,164)",
           "rgb(65,174,118)",
           "rgb(35,139,69)",
           "rgb(0,109,44)",
           "rgb(0,68,27)"
          ]
         },
         "orientation": "h",
         "type": "bar",
         "x": [
          1,
          1,
          1,
          1,
          1,
          1,
          1,
          1,
          1
         ],
         "y": [
          "BuGn",
          "BuGn",
          "BuGn",
          "BuGn",
          "BuGn",
          "BuGn",
          "BuGn",
          "BuGn",
          "BuGn"
         ]
        },
        {
         "customdata": [
          0,
          1,
          2,
          3,
          4,
          5,
          6,
          7,
          8
         ],
         "hovertemplate": "%{y}[%{customdata}] = %{marker.color}<extra></extra>",
         "marker": {
          "color": [
           "rgb(247,251,255)",
           "rgb(222,235,247)",
           "rgb(198,219,239)",
           "rgb(158,202,225)",
           "rgb(107,174,214)",
           "rgb(66,146,198)",
           "rgb(33,113,181)",
           "rgb(8,81,156)",
           "rgb(8,48,107)"
          ]
         },
         "orientation": "h",
         "type": "bar",
         "x": [
          1,
          1,
          1,
          1,
          1,
          1,
          1,
          1,
          1
         ],
         "y": [
          "Blues",
          "Blues",
          "Blues",
          "Blues",
          "Blues",
          "Blues",
          "Blues",
          "Blues",
          "Blues"
         ]
        },
        {
         "customdata": [
          0,
          1,
          2,
          3,
          4,
          5,
          6,
          7,
          8
         ],
         "hovertemplate": "%{y}[%{customdata}] = %{marker.color}<extra></extra>",
         "marker": {
          "color": [
           "rgb(150,0,90)",
           "rgb(0,0,200)",
           "rgb(0,25,255)",
           "rgb(0,152,255)",
           "rgb(44,255,150)",
           "rgb(151,255,0)",
           "rgb(255,234,0)",
           "rgb(255,111,0)",
           "rgb(255,0,0)"
          ]
         },
         "orientation": "h",
         "type": "bar",
         "x": [
          1,
          1,
          1,
          1,
          1,
          1,
          1,
          1,
          1
         ],
         "y": [
          "Rainbow",
          "Rainbow",
          "Rainbow",
          "Rainbow",
          "Rainbow",
          "Rainbow",
          "Rainbow",
          "Rainbow",
          "Rainbow"
         ]
        },
        {
         "customdata": [
          0,
          1,
          2,
          3,
          4,
          5
         ],
         "hovertemplate": "%{y}[%{customdata}] = %{marker.color}<extra></extra>",
         "marker": {
          "color": [
           "rgb(0,0,131)",
           "rgb(0,60,170)",
           "rgb(5,255,255)",
           "rgb(255,255,0)",
           "rgb(250,0,0)",
           "rgb(128,0,0)"
          ]
         },
         "orientation": "h",
         "type": "bar",
         "x": [
          1,
          1,
          1,
          1,
          1,
          1
         ],
         "y": [
          "Jet",
          "Jet",
          "Jet",
          "Jet",
          "Jet",
          "Jet"
         ]
        },
        {
         "customdata": [
          0,
          1,
          2,
          3
         ],
         "hovertemplate": "%{y}[%{customdata}] = %{marker.color}<extra></extra>",
         "marker": {
          "color": [
           "rgb(0, 0, 0)",
           "rgb(230,0,0)",
           "rgb(255,210,0)",
           "rgb(255,255,255)"
          ]
         },
         "orientation": "h",
         "type": "bar",
         "x": [
          1,
          1,
          1,
          1
         ],
         "y": [
          "Hot",
          "Hot",
          "Hot",
          "Hot"
         ]
        },
        {
         "customdata": [
          0,
          1,
          2,
          3,
          4,
          5
         ],
         "hovertemplate": "%{y}[%{customdata}] = %{marker.color}<extra></extra>",
         "marker": {
          "color": [
           "rgb(0, 0, 0)",
           "rgb(30,0,100)",
           "rgb(120,0,100)",
           "rgb(160,90,0)",
           "rgb(230,200,0)",
           "rgb(255,250,220)"
          ]
         },
         "orientation": "h",
         "type": "bar",
         "x": [
          1,
          1,
          1,
          1,
          1,
          1
         ],
         "y": [
          "Electric",
          "Electric",
          "Electric",
          "Electric",
          "Electric",
          "Electric"
         ]
        },
        {
         "customdata": [
          0,
          1
         ],
         "hovertemplate": "%{y}[%{customdata}] = %{marker.color}<extra></extra>",
         "marker": {
          "color": [
           "rgb(0,0,255)",
           "rgb(255,0,0)"
          ]
         },
         "orientation": "h",
         "type": "bar",
         "x": [
          1,
          1
         ],
         "y": [
          "Bluered",
          "Bluered"
         ]
        },
        {
         "customdata": [
          0,
          1,
          2,
          3,
          4
         ],
         "hovertemplate": "%{y}[%{customdata}] = %{marker.color}<extra></extra>",
         "marker": {
          "color": [
           "rgb(0, 0, 0)",
           "rgb(230,0,0)",
           "rgb(230,210,0)",
           "rgb(255,255,255)",
           "rgb(160,200,255)"
          ]
         },
         "orientation": "h",
         "type": "bar",
         "x": [
          1,
          1,
          1,
          1,
          1
         ],
         "y": [
          "Blackbody",
          "Blackbody",
          "Blackbody",
          "Blackbody",
          "Blackbody"
         ]
        },
        {
         "customdata": [
          0,
          1,
          2,
          3,
          4,
          5,
          6,
          7,
          8,
          9
         ],
         "hovertemplate": "%{y}[%{customdata}] = %{marker.color}<extra></extra>",
         "marker": {
          "color": [
           "#0d0887",
           "#46039f",
           "#7201a8",
           "#9c179e",
           "#bd3786",
           "#d8576b",
           "#ed7953",
           "#fb9f3a",
           "#fdca26",
           "#f0f921"
          ]
         },
         "orientation": "h",
         "type": "bar",
         "x": [
          1,
          1,
          1,
          1,
          1,
          1,
          1,
          1,
          1,
          1
         ],
         "y": [
          "Plasma",
          "Plasma",
          "Plasma",
          "Plasma",
          "Plasma",
          "Plasma",
          "Plasma",
          "Plasma",
          "Plasma",
          "Plasma"
         ]
        },
        {
         "customdata": [
          0,
          1,
          2,
          3,
          4,
          5,
          6,
          7,
          8,
          9
         ],
         "hovertemplate": "%{y}[%{customdata}] = %{marker.color}<extra></extra>",
         "marker": {
          "color": [
           "#000004",
           "#180f3d",
           "#440f76",
           "#721f81",
           "#9e2f7f",
           "#cd4071",
           "#f1605d",
           "#fd9668",
           "#feca8d",
           "#fcfdbf"
          ]
         },
         "orientation": "h",
         "type": "bar",
         "x": [
          1,
          1,
          1,
          1,
          1,
          1,
          1,
          1,
          1,
          1
         ],
         "y": [
          "Magma",
          "Magma",
          "Magma",
          "Magma",
          "Magma",
          "Magma",
          "Magma",
          "Magma",
          "Magma",
          "Magma"
         ]
        },
        {
         "customdata": [
          0,
          1,
          2,
          3,
          4,
          5,
          6,
          7,
          8,
          9
         ],
         "hovertemplate": "%{y}[%{customdata}] = %{marker.color}<extra></extra>",
         "marker": {
          "color": [
           "#000004",
           "#1b0c41",
           "#4a0c6b",
           "#781c6d",
           "#a52c60",
           "#cf4446",
           "#ed6925",
           "#fb9b06",
           "#f7d13d",
           "#fcffa4"
          ]
         },
         "orientation": "h",
         "type": "bar",
         "x": [
          1,
          1,
          1,
          1,
          1,
          1,
          1,
          1,
          1,
          1
         ],
         "y": [
          "Inferno",
          "Inferno",
          "Inferno",
          "Inferno",
          "Inferno",
          "Inferno",
          "Inferno",
          "Inferno",
          "Inferno",
          "Inferno"
         ]
        },
        {
         "customdata": [
          0,
          1,
          2,
          3,
          4,
          5,
          6,
          7,
          8,
          9
         ],
         "hovertemplate": "%{y}[%{customdata}] = %{marker.color}<extra></extra>",
         "marker": {
          "color": [
           "#00224e",
           "#123570",
           "#3b496c",
           "#575d6d",
           "#707173",
           "#8a8678",
           "#a59c74",
           "#c3b369",
           "#e1cc55",
           "#fee838"
          ]
         },
         "orientation": "h",
         "type": "bar",
         "x": [
          1,
          1,
          1,
          1,
          1,
          1,
          1,
          1,
          1,
          1
         ],
         "y": [
          "Cividis",
          "Cividis",
          "Cividis",
          "Cividis",
          "Cividis",
          "Cividis",
          "Cividis",
          "Cividis",
          "Cividis",
          "Cividis"
         ]
        },
        {
         "customdata": [
          0,
          1,
          2,
          3,
          4,
          5,
          6,
          7,
          8,
          9
         ],
         "hovertemplate": "%{y}[%{customdata}] = %{marker.color}<extra></extra>",
         "marker": {
          "color": [
           "#440154",
           "#482878",
           "#3e4989",
           "#31688e",
           "#26828e",
           "#1f9e89",
           "#35b779",
           "#6ece58",
           "#b5de2b",
           "#fde725"
          ]
         },
         "orientation": "h",
         "type": "bar",
         "x": [
          1,
          1,
          1,
          1,
          1,
          1,
          1,
          1,
          1,
          1
         ],
         "y": [
          "Viridis",
          "Viridis",
          "Viridis",
          "Viridis",
          "Viridis",
          "Viridis",
          "Viridis",
          "Viridis",
          "Viridis",
          "Viridis"
         ]
        },
        {
         "customdata": [
          0,
          1,
          2,
          3,
          4,
          5,
          6,
          7,
          8,
          9,
          10,
          11,
          12
         ],
         "hovertemplate": "%{y}[%{customdata}] = %{marker.color}<extra></extra>",
         "marker": {
          "color": [
           "#0508b8",
           "#1910d8",
           "#3c19f0",
           "#6b1cfb",
           "#981cfd",
           "#bf1cfd",
           "#dd2bfd",
           "#f246fe",
           "#fc67fd",
           "#fe88fc",
           "#fea5fd",
           "#febefe",
           "#fec3fe"
          ]
         },
         "orientation": "h",
         "type": "bar",
         "x": [
          1,
          1,
          1,
          1,
          1,
          1,
          1,
          1,
          1,
          1,
          1,
          1,
          1
         ],
         "y": [
          "Plotly3",
          "Plotly3",
          "Plotly3",
          "Plotly3",
          "Plotly3",
          "Plotly3",
          "Plotly3",
          "Plotly3",
          "Plotly3",
          "Plotly3",
          "Plotly3",
          "Plotly3",
          "Plotly3"
         ]
        }
       ],
       "layout": {
        "autosize": true,
        "bargap": 0.5,
        "barmode": "stack",
        "barnorm": "fraction",
        "margin": {
         "b": 10
        },
        "showlegend": false,
        "template": {
         "data": {
          "bar": [
           {
            "error_x": {
             "color": "#2a3f5f"
            },
            "error_y": {
             "color": "#2a3f5f"
            },
            "marker": {
             "line": {
              "color": "#E5ECF6",
              "width": 0.5
             }
            },
            "type": "bar"
           }
          ],
          "barpolar": [
           {
            "marker": {
             "line": {
              "color": "#E5ECF6",
              "width": 0.5
             }
            },
            "type": "barpolar"
           }
          ],
          "carpet": [
           {
            "aaxis": {
             "endlinecolor": "#2a3f5f",
             "gridcolor": "white",
             "linecolor": "white",
             "minorgridcolor": "white",
             "startlinecolor": "#2a3f5f"
            },
            "baxis": {
             "endlinecolor": "#2a3f5f",
             "gridcolor": "white",
             "linecolor": "white",
             "minorgridcolor": "white",
             "startlinecolor": "#2a3f5f"
            },
            "type": "carpet"
           }
          ],
          "choropleth": [
           {
            "colorbar": {
             "outlinewidth": 0,
             "ticks": ""
            },
            "type": "choropleth"
           }
          ],
          "contour": [
           {
            "colorbar": {
             "outlinewidth": 0,
             "ticks": ""
            },
            "colorscale": [
             [
              0,
              "#0d0887"
             ],
             [
              0.1111111111111111,
              "#46039f"
             ],
             [
              0.2222222222222222,
              "#7201a8"
             ],
             [
              0.3333333333333333,
              "#9c179e"
             ],
             [
              0.4444444444444444,
              "#bd3786"
             ],
             [
              0.5555555555555556,
              "#d8576b"
             ],
             [
              0.6666666666666666,
              "#ed7953"
             ],
             [
              0.7777777777777778,
              "#fb9f3a"
             ],
             [
              0.8888888888888888,
              "#fdca26"
             ],
             [
              1,
              "#f0f921"
             ]
            ],
            "type": "contour"
           }
          ],
          "contourcarpet": [
           {
            "colorbar": {
             "outlinewidth": 0,
             "ticks": ""
            },
            "type": "contourcarpet"
           }
          ],
          "heatmap": [
           {
            "colorbar": {
             "outlinewidth": 0,
             "ticks": ""
            },
            "colorscale": [
             [
              0,
              "#0d0887"
             ],
             [
              0.1111111111111111,
              "#46039f"
             ],
             [
              0.2222222222222222,
              "#7201a8"
             ],
             [
              0.3333333333333333,
              "#9c179e"
             ],
             [
              0.4444444444444444,
              "#bd3786"
             ],
             [
              0.5555555555555556,
              "#d8576b"
             ],
             [
              0.6666666666666666,
              "#ed7953"
             ],
             [
              0.7777777777777778,
              "#fb9f3a"
             ],
             [
              0.8888888888888888,
              "#fdca26"
             ],
             [
              1,
              "#f0f921"
             ]
            ],
            "type": "heatmap"
           }
          ],
          "heatmapgl": [
           {
            "colorbar": {
             "outlinewidth": 0,
             "ticks": ""
            },
            "colorscale": [
             [
              0,
              "#0d0887"
             ],
             [
              0.1111111111111111,
              "#46039f"
             ],
             [
              0.2222222222222222,
              "#7201a8"
             ],
             [
              0.3333333333333333,
              "#9c179e"
             ],
             [
              0.4444444444444444,
              "#bd3786"
             ],
             [
              0.5555555555555556,
              "#d8576b"
             ],
             [
              0.6666666666666666,
              "#ed7953"
             ],
             [
              0.7777777777777778,
              "#fb9f3a"
             ],
             [
              0.8888888888888888,
              "#fdca26"
             ],
             [
              1,
              "#f0f921"
             ]
            ],
            "type": "heatmapgl"
           }
          ],
          "histogram": [
           {
            "marker": {
             "colorbar": {
              "outlinewidth": 0,
              "ticks": ""
             }
            },
            "type": "histogram"
           }
          ],
          "histogram2d": [
           {
            "colorbar": {
             "outlinewidth": 0,
             "ticks": ""
            },
            "colorscale": [
             [
              0,
              "#0d0887"
             ],
             [
              0.1111111111111111,
              "#46039f"
             ],
             [
              0.2222222222222222,
              "#7201a8"
             ],
             [
              0.3333333333333333,
              "#9c179e"
             ],
             [
              0.4444444444444444,
              "#bd3786"
             ],
             [
              0.5555555555555556,
              "#d8576b"
             ],
             [
              0.6666666666666666,
              "#ed7953"
             ],
             [
              0.7777777777777778,
              "#fb9f3a"
             ],
             [
              0.8888888888888888,
              "#fdca26"
             ],
             [
              1,
              "#f0f921"
             ]
            ],
            "type": "histogram2d"
           }
          ],
          "histogram2dcontour": [
           {
            "colorbar": {
             "outlinewidth": 0,
             "ticks": ""
            },
            "colorscale": [
             [
              0,
              "#0d0887"
             ],
             [
              0.1111111111111111,
              "#46039f"
             ],
             [
              0.2222222222222222,
              "#7201a8"
             ],
             [
              0.3333333333333333,
              "#9c179e"
             ],
             [
              0.4444444444444444,
              "#bd3786"
             ],
             [
              0.5555555555555556,
              "#d8576b"
             ],
             [
              0.6666666666666666,
              "#ed7953"
             ],
             [
              0.7777777777777778,
              "#fb9f3a"
             ],
             [
              0.8888888888888888,
              "#fdca26"
             ],
             [
              1,
              "#f0f921"
             ]
            ],
            "type": "histogram2dcontour"
           }
          ],
          "mesh3d": [
           {
            "colorbar": {
             "outlinewidth": 0,
             "ticks": ""
            },
            "type": "mesh3d"
           }
          ],
          "parcoords": [
           {
            "line": {
             "colorbar": {
              "outlinewidth": 0,
              "ticks": ""
             }
            },
            "type": "parcoords"
           }
          ],
          "pie": [
           {
            "automargin": true,
            "type": "pie"
           }
          ],
          "scatter": [
           {
            "marker": {
             "colorbar": {
              "outlinewidth": 0,
              "ticks": ""
             }
            },
            "type": "scatter"
           }
          ],
          "scatter3d": [
           {
            "line": {
             "colorbar": {
              "outlinewidth": 0,
              "ticks": ""
             }
            },
            "marker": {
             "colorbar": {
              "outlinewidth": 0,
              "ticks": ""
             }
            },
            "type": "scatter3d"
           }
          ],
          "scattercarpet": [
           {
            "marker": {
             "colorbar": {
              "outlinewidth": 0,
              "ticks": ""
             }
            },
            "type": "scattercarpet"
           }
          ],
          "scattergeo": [
           {
            "marker": {
             "colorbar": {
              "outlinewidth": 0,
              "ticks": ""
             }
            },
            "type": "scattergeo"
           }
          ],
          "scattergl": [
           {
            "marker": {
             "colorbar": {
              "outlinewidth": 0,
              "ticks": ""
             }
            },
            "type": "scattergl"
           }
          ],
          "scattermapbox": [
           {
            "marker": {
             "colorbar": {
              "outlinewidth": 0,
              "ticks": ""
             }
            },
            "type": "scattermapbox"
           }
          ],
          "scatterpolar": [
           {
            "marker": {
             "colorbar": {
              "outlinewidth": 0,
              "ticks": ""
             }
            },
            "type": "scatterpolar"
           }
          ],
          "scatterpolargl": [
           {
            "marker": {
             "colorbar": {
              "outlinewidth": 0,
              "ticks": ""
             }
            },
            "type": "scatterpolargl"
           }
          ],
          "scatterternary": [
           {
            "marker": {
             "colorbar": {
              "outlinewidth": 0,
              "ticks": ""
             }
            },
            "type": "scatterternary"
           }
          ],
          "surface": [
           {
            "colorbar": {
             "outlinewidth": 0,
             "ticks": ""
            },
            "colorscale": [
             [
              0,
              "#0d0887"
             ],
             [
              0.1111111111111111,
              "#46039f"
             ],
             [
              0.2222222222222222,
              "#7201a8"
             ],
             [
              0.3333333333333333,
              "#9c179e"
             ],
             [
              0.4444444444444444,
              "#bd3786"
             ],
             [
              0.5555555555555556,
              "#d8576b"
             ],
             [
              0.6666666666666666,
              "#ed7953"
             ],
             [
              0.7777777777777778,
              "#fb9f3a"
             ],
             [
              0.8888888888888888,
              "#fdca26"
             ],
             [
              1,
              "#f0f921"
             ]
            ],
            "type": "surface"
           }
          ],
          "table": [
           {
            "cells": {
             "fill": {
              "color": "#EBF0F8"
             },
             "line": {
              "color": "white"
             }
            },
            "header": {
             "fill": {
              "color": "#C8D4E3"
             },
             "line": {
              "color": "white"
             }
            },
            "type": "table"
           }
          ]
         },
         "layout": {
          "annotationdefaults": {
           "arrowcolor": "#2a3f5f",
           "arrowhead": 0,
           "arrowwidth": 1
          },
          "coloraxis": {
           "colorbar": {
            "outlinewidth": 0,
            "ticks": ""
           }
          },
          "colorscale": {
           "diverging": [
            [
             0,
             "#8e0152"
            ],
            [
             0.1,
             "#c51b7d"
            ],
            [
             0.2,
             "#de77ae"
            ],
            [
             0.3,
             "#f1b6da"
            ],
            [
             0.4,
             "#fde0ef"
            ],
            [
             0.5,
             "#f7f7f7"
            ],
            [
             0.6,
             "#e6f5d0"
            ],
            [
             0.7,
             "#b8e186"
            ],
            [
             0.8,
             "#7fbc41"
            ],
            [
             0.9,
             "#4d9221"
            ],
            [
             1,
             "#276419"
            ]
           ],
           "sequential": [
            [
             0,
             "#0d0887"
            ],
            [
             0.1111111111111111,
             "#46039f"
            ],
            [
             0.2222222222222222,
             "#7201a8"
            ],
            [
             0.3333333333333333,
             "#9c179e"
            ],
            [
             0.4444444444444444,
             "#bd3786"
            ],
            [
             0.5555555555555556,
             "#d8576b"
            ],
            [
             0.6666666666666666,
             "#ed7953"
            ],
            [
             0.7777777777777778,
             "#fb9f3a"
            ],
            [
             0.8888888888888888,
             "#fdca26"
            ],
            [
             1,
             "#f0f921"
            ]
           ],
           "sequentialminus": [
            [
             0,
             "#0d0887"
            ],
            [
             0.1111111111111111,
             "#46039f"
            ],
            [
             0.2222222222222222,
             "#7201a8"
            ],
            [
             0.3333333333333333,
             "#9c179e"
            ],
            [
             0.4444444444444444,
             "#bd3786"
            ],
            [
             0.5555555555555556,
             "#d8576b"
            ],
            [
             0.6666666666666666,
             "#ed7953"
            ],
            [
             0.7777777777777778,
             "#fb9f3a"
            ],
            [
             0.8888888888888888,
             "#fdca26"
            ],
            [
             1,
             "#f0f921"
            ]
           ]
          },
          "colorway": [
           "#636efa",
           "#EF553B",
           "#00cc96",
           "#ab63fa",
           "#FFA15A",
           "#19d3f3",
           "#FF6692",
           "#B6E880",
           "#FF97FF",
           "#FECB52"
          ],
          "font": {
           "color": "#2a3f5f"
          },
          "geo": {
           "bgcolor": "white",
           "lakecolor": "white",
           "landcolor": "#E5ECF6",
           "showlakes": true,
           "showland": true,
           "subunitcolor": "white"
          },
          "hoverlabel": {
           "align": "left"
          },
          "hovermode": "closest",
          "mapbox": {
           "style": "light"
          },
          "paper_bgcolor": "white",
          "plot_bgcolor": "#E5ECF6",
          "polar": {
           "angularaxis": {
            "gridcolor": "white",
            "linecolor": "white",
            "ticks": ""
           },
           "bgcolor": "#E5ECF6",
           "radialaxis": {
            "gridcolor": "white",
            "linecolor": "white",
            "ticks": ""
           }
          },
          "scene": {
           "xaxis": {
            "backgroundcolor": "#E5ECF6",
            "gridcolor": "white",
            "gridwidth": 2,
            "linecolor": "white",
            "showbackground": true,
            "ticks": "",
            "zerolinecolor": "white"
           },
           "yaxis": {
            "backgroundcolor": "#E5ECF6",
            "gridcolor": "white",
            "gridwidth": 2,
            "linecolor": "white",
            "showbackground": true,
            "ticks": "",
            "zerolinecolor": "white"
           },
           "zaxis": {
            "backgroundcolor": "#E5ECF6",
            "gridcolor": "white",
            "gridwidth": 2,
            "linecolor": "white",
            "showbackground": true,
            "ticks": "",
            "zerolinecolor": "white"
           }
          },
          "shapedefaults": {
           "line": {
            "color": "#2a3f5f"
           }
          },
          "ternary": {
           "aaxis": {
            "gridcolor": "white",
            "linecolor": "white",
            "ticks": ""
           },
           "baxis": {
            "gridcolor": "white",
            "linecolor": "white",
            "ticks": ""
           },
           "bgcolor": "#E5ECF6",
           "caxis": {
            "gridcolor": "white",
            "linecolor": "white",
            "ticks": ""
           }
          },
          "title": {
           "x": 0.05
          },
          "xaxis": {
           "automargin": true,
           "gridcolor": "white",
           "linecolor": "white",
           "ticks": "",
           "title": {
            "standoff": 15
           },
           "zerolinecolor": "white",
           "zerolinewidth": 2
          },
          "yaxis": {
           "automargin": true,
           "gridcolor": "white",
           "linecolor": "white",
           "ticks": "",
           "title": {
            "standoff": 15
           },
           "zerolinecolor": "white",
           "zerolinewidth": 2
          }
         }
        },
        "title": {
         "text": "plotly.colors.sequential"
        },
        "xaxis": {
         "range": [
          -0.02,
          1.02
         ],
         "showgrid": false,
         "showticklabels": false,
         "type": "linear"
        },
        "yaxis": {
         "autorange": true,
         "range": [
          -0.5,
          64.5
         ],
         "type": "category"
        }
       }
      },
      "image/png": "[encoded data removed]",
      "text/html": [
       "<div>                            <div id=\"1f8b5862-95a7-4522-834f-87943cb7f4f0\" class=\"plotly-graph-div\" style=\"height:2600px; width:100%;\"></div>            <script type=\"text/javascript\">                require([\"plotly\"], function(Plotly) {                    window.PLOTLYENV=window.PLOTLYENV || {};                                    if (document.getElementById(\"1f8b5862-95a7-4522-834f-87943cb7f4f0\")) {                    Plotly.newPlot(                        \"1f8b5862-95a7-4522-834f-87943cb7f4f0\",                        [{\"customdata\": [0, 1, 2, 3, 4, 5, 6], \"hovertemplate\": \"%{y}[%{customdata}] = %{marker.color}<extra></extra>\", \"marker\": {\"color\": [\"rgb(237, 229, 207)\", \"rgb(224, 194, 162)\", \"rgb(211, 156, 131)\", \"rgb(193, 118, 111)\", \"rgb(166, 84, 97)\", \"rgb(129, 55, 83)\", \"rgb(84, 31, 63)\"]}, \"orientation\": \"h\", \"type\": \"bar\", \"x\": [1, 1, 1, 1, 1, 1, 1], \"y\": [\"Brwnyl\", \"Brwnyl\", \"Brwnyl\", \"Brwnyl\", \"Brwnyl\", \"Brwnyl\", \"Brwnyl\"]}, {\"customdata\": [0, 1, 2, 3, 4, 5, 6], \"hovertemplate\": \"%{y}[%{customdata}] = %{marker.color}<extra></extra>\", \"marker\": {\"color\": [\"rgb(75, 41, 145)\", \"rgb(135, 44, 162)\", \"rgb(192, 54, 157)\", \"rgb(234, 79, 136)\", \"rgb(250, 120, 118)\", \"rgb(246, 169, 122)\", \"rgb(237, 217, 163)\"]}, \"orientation\": \"h\", \"type\": \"bar\", \"x\": [1, 1, 1, 1, 1, 1, 1], \"y\": [\"Agsunset\", \"Agsunset\", \"Agsunset\", \"Agsunset\", \"Agsunset\", \"Agsunset\", \"Agsunset\"]}, {\"customdata\": [0, 1, 2, 3, 4, 5, 6], \"hovertemplate\": \"%{y}[%{customdata}] = %{marker.color}<extra></extra>\", \"marker\": {\"color\": [\"rgb(252, 222, 156)\", \"rgb(250, 164, 118)\", \"rgb(240, 116, 110)\", \"rgb(227, 79, 111)\", \"rgb(220, 57, 119)\", \"rgb(185, 37, 122)\", \"rgb(124, 29, 111)\"]}, \"orientation\": \"h\", \"type\": \"bar\", \"x\": [1, 1, 1, 1, 1, 1, 1], \"y\": [\"Sunsetdark\", \"Sunsetdark\", \"Sunsetdark\", \"Sunsetdark\", \"Sunsetdark\", \"Sunsetdark\", \"Sunsetdark\"]}, {\"customdata\": [0, 1, 2, 3, 4, 5, 6], \"hovertemplate\": \"%{y}[%{customdata}] = %{marker.color}<extra></extra>\", \"marker\": {\"color\": [\"rgb(243, 203, 211)\", \"rgb(234, 169, 189)\", \"rgb(221, 136, 172)\", \"rgb(202, 105, 157)\", \"rgb(177, 77, 142)\", \"rgb(145, 53, 125)\", \"rgb(108, 33, 103)\"]}, \"orientation\": \"h\", \"type\": \"bar\", \"x\": [1, 1, 1, 1, 1, 1, 1], \"y\": [\"Magenta\", \"Magenta\", \"Magenta\", \"Magenta\", \"Magenta\", \"Magenta\", \"Magenta\"]}, {\"customdata\": [0, 1, 2, 3, 4, 5, 6], \"hovertemplate\": \"%{y}[%{customdata}] = %{marker.color}<extra></extra>\", \"marker\": {\"color\": [\"rgb(243, 231, 155)\", \"rgb(250, 196, 132)\", \"rgb(248, 160, 126)\", \"rgb(235, 127, 134)\", \"rgb(206, 102, 147)\", \"rgb(160, 89, 160)\", \"rgb(92, 83, 165)\"]}, \"orientation\": \"h\", \"type\": \"bar\", \"x\": [1, 1, 1, 1, 1, 1, 1], \"y\": [\"Sunset\", \"Sunset\", \"Sunset\", \"Sunset\", \"Sunset\", \"Sunset\", \"Sunset\"]}, {\"customdata\": [0, 1, 2, 3, 4, 5, 6], \"hovertemplate\": \"%{y}[%{customdata}] = %{marker.color}<extra></extra>\", \"marker\": {\"color\": [\"rgb(249, 221, 218)\", \"rgb(242, 185, 196)\", \"rgb(229, 151, 185)\", \"rgb(206, 120, 179)\", \"rgb(173, 95, 173)\", \"rgb(131, 75, 160)\", \"rgb(87, 59, 136)\"]}, \"orientation\": \"h\", \"type\": \"bar\", \"x\": [1, 1, 1, 1, 1, 1, 1], \"y\": [\"Purpor\", \"Purpor\", \"Purpor\", \"Purpor\", \"Purpor\", \"Purpor\", \"Purpor\"]}, {\"customdata\": [0, 1, 2, 3, 4, 5, 6], \"hovertemplate\": \"%{y}[%{customdata}] = %{marker.color}<extra></extra>\", \"marker\": {\"color\": [\"rgb(243, 224, 247)\", \"rgb(228, 199, 241)\", \"rgb(209, 175, 232)\", \"rgb(185, 152, 221)\", \"rgb(159, 130, 206)\", \"rgb(130, 109, 186)\", \"rgb(99, 88, 159)\"]}, \"orientation\": \"h\", \"type\": \"bar\", \"x\": [1, 1, 1, 1, 1, 1, 1], \"y\": [\"Purp\", \"Purp\", \"Purp\", \"Purp\", \"Purp\", \"Purp\", \"Purp\"]}, {\"customdata\": [0, 1, 2, 3, 4, 5, 6], \"hovertemplate\": \"%{y}[%{customdata}] = %{marker.color}<extra></extra>\", \"marker\": {\"color\": [\"rgb(176, 242, 188)\", \"rgb(137, 232, 172)\", \"rgb(103, 219, 165)\", \"rgb(76, 200, 163)\", \"rgb(56, 178, 163)\", \"rgb(44, 152, 160)\", \"rgb(37, 125, 152)\"]}, \"orientation\": \"h\", \"type\": \"bar\", \"x\": [1, 1, 1, 1, 1, 1, 1], \"y\": [\"Tealgrn\", \"Tealgrn\", \"Tealgrn\", \"Tealgrn\", \"Tealgrn\", \"Tealgrn\", \"Tealgrn\"]}, {\"customdata\": [0, 1, 2, 3, 4, 5, 6], \"hovertemplate\": \"%{y}[%{customdata}] = %{marker.color}<extra></extra>\", \"marker\": {\"color\": [\"rgb(209, 238, 234)\", \"rgb(168, 219, 217)\", \"rgb(133, 196, 201)\", \"rgb(104, 171, 184)\", \"rgb(79, 144, 166)\", \"rgb(59, 115, 143)\", \"rgb(42, 86, 116)\"]}, \"orientation\": \"h\", \"type\": \"bar\", \"x\": [1, 1, 1, 1, 1, 1, 1], \"y\": [\"Teal\", \"Teal\", \"Teal\", \"Teal\", \"Teal\", \"Teal\", \"Teal\"]}, {\"customdata\": [0, 1, 2, 3, 4, 5, 6], \"hovertemplate\": \"%{y}[%{customdata}] = %{marker.color}<extra></extra>\", \"marker\": {\"color\": [\"rgb(247, 254, 174)\", \"rgb(183, 230, 165)\", \"rgb(124, 203, 162)\", \"rgb(70, 174, 160)\", \"rgb(8, 144, 153)\", \"rgb(0, 113, 139)\", \"rgb(4, 82, 117)\"]}, \"orientation\": \"h\", \"type\": \"bar\", \"x\": [1, 1, 1, 1, 1, 1, 1], \"y\": [\"Bluyl\", \"Bluyl\", \"Bluyl\", \"Bluyl\", \"Bluyl\", \"Bluyl\", \"Bluyl\"]}, {\"customdata\": [0, 1, 2, 3, 4, 5, 6], \"hovertemplate\": \"%{y}[%{customdata}] = %{marker.color}<extra></extra>\", \"marker\": {\"color\": [\"rgb(36, 86, 104)\", \"rgb(15, 114, 121)\", \"rgb(13, 143, 129)\", \"rgb(57, 171, 126)\", \"rgb(110, 197, 116)\", \"rgb(169, 220, 103)\", \"rgb(237, 239, 93)\"]}, \"orientation\": \"h\", \"type\": \"bar\", \"x\": [1, 1, 1, 1, 1, 1, 1], \"y\": [\"Aggrnyl\", \"Aggrnyl\", \"Aggrnyl\", \"Aggrnyl\", \"Aggrnyl\", \"Aggrnyl\", \"Aggrnyl\"]}, {\"customdata\": [0, 1, 2, 3, 4, 5, 6], \"hovertemplate\": \"%{y}[%{customdata}] = %{marker.color}<extra></extra>\", \"marker\": {\"color\": [\"rgb(211, 242, 163)\", \"rgb(151, 225, 150)\", \"rgb(108, 192, 139)\", \"rgb(76, 155, 130)\", \"rgb(33, 122, 121)\", \"rgb(16, 89, 101)\", \"rgb(7, 64, 80)\"]}, \"orientation\": \"h\", \"type\": \"bar\", \"x\": [1, 1, 1, 1, 1, 1, 1], \"y\": [\"Emrld\", \"Emrld\", \"Emrld\", \"Emrld\", \"Emrld\", \"Emrld\", \"Emrld\"]}, {\"customdata\": [0, 1, 2, 3, 4, 5, 6], \"hovertemplate\": \"%{y}[%{customdata}] = %{marker.color}<extra></extra>\", \"marker\": {\"color\": [\"rgb(210, 251, 212)\", \"rgb(165, 219, 194)\", \"rgb(123, 188, 176)\", \"rgb(85, 156, 158)\", \"rgb(58, 124, 137)\", \"rgb(35, 93, 114)\", \"rgb(18, 63, 90)\"]}, \"orientation\": \"h\", \"type\": \"bar\", \"x\": [1, 1, 1, 1, 1, 1, 1], \"y\": [\"Darkmint\", \"Darkmint\", \"Darkmint\", \"Darkmint\", \"Darkmint\", \"Darkmint\", \"Darkmint\"]}, {\"customdata\": [0, 1, 2, 3, 4, 5, 6], \"hovertemplate\": \"%{y}[%{customdata}] = %{marker.color}<extra></extra>\", \"marker\": {\"color\": [\"rgb(196, 230, 195)\", \"rgb(150, 210, 164)\", \"rgb(109, 188, 144)\", \"rgb(77, 162, 132)\", \"rgb(54, 135, 122)\", \"rgb(38, 107, 110)\", \"rgb(29, 79, 96)\"]}, \"orientation\": \"h\", \"type\": \"bar\", \"x\": [1, 1, 1, 1, 1, 1, 1], \"y\": [\"Blugrn\", \"Blugrn\", \"Blugrn\", \"Blugrn\", \"Blugrn\", \"Blugrn\", \"Blugrn\"]}, {\"customdata\": [0, 1, 2, 3, 4, 5, 6], \"hovertemplate\": \"%{y}[%{customdata}] = %{marker.color}<extra></extra>\", \"marker\": {\"color\": [\"rgb(228, 241, 225)\", \"rgb(180, 217, 204)\", \"rgb(137, 192, 182)\", \"rgb(99, 166, 160)\", \"rgb(68, 140, 138)\", \"rgb(40, 114, 116)\", \"rgb(13, 88, 95)\"]}, \"orientation\": \"h\", \"type\": \"bar\", \"x\": [1, 1, 1, 1, 1, 1, 1], \"y\": [\"Mint\", \"Mint\", \"Mint\", \"Mint\", \"Mint\", \"Mint\", \"Mint\"]}, {\"customdata\": [0, 1, 2, 3, 4, 5, 6], \"hovertemplate\": \"%{y}[%{customdata}] = %{marker.color}<extra></extra>\", \"marker\": {\"color\": [\"rgb(254, 246, 181)\", \"rgb(255, 221, 154)\", \"rgb(255, 194, 133)\", \"rgb(255, 166, 121)\", \"rgb(250, 138, 118)\", \"rgb(241, 109, 122)\", \"rgb(225, 83, 131)\"]}, \"orientation\": \"h\", \"type\": \"bar\", \"x\": [1, 1, 1, 1, 1, 1, 1], \"y\": [\"Pinkyl\", \"Pinkyl\", \"Pinkyl\", \"Pinkyl\", \"Pinkyl\", \"Pinkyl\", \"Pinkyl\"]}, {\"customdata\": [0, 1, 2, 3, 4, 5, 6], \"hovertemplate\": \"%{y}[%{customdata}] = %{marker.color}<extra></extra>\", \"marker\": {\"color\": [\"rgb(253, 224, 197)\", \"rgb(250, 203, 166)\", \"rgb(248, 181, 139)\", \"rgb(245, 158, 114)\", \"rgb(242, 133, 93)\", \"rgb(239, 106, 76)\", \"rgb(235, 74, 64)\"]}, \"orientation\": \"h\", \"type\": \"bar\", \"x\": [1, 1, 1, 1, 1, 1, 1], \"y\": [\"Peach\", \"Peach\", \"Peach\", \"Peach\", \"Peach\", \"Peach\", \"Peach\"]}, {\"customdata\": [0, 1, 2, 3, 4, 5, 6], \"hovertemplate\": \"%{y}[%{customdata}] = %{marker.color}<extra></extra>\", \"marker\": {\"color\": [\"rgb(236, 218, 154)\", \"rgb(239, 196, 126)\", \"rgb(243, 173, 106)\", \"rgb(247, 148, 93)\", \"rgb(249, 123, 87)\", \"rgb(246, 99, 86)\", \"rgb(238, 77, 90)\"]}, \"orientation\": \"h\", \"type\": \"bar\", \"x\": [1, 1, 1, 1, 1, 1, 1], \"y\": [\"Oryel\", \"Oryel\", \"Oryel\", \"Oryel\", \"Oryel\", \"Oryel\", \"Oryel\"]}, {\"customdata\": [0, 1, 2, 3, 4, 5, 6], \"hovertemplate\": \"%{y}[%{customdata}] = %{marker.color}<extra></extra>\", \"marker\": {\"color\": [\"rgb(246, 210, 169)\", \"rgb(245, 183, 142)\", \"rgb(241, 156, 124)\", \"rgb(234, 129, 113)\", \"rgb(221, 104, 108)\", \"rgb(202, 82, 104)\", \"rgb(177, 63, 100)\"]}, \"orientation\": \"h\", \"type\": \"bar\", \"x\": [1, 1, 1, 1, 1, 1, 1], \"y\": [\"Redor\", \"Redor\", \"Redor\", \"Redor\", \"Redor\", \"Redor\", \"Redor\"]}, {\"customdata\": [0, 1, 2, 3, 4, 5, 6], \"hovertemplate\": \"%{y}[%{customdata}] = %{marker.color}<extra></extra>\", \"marker\": {\"color\": [\"rgb(251, 230, 197)\", \"rgb(245, 186, 152)\", \"rgb(238, 138, 130)\", \"rgb(220, 113, 118)\", \"rgb(200, 88, 108)\", \"rgb(156, 63, 93)\", \"rgb(112, 40, 74)\"]}, \"orientation\": \"h\", \"type\": \"bar\", \"x\": [1, 1, 1, 1, 1, 1, 1], \"y\": [\"Burgyl\", \"Burgyl\", \"Burgyl\", \"Burgyl\", \"Burgyl\", \"Burgyl\", \"Burgyl\"]}, {\"customdata\": [0, 1, 2, 3, 4, 5, 6], \"hovertemplate\": \"%{y}[%{customdata}] = %{marker.color}<extra></extra>\", \"marker\": {\"color\": [\"rgb(255, 198, 196)\", \"rgb(244, 163, 168)\", \"rgb(227, 129, 145)\", \"rgb(204, 96, 125)\", \"rgb(173, 70, 108)\", \"rgb(139, 48, 88)\", \"rgb(103, 32, 68)\"]}, \"orientation\": \"h\", \"type\": \"bar\", \"x\": [1, 1, 1, 1, 1, 1, 1], \"y\": [\"Burg\", \"Burg\", \"Burg\", \"Burg\", \"Burg\", \"Burg\", \"Burg\"]}, {\"customdata\": [0, 1, 2, 3, 4, 5, 6, 7, 8, 9, 10, 11], \"hovertemplate\": \"%{y}[%{customdata}] = %{marker.color}<extra></extra>\", \"marker\": {\"color\": [\"rgb(254, 245, 244)\", \"rgb(222, 224, 210)\", \"rgb(189, 206, 181)\", \"rgb(153, 189, 156)\", \"rgb(110, 173, 138)\", \"rgb(65, 157, 129)\", \"rgb(25, 137, 125)\", \"rgb(18, 116, 117)\", \"rgb(25, 94, 106)\", \"rgb(28, 72, 93)\", \"rgb(25, 51, 80)\", \"rgb(20, 29, 67)\"]}, \"orientation\": \"h\", \"type\": \"bar\", \"x\": [1, 1, 1, 1, 1, 1, 1, 1, 1, 1, 1, 1], \"y\": [\"tempo\", \"tempo\", \"tempo\", \"tempo\", \"tempo\", \"tempo\", \"tempo\", \"tempo\", \"tempo\", \"tempo\", \"tempo\", \"tempo\"]}, {\"customdata\": [0, 1, 2, 3, 4, 5, 6, 7, 8, 9, 10, 11], \"hovertemplate\": \"%{y}[%{customdata}] = %{marker.color}<extra></extra>\", \"marker\": {\"color\": [\"rgb(241, 236, 236)\", \"rgb(230, 209, 203)\", \"rgb(221, 182, 170)\", \"rgb(213, 156, 137)\", \"rgb(205, 129, 103)\", \"rgb(196, 102, 73)\", \"rgb(186, 74, 47)\", \"rgb(172, 44, 36)\", \"rgb(149, 19, 39)\", \"rgb(120, 14, 40)\", \"rgb(89, 13, 31)\", \"rgb(60, 9, 17)\"]}, \"orientation\": \"h\", \"type\": \"bar\", \"x\": [1, 1, 1, 1, 1, 1, 1, 1, 1, 1, 1, 1], \"y\": [\"amp\", \"amp\", \"amp\", \"amp\", \"amp\", \"amp\", \"amp\", \"amp\", \"amp\", \"amp\", \"amp\", \"amp\"]}, {\"customdata\": [0, 1, 2, 3, 4, 5, 6, 7, 8, 9, 10, 11], \"hovertemplate\": \"%{y}[%{customdata}] = %{marker.color}<extra></extra>\", \"marker\": {\"color\": [\"rgb(254, 252, 205)\", \"rgb(239, 225, 156)\", \"rgb(221, 201, 106)\", \"rgb(194, 182, 59)\", \"rgb(157, 167, 21)\", \"rgb(116, 153, 5)\", \"rgb(75, 138, 20)\", \"rgb(35, 121, 36)\", \"rgb(11, 100, 44)\", \"rgb(18, 78, 43)\", \"rgb(25, 56, 34)\", \"rgb(23, 35, 18)\"]}, \"orientation\": \"h\", \"type\": \"bar\", \"x\": [1, 1, 1, 1, 1, 1, 1, 1, 1, 1, 1, 1], \"y\": [\"speed\", \"speed\", \"speed\", \"speed\", \"speed\", \"speed\", \"speed\", \"speed\", \"speed\", \"speed\", \"speed\", \"speed\"]}, {\"customdata\": [0, 1, 2, 3, 4, 5, 6, 7, 8, 9, 10, 11], \"hovertemplate\": \"%{y}[%{customdata}] = %{marker.color}<extra></extra>\", \"marker\": {\"color\": [\"rgb(253, 237, 176)\", \"rgb(250, 205, 145)\", \"rgb(246, 173, 119)\", \"rgb(240, 142, 98)\", \"rgb(231, 109, 84)\", \"rgb(216, 80, 83)\", \"rgb(195, 56, 90)\", \"rgb(168, 40, 96)\", \"rgb(138, 29, 99)\", \"rgb(107, 24, 93)\", \"rgb(76, 21, 80)\", \"rgb(47, 15, 61)\"]}, \"orientation\": \"h\", \"type\": \"bar\", \"x\": [1, 1, 1, 1, 1, 1, 1, 1, 1, 1, 1, 1], \"y\": [\"matter\", \"matter\", \"matter\", \"matter\", \"matter\", \"matter\", \"matter\", \"matter\", \"matter\", \"matter\", \"matter\", \"matter\"]}, {\"customdata\": [0, 1, 2, 3, 4, 5, 6, 7, 8, 9, 10, 11], \"hovertemplate\": \"%{y}[%{customdata}] = %{marker.color}<extra></extra>\", \"marker\": {\"color\": [\"rgb(214, 249, 207)\", \"rgb(186, 228, 174)\", \"rgb(156, 209, 143)\", \"rgb(124, 191, 115)\", \"rgb(85, 174, 91)\", \"rgb(37, 157, 81)\", \"rgb(7, 138, 78)\", \"rgb(13, 117, 71)\", \"rgb(23, 95, 61)\", \"rgb(25, 75, 49)\", \"rgb(23, 55, 35)\", \"rgb(17, 36, 20)\"]}, \"orientation\": \"h\", \"type\": \"bar\", \"x\": [1, 1, 1, 1, 1, 1, 1, 1, 1, 1, 1, 1], \"y\": [\"algae\", \"algae\", \"algae\", \"algae\", \"algae\", \"algae\", \"algae\", \"algae\", \"algae\", \"algae\", \"algae\", \"algae\"]}, {\"customdata\": [0, 1, 2, 3, 4, 5, 6, 7, 8, 9, 10, 11], \"hovertemplate\": \"%{y}[%{customdata}] = %{marker.color}<extra></extra>\", \"marker\": {\"color\": [\"rgb(230, 240, 240)\", \"rgb(191, 221, 229)\", \"rgb(156, 201, 226)\", \"rgb(129, 180, 227)\", \"rgb(115, 154, 228)\", \"rgb(117, 127, 221)\", \"rgb(120, 100, 202)\", \"rgb(119, 74, 175)\", \"rgb(113, 50, 141)\", \"rgb(100, 31, 104)\", \"rgb(80, 20, 66)\", \"rgb(54, 14, 36)\"]}, \"orientation\": \"h\", \"type\": \"bar\", \"x\": [1, 1, 1, 1, 1, 1, 1, 1, 1, 1, 1, 1], \"y\": [\"dense\", \"dense\", \"dense\", \"dense\", \"dense\", \"dense\", \"dense\", \"dense\", \"dense\", \"dense\", \"dense\", \"dense\"]}, {\"customdata\": [0, 1, 2, 3, 4, 5, 6, 7, 8, 9, 10, 11], \"hovertemplate\": \"%{y}[%{customdata}] = %{marker.color}<extra></extra>\", \"marker\": {\"color\": [\"rgb(253, 253, 204)\", \"rgb(206, 236, 179)\", \"rgb(156, 219, 165)\", \"rgb(111, 201, 163)\", \"rgb(86, 177, 163)\", \"rgb(76, 153, 160)\", \"rgb(68, 130, 155)\", \"rgb(62, 108, 150)\", \"rgb(62, 82, 143)\", \"rgb(64, 60, 115)\", \"rgb(54, 43, 77)\", \"rgb(39, 26, 44)\"]}, \"orientation\": \"h\", \"type\": \"bar\", \"x\": [1, 1, 1, 1, 1, 1, 1, 1, 1, 1, 1, 1], \"y\": [\"deep\", \"deep\", \"deep\", \"deep\", \"deep\", \"deep\", \"deep\", \"deep\", \"deep\", \"deep\", \"deep\", \"deep\"]}, {\"customdata\": [0, 1, 2, 3, 4, 5, 6, 7, 8, 9, 10, 11], \"hovertemplate\": \"%{y}[%{customdata}] = %{marker.color}<extra></extra>\", \"marker\": {\"color\": [\"rgb(0, 0, 0)\", \"rgb(16, 16, 16)\", \"rgb(38, 38, 38)\", \"rgb(59, 59, 59)\", \"rgb(81, 80, 80)\", \"rgb(102, 101, 101)\", \"rgb(124, 123, 122)\", \"rgb(146, 146, 145)\", \"rgb(171, 171, 170)\", \"rgb(197, 197, 195)\", \"rgb(224, 224, 223)\", \"rgb(254, 254, 253)\"]}, \"orientation\": \"h\", \"type\": \"bar\", \"x\": [1, 1, 1, 1, 1, 1, 1, 1, 1, 1, 1, 1], \"y\": [\"gray\", \"gray\", \"gray\", \"gray\", \"gray\", \"gray\", \"gray\", \"gray\", \"gray\", \"gray\", \"gray\", \"gray\"]}, {\"customdata\": [0, 1, 2, 3, 4, 5, 6, 7, 8, 9, 10, 11], \"hovertemplate\": \"%{y}[%{customdata}] = %{marker.color}<extra></extra>\", \"marker\": {\"color\": [\"rgb(3, 5, 18)\", \"rgb(25, 25, 51)\", \"rgb(44, 42, 87)\", \"rgb(58, 60, 125)\", \"rgb(62, 83, 160)\", \"rgb(62, 109, 178)\", \"rgb(72, 134, 187)\", \"rgb(89, 159, 196)\", \"rgb(114, 184, 205)\", \"rgb(149, 207, 216)\", \"rgb(192, 229, 232)\", \"rgb(234, 252, 253)\"]}, \"orientation\": \"h\", \"type\": \"bar\", \"x\": [1, 1, 1, 1, 1, 1, 1, 1, 1, 1, 1, 1], \"y\": [\"ice\", \"ice\", \"ice\", \"ice\", \"ice\", \"ice\", \"ice\", \"ice\", \"ice\", \"ice\", \"ice\", \"ice\"]}, {\"customdata\": [0, 1, 2, 3, 4, 5, 6, 7, 8, 9, 10, 11], \"hovertemplate\": \"%{y}[%{customdata}] = %{marker.color}<extra></extra>\", \"marker\": {\"color\": [\"rgb(51, 19, 23)\", \"rgb(79, 28, 33)\", \"rgb(108, 36, 36)\", \"rgb(135, 47, 32)\", \"rgb(157, 66, 25)\", \"rgb(174, 88, 20)\", \"rgb(188, 111, 19)\", \"rgb(199, 137, 22)\", \"rgb(209, 164, 32)\", \"rgb(217, 192, 44)\", \"rgb(222, 222, 59)\", \"rgb(224, 253, 74)\"]}, \"orientation\": \"h\", \"type\": \"bar\", \"x\": [1, 1, 1, 1, 1, 1, 1, 1, 1, 1, 1, 1], \"y\": [\"solar\", \"solar\", \"solar\", \"solar\", \"solar\", \"solar\", \"solar\", \"solar\", \"solar\", \"solar\", \"solar\", \"solar\"]}, {\"customdata\": [0, 1, 2, 3, 4, 5, 6, 7, 8, 9, 10, 11], \"hovertemplate\": \"%{y}[%{customdata}] = %{marker.color}<extra></extra>\", \"marker\": {\"color\": [\"rgb(41, 24, 107)\", \"rgb(42, 35, 160)\", \"rgb(15, 71, 153)\", \"rgb(18, 95, 142)\", \"rgb(38, 116, 137)\", \"rgb(53, 136, 136)\", \"rgb(65, 157, 133)\", \"rgb(81, 178, 124)\", \"rgb(111, 198, 107)\", \"rgb(160, 214, 91)\", \"rgb(212, 225, 112)\", \"rgb(253, 238, 153)\"]}, \"orientation\": \"h\", \"type\": \"bar\", \"x\": [1, 1, 1, 1, 1, 1, 1, 1, 1, 1, 1, 1], \"y\": [\"haline\", \"haline\", \"haline\", \"haline\", \"haline\", \"haline\", \"haline\", \"haline\", \"haline\", \"haline\", \"haline\", \"haline\"]}, {\"customdata\": [0, 1, 2, 3, 4, 5, 6, 7, 8, 9, 10, 11], \"hovertemplate\": \"%{y}[%{customdata}] = %{marker.color}<extra></extra>\", \"marker\": {\"color\": [\"rgb(3, 35, 51)\", \"rgb(13, 48, 100)\", \"rgb(53, 50, 155)\", \"rgb(93, 62, 153)\", \"rgb(126, 77, 143)\", \"rgb(158, 89, 135)\", \"rgb(193, 100, 121)\", \"rgb(225, 113, 97)\", \"rgb(246, 139, 69)\", \"rgb(251, 173, 60)\", \"rgb(246, 211, 70)\", \"rgb(231, 250, 90)\"]}, \"orientation\": \"h\", \"type\": \"bar\", \"x\": [1, 1, 1, 1, 1, 1, 1, 1, 1, 1, 1, 1], \"y\": [\"thermal\", \"thermal\", \"thermal\", \"thermal\", \"thermal\", \"thermal\", \"thermal\", \"thermal\", \"thermal\", \"thermal\", \"thermal\", \"thermal\"]}, {\"customdata\": [0, 1, 2, 3, 4, 5, 6, 7, 8, 9, 10, 11], \"hovertemplate\": \"%{y}[%{customdata}] = %{marker.color}<extra></extra>\", \"marker\": {\"color\": [\"rgb(232, 245, 171)\", \"rgb(220, 219, 137)\", \"rgb(209, 193, 107)\", \"rgb(199, 168, 83)\", \"rgb(186, 143, 66)\", \"rgb(170, 121, 60)\", \"rgb(151, 103, 58)\", \"rgb(129, 87, 56)\", \"rgb(104, 72, 53)\", \"rgb(80, 59, 46)\", \"rgb(57, 45, 37)\", \"rgb(34, 30, 27)\"]}, \"orientation\": \"h\", \"type\": \"bar\", \"x\": [1, 1, 1, 1, 1, 1, 1, 1, 1, 1, 1, 1], \"y\": [\"turbid\", \"turbid\", \"turbid\", \"turbid\", \"turbid\", \"turbid\", \"turbid\", \"turbid\", \"turbid\", \"turbid\", \"turbid\", \"turbid\"]}, {\"customdata\": [0, 1, 2, 3, 4, 5, 6, 7, 8], \"hovertemplate\": \"%{y}[%{customdata}] = %{marker.color}<extra></extra>\", \"marker\": {\"color\": [\"rgb(255,255,204)\", \"rgb(255,237,160)\", \"rgb(254,217,118)\", \"rgb(254,178,76)\", \"rgb(253,141,60)\", \"rgb(252,78,42)\", \"rgb(227,26,28)\", \"rgb(189,0,38)\", \"rgb(128,0,38)\"]}, \"orientation\": \"h\", \"type\": \"bar\", \"x\": [1, 1, 1, 1, 1, 1, 1, 1, 1], \"y\": [\"YlOrRd\", \"YlOrRd\", \"YlOrRd\", \"YlOrRd\", \"YlOrRd\", \"YlOrRd\", \"YlOrRd\", \"YlOrRd\", \"YlOrRd\"]}, {\"customdata\": [0, 1, 2, 3, 4, 5, 6, 7, 8], \"hovertemplate\": \"%{y}[%{customdata}] = %{marker.color}<extra></extra>\", \"marker\": {\"color\": [\"rgb(255,255,229)\", \"rgb(255,247,188)\", \"rgb(254,227,145)\", \"rgb(254,196,79)\", \"rgb(254,153,41)\", \"rgb(236,112,20)\", \"rgb(204,76,2)\", \"rgb(153,52,4)\", \"rgb(102,37,6)\"]}, \"orientation\": \"h\", \"type\": \"bar\", \"x\": [1, 1, 1, 1, 1, 1, 1, 1, 1], \"y\": [\"YlOrBr\", \"YlOrBr\", \"YlOrBr\", \"YlOrBr\", \"YlOrBr\", \"YlOrBr\", \"YlOrBr\", \"YlOrBr\", \"YlOrBr\"]}, {\"customdata\": [0, 1, 2, 3, 4, 5, 6, 7, 8], \"hovertemplate\": \"%{y}[%{customdata}] = %{marker.color}<extra></extra>\", \"marker\": {\"color\": [\"rgb(255,255,217)\", \"rgb(237,248,177)\", \"rgb(199,233,180)\", \"rgb(127,205,187)\", \"rgb(65,182,196)\", \"rgb(29,145,192)\", \"rgb(34,94,168)\", \"rgb(37,52,148)\", \"rgb(8,29,88)\"]}, \"orientation\": \"h\", \"type\": \"bar\", \"x\": [1, 1, 1, 1, 1, 1, 1, 1, 1], \"y\": [\"YlGnBu\", \"YlGnBu\", \"YlGnBu\", \"YlGnBu\", \"YlGnBu\", \"YlGnBu\", \"YlGnBu\", \"YlGnBu\", \"YlGnBu\"]}, {\"customdata\": [0, 1, 2, 3, 4, 5, 6, 7, 8], \"hovertemplate\": \"%{y}[%{customdata}] = %{marker.color}<extra></extra>\", \"marker\": {\"color\": [\"rgb(255,255,229)\", \"rgb(247,252,185)\", \"rgb(217,240,163)\", \"rgb(173,221,142)\", \"rgb(120,198,121)\", \"rgb(65,171,93)\", \"rgb(35,132,67)\", \"rgb(0,104,55)\", \"rgb(0,69,41)\"]}, \"orientation\": \"h\", \"type\": \"bar\", \"x\": [1, 1, 1, 1, 1, 1, 1, 1, 1], \"y\": [\"YlGn\", \"YlGn\", \"YlGn\", \"YlGn\", \"YlGn\", \"YlGn\", \"YlGn\", \"YlGn\", \"YlGn\"]}, {\"customdata\": [0, 1, 2, 3, 4, 5, 6, 7, 8], \"hovertemplate\": \"%{y}[%{customdata}] = %{marker.color}<extra></extra>\", \"marker\": {\"color\": [\"rgb(255,245,240)\", \"rgb(254,224,210)\", \"rgb(252,187,161)\", \"rgb(252,146,114)\", \"rgb(251,106,74)\", \"rgb(239,59,44)\", \"rgb(203,24,29)\", \"rgb(165,15,21)\", \"rgb(103,0,13)\"]}, \"orientation\": \"h\", \"type\": \"bar\", \"x\": [1, 1, 1, 1, 1, 1, 1, 1, 1], \"y\": [\"Reds\", \"Reds\", \"Reds\", \"Reds\", \"Reds\", \"Reds\", \"Reds\", \"Reds\", \"Reds\"]}, {\"customdata\": [0, 1, 2, 3, 4, 5, 6, 7, 8], \"hovertemplate\": \"%{y}[%{customdata}] = %{marker.color}<extra></extra>\", \"marker\": {\"color\": [\"rgb(255,247,243)\", \"rgb(253,224,221)\", \"rgb(252,197,192)\", \"rgb(250,159,181)\", \"rgb(247,104,161)\", \"rgb(221,52,151)\", \"rgb(174,1,126)\", \"rgb(122,1,119)\", \"rgb(73,0,106)\"]}, \"orientation\": \"h\", \"type\": \"bar\", \"x\": [1, 1, 1, 1, 1, 1, 1, 1, 1], \"y\": [\"RdPu\", \"RdPu\", \"RdPu\", \"RdPu\", \"RdPu\", \"RdPu\", \"RdPu\", \"RdPu\", \"RdPu\"]}, {\"customdata\": [0, 1, 2, 3, 4, 5, 6, 7, 8, 9, 10], \"hovertemplate\": \"%{y}[%{customdata}] = %{marker.color}<extra></extra>\", \"marker\": {\"color\": [\"rgb(103,0,31)\", \"rgb(178,24,43)\", \"rgb(214,96,77)\", \"rgb(244,165,130)\", \"rgb(253,219,199)\", \"rgb(247,247,247)\", \"rgb(209,229,240)\", \"rgb(146,197,222)\", \"rgb(67,147,195)\", \"rgb(33,102,172)\", \"rgb(5,48,97)\"]}, \"orientation\": \"h\", \"type\": \"bar\", \"x\": [1, 1, 1, 1, 1, 1, 1, 1, 1, 1, 1], \"y\": [\"RdBu\", \"RdBu\", \"RdBu\", \"RdBu\", \"RdBu\", \"RdBu\", \"RdBu\", \"RdBu\", \"RdBu\", \"RdBu\", \"RdBu\"]}, {\"customdata\": [0, 1, 2, 3, 4, 5, 6, 7, 8], \"hovertemplate\": \"%{y}[%{customdata}] = %{marker.color}<extra></extra>\", \"marker\": {\"color\": [\"rgb(252,251,253)\", \"rgb(239,237,245)\", \"rgb(218,218,235)\", \"rgb(188,189,220)\", \"rgb(158,154,200)\", \"rgb(128,125,186)\", \"rgb(106,81,163)\", \"rgb(84,39,143)\", \"rgb(63,0,125)\"]}, \"orientation\": \"h\", \"type\": \"bar\", \"x\": [1, 1, 1, 1, 1, 1, 1, 1, 1], \"y\": [\"Purples\", \"Purples\", \"Purples\", \"Purples\", \"Purples\", \"Purples\", \"Purples\", \"Purples\", \"Purples\"]}, {\"customdata\": [0, 1, 2, 3, 4, 5, 6, 7, 8], \"hovertemplate\": \"%{y}[%{customdata}] = %{marker.color}<extra></extra>\", \"marker\": {\"color\": [\"rgb(247,244,249)\", \"rgb(231,225,239)\", \"rgb(212,185,218)\", \"rgb(201,148,199)\", \"rgb(223,101,176)\", \"rgb(231,41,138)\", \"rgb(206,18,86)\", \"rgb(152,0,67)\", \"rgb(103,0,31)\"]}, \"orientation\": \"h\", \"type\": \"bar\", \"x\": [1, 1, 1, 1, 1, 1, 1, 1, 1], \"y\": [\"PuRd\", \"PuRd\", \"PuRd\", \"PuRd\", \"PuRd\", \"PuRd\", \"PuRd\", \"PuRd\", \"PuRd\"]}, {\"customdata\": [0, 1, 2, 3, 4, 5, 6, 7, 8], \"hovertemplate\": \"%{y}[%{customdata}] = %{marker.color}<extra></extra>\", \"marker\": {\"color\": [\"rgb(255,247,251)\", \"rgb(236,226,240)\", \"rgb(208,209,230)\", \"rgb(166,189,219)\", \"rgb(103,169,207)\", \"rgb(54,144,192)\", \"rgb(2,129,138)\", \"rgb(1,108,89)\", \"rgb(1,70,54)\"]}, \"orientation\": \"h\", \"type\": \"bar\", \"x\": [1, 1, 1, 1, 1, 1, 1, 1, 1], \"y\": [\"PuBuGn\", \"PuBuGn\", \"PuBuGn\", \"PuBuGn\", \"PuBuGn\", \"PuBuGn\", \"PuBuGn\", \"PuBuGn\", \"PuBuGn\"]}, {\"customdata\": [0, 1, 2, 3, 4, 5, 6, 7, 8], \"hovertemplate\": \"%{y}[%{customdata}] = %{marker.color}<extra></extra>\", \"marker\": {\"color\": [\"rgb(255,247,251)\", \"rgb(236,231,242)\", \"rgb(208,209,230)\", \"rgb(166,189,219)\", \"rgb(116,169,207)\", \"rgb(54,144,192)\", \"rgb(5,112,176)\", \"rgb(4,90,141)\", \"rgb(2,56,88)\"]}, \"orientation\": \"h\", \"type\": \"bar\", \"x\": [1, 1, 1, 1, 1, 1, 1, 1, 1], \"y\": [\"PuBu\", \"PuBu\", \"PuBu\", \"PuBu\", \"PuBu\", \"PuBu\", \"PuBu\", \"PuBu\", \"PuBu\"]}, {\"customdata\": [0, 1, 2, 3, 4, 5, 6, 7, 8], \"hovertemplate\": \"%{y}[%{customdata}] = %{marker.color}<extra></extra>\", \"marker\": {\"color\": [\"rgb(255,245,235)\", \"rgb(254,230,206)\", \"rgb(253,208,162)\", \"rgb(253,174,107)\", \"rgb(253,141,60)\", \"rgb(241,105,19)\", \"rgb(217,72,1)\", \"rgb(166,54,3)\", \"rgb(127,39,4)\"]}, \"orientation\": \"h\", \"type\": \"bar\", \"x\": [1, 1, 1, 1, 1, 1, 1, 1, 1], \"y\": [\"Oranges\", \"Oranges\", \"Oranges\", \"Oranges\", \"Oranges\", \"Oranges\", \"Oranges\", \"Oranges\", \"Oranges\"]}, {\"customdata\": [0, 1, 2, 3, 4, 5, 6, 7, 8], \"hovertemplate\": \"%{y}[%{customdata}] = %{marker.color}<extra></extra>\", \"marker\": {\"color\": [\"rgb(255,247,236)\", \"rgb(254,232,200)\", \"rgb(253,212,158)\", \"rgb(253,187,132)\", \"rgb(252,141,89)\", \"rgb(239,101,72)\", \"rgb(215,48,31)\", \"rgb(179,0,0)\", \"rgb(127,0,0)\"]}, \"orientation\": \"h\", \"type\": \"bar\", \"x\": [1, 1, 1, 1, 1, 1, 1, 1, 1], \"y\": [\"OrRd\", \"OrRd\", \"OrRd\", \"OrRd\", \"OrRd\", \"OrRd\", \"OrRd\", \"OrRd\", \"OrRd\"]}, {\"customdata\": [0, 1, 2, 3, 4, 5, 6, 7, 8], \"hovertemplate\": \"%{y}[%{customdata}] = %{marker.color}<extra></extra>\", \"marker\": {\"color\": [\"rgb(255,255,255)\", \"rgb(240,240,240)\", \"rgb(217,217,217)\", \"rgb(189,189,189)\", \"rgb(150,150,150)\", \"rgb(115,115,115)\", \"rgb(82,82,82)\", \"rgb(37,37,37)\", \"rgb(0,0,0)\"]}, \"orientation\": \"h\", \"type\": \"bar\", \"x\": [1, 1, 1, 1, 1, 1, 1, 1, 1], \"y\": [\"Greys\", \"Greys\", \"Greys\", \"Greys\", \"Greys\", \"Greys\", \"Greys\", \"Greys\", \"Greys\"]}, {\"customdata\": [0, 1, 2, 3, 4, 5, 6, 7, 8], \"hovertemplate\": \"%{y}[%{customdata}] = %{marker.color}<extra></extra>\", \"marker\": {\"color\": [\"rgb(247,252,245)\", \"rgb(229,245,224)\", \"rgb(199,233,192)\", \"rgb(161,217,155)\", \"rgb(116,196,118)\", \"rgb(65,171,93)\", \"rgb(35,139,69)\", \"rgb(0,109,44)\", \"rgb(0,68,27)\"]}, \"orientation\": \"h\", \"type\": \"bar\", \"x\": [1, 1, 1, 1, 1, 1, 1, 1, 1], \"y\": [\"Greens\", \"Greens\", \"Greens\", \"Greens\", \"Greens\", \"Greens\", \"Greens\", \"Greens\", \"Greens\"]}, {\"customdata\": [0, 1, 2, 3, 4, 5, 6, 7, 8], \"hovertemplate\": \"%{y}[%{customdata}] = %{marker.color}<extra></extra>\", \"marker\": {\"color\": [\"rgb(247,252,240)\", \"rgb(224,243,219)\", \"rgb(204,235,197)\", \"rgb(168,221,181)\", \"rgb(123,204,196)\", \"rgb(78,179,211)\", \"rgb(43,140,190)\", \"rgb(8,104,172)\", \"rgb(8,64,129)\"]}, \"orientation\": \"h\", \"type\": \"bar\", \"x\": [1, 1, 1, 1, 1, 1, 1, 1, 1], \"y\": [\"GnBu\", \"GnBu\", \"GnBu\", \"GnBu\", \"GnBu\", \"GnBu\", \"GnBu\", \"GnBu\", \"GnBu\"]}, {\"customdata\": [0, 1, 2, 3, 4, 5, 6, 7, 8], \"hovertemplate\": \"%{y}[%{customdata}] = %{marker.color}<extra></extra>\", \"marker\": {\"color\": [\"rgb(247,252,253)\", \"rgb(224,236,244)\", \"rgb(191,211,230)\", \"rgb(158,188,218)\", \"rgb(140,150,198)\", \"rgb(140,107,177)\", \"rgb(136,65,157)\", \"rgb(129,15,124)\", \"rgb(77,0,75)\"]}, \"orientation\": \"h\", \"type\": \"bar\", \"x\": [1, 1, 1, 1, 1, 1, 1, 1, 1], \"y\": [\"BuPu\", \"BuPu\", \"BuPu\", \"BuPu\", \"BuPu\", \"BuPu\", \"BuPu\", \"BuPu\", \"BuPu\"]}, {\"customdata\": [0, 1, 2, 3, 4, 5, 6, 7, 8], \"hovertemplate\": \"%{y}[%{customdata}] = %{marker.color}<extra></extra>\", \"marker\": {\"color\": [\"rgb(247,252,253)\", \"rgb(229,245,249)\", \"rgb(204,236,230)\", \"rgb(153,216,201)\", \"rgb(102,194,164)\", \"rgb(65,174,118)\", \"rgb(35,139,69)\", \"rgb(0,109,44)\", \"rgb(0,68,27)\"]}, \"orientation\": \"h\", \"type\": \"bar\", \"x\": [1, 1, 1, 1, 1, 1, 1, 1, 1], \"y\": [\"BuGn\", \"BuGn\", \"BuGn\", \"BuGn\", \"BuGn\", \"BuGn\", \"BuGn\", \"BuGn\", \"BuGn\"]}, {\"customdata\": [0, 1, 2, 3, 4, 5, 6, 7, 8], \"hovertemplate\": \"%{y}[%{customdata}] = %{marker.color}<extra></extra>\", \"marker\": {\"color\": [\"rgb(247,251,255)\", \"rgb(222,235,247)\", \"rgb(198,219,239)\", \"rgb(158,202,225)\", \"rgb(107,174,214)\", \"rgb(66,146,198)\", \"rgb(33,113,181)\", \"rgb(8,81,156)\", \"rgb(8,48,107)\"]}, \"orientation\": \"h\", \"type\": \"bar\", \"x\": [1, 1, 1, 1, 1, 1, 1, 1, 1], \"y\": [\"Blues\", \"Blues\", \"Blues\", \"Blues\", \"Blues\", \"Blues\", \"Blues\", \"Blues\", \"Blues\"]}, {\"customdata\": [0, 1, 2, 3, 4, 5, 6, 7, 8], \"hovertemplate\": \"%{y}[%{customdata}] = %{marker.color}<extra></extra>\", \"marker\": {\"color\": [\"rgb(150,0,90)\", \"rgb(0,0,200)\", \"rgb(0,25,255)\", \"rgb(0,152,255)\", \"rgb(44,255,150)\", \"rgb(151,255,0)\", \"rgb(255,234,0)\", \"rgb(255,111,0)\", \"rgb(255,0,0)\"]}, \"orientation\": \"h\", \"type\": \"bar\", \"x\": [1, 1, 1, 1, 1, 1, 1, 1, 1], \"y\": [\"Rainbow\", \"Rainbow\", \"Rainbow\", \"Rainbow\", \"Rainbow\", \"Rainbow\", \"Rainbow\", \"Rainbow\", \"Rainbow\"]}, {\"customdata\": [0, 1, 2, 3, 4, 5], \"hovertemplate\": \"%{y}[%{customdata}] = %{marker.color}<extra></extra>\", \"marker\": {\"color\": [\"rgb(0,0,131)\", \"rgb(0,60,170)\", \"rgb(5,255,255)\", \"rgb(255,255,0)\", \"rgb(250,0,0)\", \"rgb(128,0,0)\"]}, \"orientation\": \"h\", \"type\": \"bar\", \"x\": [1, 1, 1, 1, 1, 1], \"y\": [\"Jet\", \"Jet\", \"Jet\", \"Jet\", \"Jet\", \"Jet\"]}, {\"customdata\": [0, 1, 2, 3], \"hovertemplate\": \"%{y}[%{customdata}] = %{marker.color}<extra></extra>\", \"marker\": {\"color\": [\"rgb(0,0,0)\", \"rgb(230,0,0)\", \"rgb(255,210,0)\", \"rgb(255,255,255)\"]}, \"orientation\": \"h\", \"type\": \"bar\", \"x\": [1, 1, 1, 1], \"y\": [\"Hot\", \"Hot\", \"Hot\", \"Hot\"]}, {\"customdata\": [0, 1, 2, 3, 4, 5], \"hovertemplate\": \"%{y}[%{customdata}] = %{marker.color}<extra></extra>\", \"marker\": {\"color\": [\"rgb(0,0,0)\", \"rgb(30,0,100)\", \"rgb(120,0,100)\", \"rgb(160,90,0)\", \"rgb(230,200,0)\", \"rgb(255,250,220)\"]}, \"orientation\": \"h\", \"type\": \"bar\", \"x\": [1, 1, 1, 1, 1, 1], \"y\": [\"Electric\", \"Electric\", \"Electric\", \"Electric\", \"Electric\", \"Electric\"]}, {\"customdata\": [0, 1], \"hovertemplate\": \"%{y}[%{customdata}] = %{marker.color}<extra></extra>\", \"marker\": {\"color\": [\"rgb(0,0,255)\", \"rgb(255,0,0)\"]}, \"orientation\": \"h\", \"type\": \"bar\", \"x\": [1, 1], \"y\": [\"Bluered\", \"Bluered\"]}, {\"customdata\": [0, 1, 2, 3, 4], \"hovertemplate\": \"%{y}[%{customdata}] = %{marker.color}<extra></extra>\", \"marker\": {\"color\": [\"rgb(0,0,0)\", \"rgb(230,0,0)\", \"rgb(230,210,0)\", \"rgb(255,255,255)\", \"rgb(160,200,255)\"]}, \"orientation\": \"h\", \"type\": \"bar\", \"x\": [1, 1, 1, 1, 1], \"y\": [\"Blackbody\", \"Blackbody\", \"Blackbody\", \"Blackbody\", \"Blackbody\"]}, {\"customdata\": [0, 1, 2, 3, 4, 5, 6, 7, 8, 9], \"hovertemplate\": \"%{y}[%{customdata}] = %{marker.color}<extra></extra>\", \"marker\": {\"color\": [\"#0d0887\", \"#46039f\", \"#7201a8\", \"#9c179e\", \"#bd3786\", \"#d8576b\", \"#ed7953\", \"#fb9f3a\", \"#fdca26\", \"#f0f921\"]}, \"orientation\": \"h\", \"type\": \"bar\", \"x\": [1, 1, 1, 1, 1, 1, 1, 1, 1, 1], \"y\": [\"Plasma\", \"Plasma\", \"Plasma\", \"Plasma\", \"Plasma\", \"Plasma\", \"Plasma\", \"Plasma\", \"Plasma\", \"Plasma\"]}, {\"customdata\": [0, 1, 2, 3, 4, 5, 6, 7, 8, 9], \"hovertemplate\": \"%{y}[%{customdata}] = %{marker.color}<extra></extra>\", \"marker\": {\"color\": [\"#000004\", \"#180f3d\", \"#440f76\", \"#721f81\", \"#9e2f7f\", \"#cd4071\", \"#f1605d\", \"#fd9668\", \"#feca8d\", \"#fcfdbf\"]}, \"orientation\": \"h\", \"type\": \"bar\", \"x\": [1, 1, 1, 1, 1, 1, 1, 1, 1, 1], \"y\": [\"Magma\", \"Magma\", \"Magma\", \"Magma\", \"Magma\", \"Magma\", \"Magma\", \"Magma\", \"Magma\", \"Magma\"]}, {\"customdata\": [0, 1, 2, 3, 4, 5, 6, 7, 8, 9], \"hovertemplate\": \"%{y}[%{customdata}] = %{marker.color}<extra></extra>\", \"marker\": {\"color\": [\"#000004\", \"#1b0c41\", \"#4a0c6b\", \"#781c6d\", \"#a52c60\", \"#cf4446\", \"#ed6925\", \"#fb9b06\", \"#f7d13d\", \"#fcffa4\"]}, \"orientation\": \"h\", \"type\": \"bar\", \"x\": [1, 1, 1, 1, 1, 1, 1, 1, 1, 1], \"y\": [\"Inferno\", \"Inferno\", \"Inferno\", \"Inferno\", \"Inferno\", \"Inferno\", \"Inferno\", \"Inferno\", \"Inferno\", \"Inferno\"]}, {\"customdata\": [0, 1, 2, 3, 4, 5, 6, 7, 8, 9], \"hovertemplate\": \"%{y}[%{customdata}] = %{marker.color}<extra></extra>\", \"marker\": {\"color\": [\"#00224e\", \"#123570\", \"#3b496c\", \"#575d6d\", \"#707173\", \"#8a8678\", \"#a59c74\", \"#c3b369\", \"#e1cc55\", \"#fee838\"]}, \"orientation\": \"h\", \"type\": \"bar\", \"x\": [1, 1, 1, 1, 1, 1, 1, 1, 1, 1], \"y\": [\"Cividis\", \"Cividis\", \"Cividis\", \"Cividis\", \"Cividis\", \"Cividis\", \"Cividis\", \"Cividis\", \"Cividis\", \"Cividis\"]}, {\"customdata\": [0, 1, 2, 3, 4, 5, 6, 7, 8, 9], \"hovertemplate\": \"%{y}[%{customdata}] = %{marker.color}<extra></extra>\", \"marker\": {\"color\": [\"#440154\", \"#482878\", \"#3e4989\", \"#31688e\", \"#26828e\", \"#1f9e89\", \"#35b779\", \"#6ece58\", \"#b5de2b\", \"#fde725\"]}, \"orientation\": \"h\", \"type\": \"bar\", \"x\": [1, 1, 1, 1, 1, 1, 1, 1, 1, 1], \"y\": [\"Viridis\", \"Viridis\", \"Viridis\", \"Viridis\", \"Viridis\", \"Viridis\", \"Viridis\", \"Viridis\", \"Viridis\", \"Viridis\"]}, {\"customdata\": [0, 1, 2, 3, 4, 5, 6, 7, 8, 9, 10, 11, 12], \"hovertemplate\": \"%{y}[%{customdata}] = %{marker.color}<extra></extra>\", \"marker\": {\"color\": [\"#0508b8\", \"#1910d8\", \"#3c19f0\", \"#6b1cfb\", \"#981cfd\", \"#bf1cfd\", \"#dd2bfd\", \"#f246fe\", \"#fc67fd\", \"#fe88fc\", \"#fea5fd\", \"#febefe\", \"#fec3fe\"]}, \"orientation\": \"h\", \"type\": \"bar\", \"x\": [1, 1, 1, 1, 1, 1, 1, 1, 1, 1, 1, 1, 1], \"y\": [\"Plotly3\", \"Plotly3\", \"Plotly3\", \"Plotly3\", \"Plotly3\", \"Plotly3\", \"Plotly3\", \"Plotly3\", \"Plotly3\", \"Plotly3\", \"Plotly3\", \"Plotly3\", \"Plotly3\"]}],                        {\"bargap\": 0.5, \"barmode\": \"stack\", \"barnorm\": \"fraction\", \"height\": 2600, \"margin\": {\"b\": 10}, \"showlegend\": false, \"template\": {\"data\": {\"bar\": [{\"error_x\": {\"color\": \"#2a3f5f\"}, \"error_y\": {\"color\": \"#2a3f5f\"}, \"marker\": {\"line\": {\"color\": \"#E5ECF6\", \"width\": 0.5}}, \"type\": \"bar\"}], \"barpolar\": [{\"marker\": {\"line\": {\"color\": \"#E5ECF6\", \"width\": 0.5}}, \"type\": \"barpolar\"}], \"carpet\": [{\"aaxis\": {\"endlinecolor\": \"#2a3f5f\", \"gridcolor\": \"white\", \"linecolor\": \"white\", \"minorgridcolor\": \"white\", \"startlinecolor\": \"#2a3f5f\"}, \"baxis\": {\"endlinecolor\": \"#2a3f5f\", \"gridcolor\": \"white\", \"linecolor\": \"white\", \"minorgridcolor\": \"white\", \"startlinecolor\": \"#2a3f5f\"}, \"type\": \"carpet\"}], \"choropleth\": [{\"colorbar\": {\"outlinewidth\": 0, \"ticks\": \"\"}, \"type\": \"choropleth\"}], \"contour\": [{\"colorbar\": {\"outlinewidth\": 0, \"ticks\": \"\"}, \"colorscale\": [[0.0, \"#0d0887\"], [0.1111111111111111, \"#46039f\"], [0.2222222222222222, \"#7201a8\"], [0.3333333333333333, \"#9c179e\"], [0.4444444444444444, \"#bd3786\"], [0.5555555555555556, \"#d8576b\"], [0.6666666666666666, \"#ed7953\"], [0.7777777777777778, \"#fb9f3a\"], [0.8888888888888888, \"#fdca26\"], [1.0, \"#f0f921\"]], \"type\": \"contour\"}], \"contourcarpet\": [{\"colorbar\": {\"outlinewidth\": 0, \"ticks\": \"\"}, \"type\": \"contourcarpet\"}], \"heatmap\": [{\"colorbar\": {\"outlinewidth\": 0, \"ticks\": \"\"}, \"colorscale\": [[0.0, \"#0d0887\"], [0.1111111111111111, \"#46039f\"], [0.2222222222222222, \"#7201a8\"], [0.3333333333333333, \"#9c179e\"], [0.4444444444444444, \"#bd3786\"], [0.5555555555555556, \"#d8576b\"], [0.6666666666666666, \"#ed7953\"], [0.7777777777777778, \"#fb9f3a\"], [0.8888888888888888, \"#fdca26\"], [1.0, \"#f0f921\"]], \"type\": \"heatmap\"}], \"heatmapgl\": [{\"colorbar\": {\"outlinewidth\": 0, \"ticks\": \"\"}, \"colorscale\": [[0.0, \"#0d0887\"], [0.1111111111111111, \"#46039f\"], [0.2222222222222222, \"#7201a8\"], [0.3333333333333333, \"#9c179e\"], [0.4444444444444444, \"#bd3786\"], [0.5555555555555556, \"#d8576b\"], [0.6666666666666666, \"#ed7953\"], [0.7777777777777778, \"#fb9f3a\"], [0.8888888888888888, \"#fdca26\"], [1.0, \"#f0f921\"]], \"type\": \"heatmapgl\"}], \"histogram\": [{\"marker\": {\"colorbar\": {\"outlinewidth\": 0, \"ticks\": \"\"}}, \"type\": \"histogram\"}], \"histogram2d\": [{\"colorbar\": {\"outlinewidth\": 0, \"ticks\": \"\"}, \"colorscale\": [[0.0, \"#0d0887\"], [0.1111111111111111, \"#46039f\"], [0.2222222222222222, \"#7201a8\"], [0.3333333333333333, \"#9c179e\"], [0.4444444444444444, \"#bd3786\"], [0.5555555555555556, \"#d8576b\"], [0.6666666666666666, \"#ed7953\"], [0.7777777777777778, \"#fb9f3a\"], [0.8888888888888888, \"#fdca26\"], [1.0, \"#f0f921\"]], \"type\": \"histogram2d\"}], \"histogram2dcontour\": [{\"colorbar\": {\"outlinewidth\": 0, \"ticks\": \"\"}, \"colorscale\": [[0.0, \"#0d0887\"], [0.1111111111111111, \"#46039f\"], [0.2222222222222222, \"#7201a8\"], [0.3333333333333333, \"#9c179e\"], [0.4444444444444444, \"#bd3786\"], [0.5555555555555556, \"#d8576b\"], [0.6666666666666666, \"#ed7953\"], [0.7777777777777778, \"#fb9f3a\"], [0.8888888888888888, \"#fdca26\"], [1.0, \"#f0f921\"]], \"type\": \"histogram2dcontour\"}], \"mesh3d\": [{\"colorbar\": {\"outlinewidth\": 0, \"ticks\": \"\"}, \"type\": \"mesh3d\"}], \"parcoords\": [{\"line\": {\"colorbar\": {\"outlinewidth\": 0, \"ticks\": \"\"}}, \"type\": \"parcoords\"}], \"pie\": [{\"automargin\": true, \"type\": \"pie\"}], \"scatter\": [{\"marker\": {\"colorbar\": {\"outlinewidth\": 0, \"ticks\": \"\"}}, \"type\": \"scatter\"}], \"scatter3d\": [{\"line\": {\"colorbar\": {\"outlinewidth\": 0, \"ticks\": \"\"}}, \"marker\": {\"colorbar\": {\"outlinewidth\": 0, \"ticks\": \"\"}}, \"type\": \"scatter3d\"}], \"scattercarpet\": [{\"marker\": {\"colorbar\": {\"outlinewidth\": 0, \"ticks\": \"\"}}, \"type\": \"scattercarpet\"}], \"scattergeo\": [{\"marker\": {\"colorbar\": {\"outlinewidth\": 0, \"ticks\": \"\"}}, \"type\": \"scattergeo\"}], \"scattergl\": [{\"marker\": {\"colorbar\": {\"outlinewidth\": 0, \"ticks\": \"\"}}, \"type\": \"scattergl\"}], \"scattermapbox\": [{\"marker\": {\"colorbar\": {\"outlinewidth\": 0, \"ticks\": \"\"}}, \"type\": \"scattermapbox\"}], \"scatterpolar\": [{\"marker\": {\"colorbar\": {\"outlinewidth\": 0, \"ticks\": \"\"}}, \"type\": \"scatterpolar\"}], \"scatterpolargl\": [{\"marker\": {\"colorbar\": {\"outlinewidth\": 0, \"ticks\": \"\"}}, \"type\": \"scatterpolargl\"}], \"scatterternary\": [{\"marker\": {\"colorbar\": {\"outlinewidth\": 0, \"ticks\": \"\"}}, \"type\": \"scatterternary\"}], \"surface\": [{\"colorbar\": {\"outlinewidth\": 0, \"ticks\": \"\"}, \"colorscale\": [[0.0, \"#0d0887\"], [0.1111111111111111, \"#46039f\"], [0.2222222222222222, \"#7201a8\"], [0.3333333333333333, \"#9c179e\"], [0.4444444444444444, \"#bd3786\"], [0.5555555555555556, \"#d8576b\"], [0.6666666666666666, \"#ed7953\"], [0.7777777777777778, \"#fb9f3a\"], [0.8888888888888888, \"#fdca26\"], [1.0, \"#f0f921\"]], \"type\": \"surface\"}], \"table\": [{\"cells\": {\"fill\": {\"color\": \"#EBF0F8\"}, \"line\": {\"color\": \"white\"}}, \"header\": {\"fill\": {\"color\": \"#C8D4E3\"}, \"line\": {\"color\": \"white\"}}, \"type\": \"table\"}]}, \"layout\": {\"annotationdefaults\": {\"arrowcolor\": \"#2a3f5f\", \"arrowhead\": 0, \"arrowwidth\": 1}, \"coloraxis\": {\"colorbar\": {\"outlinewidth\": 0, \"ticks\": \"\"}}, \"colorscale\": {\"diverging\": [[0, \"#8e0152\"], [0.1, \"#c51b7d\"], [0.2, \"#de77ae\"], [0.3, \"#f1b6da\"], [0.4, \"#fde0ef\"], [0.5, \"#f7f7f7\"], [0.6, \"#e6f5d0\"], [0.7, \"#b8e186\"], [0.8, \"#7fbc41\"], [0.9, \"#4d9221\"], [1, \"#276419\"]], \"sequential\": [[0.0, \"#0d0887\"], [0.1111111111111111, \"#46039f\"], [0.2222222222222222, \"#7201a8\"], [0.3333333333333333, \"#9c179e\"], [0.4444444444444444, \"#bd3786\"], [0.5555555555555556, \"#d8576b\"], [0.6666666666666666, \"#ed7953\"], [0.7777777777777778, \"#fb9f3a\"], [0.8888888888888888, \"#fdca26\"], [1.0, \"#f0f921\"]], \"sequentialminus\": [[0.0, \"#0d0887\"], [0.1111111111111111, \"#46039f\"], [0.2222222222222222, \"#7201a8\"], [0.3333333333333333, \"#9c179e\"], [0.4444444444444444, \"#bd3786\"], [0.5555555555555556, \"#d8576b\"], [0.6666666666666666, \"#ed7953\"], [0.7777777777777778, \"#fb9f3a\"], [0.8888888888888888, \"#fdca26\"], [1.0, \"#f0f921\"]]}, \"colorway\": [\"#636efa\", \"#EF553B\", \"#00cc96\", \"#ab63fa\", \"#FFA15A\", \"#19d3f3\", \"#FF6692\", \"#B6E880\", \"#FF97FF\", \"#FECB52\"], \"font\": {\"color\": \"#2a3f5f\"}, \"geo\": {\"bgcolor\": \"white\", \"lakecolor\": \"white\", \"landcolor\": \"#E5ECF6\", \"showlakes\": true, \"showland\": true, \"subunitcolor\": \"white\"}, \"hoverlabel\": {\"align\": \"left\"}, \"hovermode\": \"closest\", \"mapbox\": {\"style\": \"light\"}, \"paper_bgcolor\": \"white\", \"plot_bgcolor\": \"#E5ECF6\", \"polar\": {\"angularaxis\": {\"gridcolor\": \"white\", \"linecolor\": \"white\", \"ticks\": \"\"}, \"bgcolor\": \"#E5ECF6\", \"radialaxis\": {\"gridcolor\": \"white\", \"linecolor\": \"white\", \"ticks\": \"\"}}, \"scene\": {\"xaxis\": {\"backgroundcolor\": \"#E5ECF6\", \"gridcolor\": \"white\", \"gridwidth\": 2, \"linecolor\": \"white\", \"showbackground\": true, \"ticks\": \"\", \"zerolinecolor\": \"white\"}, \"yaxis\": {\"backgroundcolor\": \"#E5ECF6\", \"gridcolor\": \"white\", \"gridwidth\": 2, \"linecolor\": \"white\", \"showbackground\": true, \"ticks\": \"\", \"zerolinecolor\": \"white\"}, \"zaxis\": {\"backgroundcolor\": \"#E5ECF6\", \"gridcolor\": \"white\", \"gridwidth\": 2, \"linecolor\": \"white\", \"showbackground\": true, \"ticks\": \"\", \"zerolinecolor\": \"white\"}}, \"shapedefaults\": {\"line\": {\"color\": \"#2a3f5f\"}}, \"ternary\": {\"aaxis\": {\"gridcolor\": \"white\", \"linecolor\": \"white\", \"ticks\": \"\"}, \"baxis\": {\"gridcolor\": \"white\", \"linecolor\": \"white\", \"ticks\": \"\"}, \"bgcolor\": \"#E5ECF6\", \"caxis\": {\"gridcolor\": \"white\", \"linecolor\": \"white\", \"ticks\": \"\"}}, \"title\": {\"x\": 0.05}, \"xaxis\": {\"automargin\": true, \"gridcolor\": \"white\", \"linecolor\": \"white\", \"ticks\": \"\", \"title\": {\"standoff\": 15}, \"zerolinecolor\": \"white\", \"zerolinewidth\": 2}, \"yaxis\": {\"automargin\": true, \"gridcolor\": \"white\", \"linecolor\": \"white\", \"ticks\": \"\", \"title\": {\"standoff\": 15}, \"zerolinecolor\": \"white\", \"zerolinewidth\": 2}}}, \"title\": {\"text\": \"plotly.colors.sequential\"}, \"xaxis\": {\"range\": [-0.02, 1.02], \"showgrid\": false, \"showticklabels\": false}},                        {\"responsive\": true}                    ).then(function(){\n",
       "                            \n",
       "var gd = document.getElementById('1f8b5862-95a7-4522-834f-87943cb7f4f0');\n",
       "var x = new MutationObserver(function (mutations, observer) {{\n",
       "        var display = window.getComputedStyle(gd).display;\n",
       "        if (!display || display === 'none') {{\n",
       "            console.log([gd, 'removed!']);\n",
       "            Plotly.purge(gd);\n",
       "            observer.disconnect();\n",
       "        }}\n",
       "}});\n",
       "\n",
       "// Listen for the removal of the full notebook cells\n",
       "var notebookContainer = gd.closest('#notebook-container');\n",
       "if (notebookContainer) {{\n",
       "    x.observe(notebookContainer, {childList: true});\n",
       "}}\n",
       "\n",
       "// Listen for the clearing of the current output cell\n",
       "var outputEl = gd.closest('.output');\n",
       "if (outputEl) {{\n",
       "    x.observe(outputEl, {childList: true});\n",
       "}}\n",
       "\n",
       "                        })                };                });            </script>        </div>"
      ]
     },
     "metadata": {},
     "output_type": "display_data"
    }
   ],
   "source": [
    "px.colors.sequential.swatches()"
   ]
  },
  {
   "cell_type": "markdown",
   "metadata": {},
   "source": [
    "## Generating density map for São Paulo, Brasilia and Rio de Janeiro"
   ]
  },
  {
   "cell_type": "code",
   "execution_count": null,
   "metadata": {},
   "outputs": [],
   "source": [
    "def load_sector_geodataframe(uf,cod_municipio):\n",
    "    cod_municipio = str(cod_municipio)\n",
    "    gdf = gpd.read_file(f'data/territorio/setores2010/{uf}/{cod_municipio}/{cod_municipio}.shp')\n",
    "    return gdf\n",
    "\n",
    "def plot_density_map(gdf):\n",
    "\n",
    "#    gdf.drop(labels=['CD_GEOCODM', 'NM_MUNICIP', 'CD_GEOCODB'], axis=1, inplace=True)\n",
    "    gdf['Pop/ha'] = gdf['Pop/ha'].fillna(0).astype(np.int64)\n",
    "    gdf['Hab/ha'] = pd.cut(gdf['Pop/ha'], bins=[0, 10,25,50,75,100,9999999], labels=['Até 10', '10 a 25', '25 a 50', '50 a 75', '75 a 100', 'acima de 100'])\n",
    "    gdf['Hab/ha'].fillna('Até 10', inplace=True)\n",
    "\n",
    "    \n",
    "    lon = gdf.dissolve(by='NM_MUNICIP').centroid.x[0]\n",
    "    lat = gdf.dissolve(by='NM_MUNICIP').centroid.y[0]\n",
    "\n",
    "    minx, miny, maxx, maxy = gdf.total_bounds\n",
    "    max_bound = max(abs(maxx-minx), abs(maxy-miny)) * 111\n",
    "    zoom = 12.7 - np.log(max_bound)\n",
    "\n",
    "    fig_map = px.choropleth_mapbox(\n",
    "        data_frame=gdf\n",
    "        , geojson=gdf.geometry\n",
    "    #    , featureidkey=gdf.index\n",
    "        , locations=gdf.index\n",
    "        , color='Hab/ha'\n",
    "    #    , hover_name='CD_GEOCODI'\n",
    "        , hover_data=None\n",
    "        , zoom=zoom\n",
    "        ,center={\"lat\": lat, \"lon\": lon}\n",
    "        , mapbox_style=\"carto-positron\"\n",
    "        , title='<b>Densidade Demográfica<b>'\n",
    "        , template=None\n",
    "        , width=None\n",
    "        , height=400\n",
    "        , opacity=0.3\n",
    "        , category_orders={'Hab/ha':['Até 10', '10 a 25', '25 a 50', '50 a 75', '75 a 100', 'acima de 100']}\n",
    "        , color_discrete_sequence=px.colors.sequential.RdBu_r[5:]\n",
    "        )\n",
    "    \n",
    "    fig_map.update_layout(margin=dict(l=0, r=0, b=40, t=40))\n",
    "    fig_map.layout.title.font.size = 18\n",
    "    fig_map.update_traces(marker_line_width=0.1)\n",
    "\n",
    "    return fig_map\n",
    "\n",
    "cod_municipio = 3550308\n",
    "\n",
    "gdf = load_sector_geodataframe(uf='SP', cod_municipio=3550308)\n",
    "\n",
    "fig = plot_density_map(gdf=gdf)\n",
    "\n",
    "fig.to_json(f'data/pop/setores/{str(cod_municipio)}.json')"
   ]
  }
 ],
 "metadata": {
  "kernelspec": {
   "display_name": "aulas",
   "language": "python",
   "name": "aulas"
  },
  "language_info": {
   "codemirror_mode": {
    "name": "ipython",
    "version": 3
   },
   "file_extension": ".py",
   "mimetype": "text/x-python",
   "name": "python",
   "nbconvert_exporter": "python",
   "pygments_lexer": "ipython3",
   "version": "3.6.10"
  },
  "widgets": {
   "application/vnd.jupyter.widget-state+json": {
    "state": {},
    "version_major": 2,
    "version_minor": 0
   }
  }
 },
 "nbformat": 4,
 "nbformat_minor": 4
}
